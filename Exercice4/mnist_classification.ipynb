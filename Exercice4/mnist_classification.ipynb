{
 "cells": [
  {
   "cell_type": "markdown",
   "metadata": {},
   "source": [
    "# Mnist classification\n",
    "\n",
    "### Exercise objectives\n",
    "- Implement a CNN architecture with convolution layers\n",
    "- Run a Neural Network on images\n",
    "\n",
    "<hr>\n",
    "<hr>\n",
    "\n",
    "Let's imagine for a moment that you are working for the postal office (and you're in 1970 / 1980). You deal everyday with a enourmous amont of letters, and you want to automate the process of reading the numbers that have been handwritten. This task, called the _Handwriting Recognition_, has been a very complex that has been handled by Bell Labs (among other) where Yann Le Cun used to work, and where such things have been developed : \n",
    "\n",
    "![Number recognition](recognition.gif)\n",
    "\n",
    "\n",
    "The idea is that you have an image (not a video: the animation is here to present what happens with different images) as an input and you try to predict the figure on the image - it corresponds to a classification task, where the output is the class (=figure) the image belongs to, from 0 to 9.\n",
    "\n",
    "This task used to be quite complex back in the time, and still is a benchmark on which a lot of people work. For this reason, the MNIST (for *Modified ou Mixed National Institute of Standards and Technology*) dataset has been created: it corresponds to digit images, from 0 to 9. \n",
    "\n",
    "You goal in this notebook is to build a Convolution Neural Network that can work on such images and predict the corresponding class of each digit image. Keep in mind that this CNN will make you classify hand-written digits, which was a very complex task till the 90's. \n",
    "\n",
    "## The data\n",
    "\n",
    "Keras provides multiple datasets within the Python package. You can load it with the following commands:"
   ]
  },
  {
   "cell_type": "code",
   "execution_count": 1,
   "metadata": {},
   "outputs": [],
   "source": [
    "from sklearn import datasets\n",
    "import numpy as np\n",
    "import matplotlib.pyplot as plt\n",
    "import seaborn as sns\n",
    "%matplotlib inline\n",
    "import tensorflow as tf\n",
    "from tensorflow.keras.datasets import mnist\n",
    "from tensorflow.keras.utils import to_categorical\n",
    "from keras.models import Sequential\n",
    "from tensorflow.keras.layers import Dense, Conv2D, Flatten, MaxPooling2D\n",
    "from keras.preprocessing.image import ImageDataGenerator"
   ]
  },
  {
   "cell_type": "code",
   "execution_count": 2,
   "metadata": {},
   "outputs": [],
   "source": [
    "from tensorflow.keras.datasets import mnist\n",
    "df = mnist.load_data()"
   ]
  },
  {
   "cell_type": "code",
   "execution_count": 5,
   "metadata": {
    "ExecuteTime": {
     "end_time": "2021-04-29T07:22:19.145710Z",
     "start_time": "2021-04-29T07:22:14.174055Z"
    }
   },
   "outputs": [],
   "source": [
    "from tensorflow.keras import datasets\n",
    "data = datasets.mnist.load_data(path=\"mnist.npz\")\n",
    "(X_train, y_train), (X_test, y_test) = data"
   ]
  },
  {
   "cell_type": "code",
   "execution_count": null,
   "metadata": {},
   "outputs": [],
   "source": [
    "assert X_train.shape == (60000, 28, 28)\n",
    "assert X_test.shape == (10000, 28, 28)\n",
    "assert y_train.shape == (60000,)\n",
    "assert y_test.shape == (10000,)"
   ]
  },
  {
   "cell_type": "code",
   "execution_count": null,
   "metadata": {},
   "outputs": [],
   "source": [
    "# create and configure the data generator\n",
    "datagen = ImageDataGenerator(data)\n",
    "datagen"
   ]
  },
  {
   "cell_type": "markdown",
   "metadata": {},
   "source": [
    "❓ Question ❓ Let's look at some of the data. \n",
    "\n",
    "Select some of the values of the train set and plot them thanks to the `imshow` function from matplotlib with `cmap` set to `gray`(otherwise, the displayed colors are just some arrangement Matplotlib does, which does not exist in practice)."
   ]
  },
  {
   "cell_type": "code",
   "execution_count": 7,
   "metadata": {},
   "outputs": [
    {
     "data": {
      "text/plain": [
       "<matplotlib.image.AxesImage at 0x23fc9eabfa0>"
      ]
     },
     "execution_count": 7,
     "metadata": {},
     "output_type": "execute_result"
    },
    {
     "data": {
      "image/png": "[encoded data removed]",
      "text/plain": [
       "<Figure size 432x288 with 1 Axes>"
      ]
     },
     "metadata": {
      "needs_background": "light"
     },
     "output_type": "display_data"
    }
   ],
   "source": [
    "plt.imshow(X_train[0])"
   ]
  },
  {
   "cell_type": "code",
   "execution_count": 8,
   "metadata": {},
   "outputs": [
    {
     "data": {
      "text/plain": [
       "<matplotlib.image.AxesImage at 0x23fc9f93790>"
      ]
     },
     "execution_count": 8,
     "metadata": {},
     "output_type": "execute_result"
    },
    {
     "data": {
      "image/png": "[encoded data removed]",
      "text/plain": [
       "<Figure size 432x288 with 1 Axes>"
      ]
     },
     "metadata": {
      "needs_background": "light"
     },
     "output_type": "display_data"
    }
   ],
   "source": [
    "plt.imshow(X_train[-1])"
   ]
  },
  {
   "cell_type": "markdown",
   "metadata": {},
   "source": [
    "Remember that neural networks converge faster when the input data are somehow normalized? It goes similarly for input images. \n",
    "\n",
    "❓ Question ❓ As a first preprocessing step, you should normalize your data. For images, it simply implies to divide your input data by the maximal value, i.e. 255. Don't forget to do it on your train and test data.\n",
    "\n",
    "(N.B.: you can also centered your data, by substracting 0.5 but it is not mandatory). "
   ]
  },
  {
   "cell_type": "code",
   "execution_count": 9,
   "metadata": {},
   "outputs": [
    {
     "data": {
      "text/plain": [
       "array([[[0, 0, 0, ..., 0, 0, 0],\n",
       "        [0, 0, 0, ..., 0, 0, 0],\n",
       "        [0, 0, 0, ..., 0, 0, 0],\n",
       "        ...,\n",
       "        [0, 0, 0, ..., 0, 0, 0],\n",
       "        [0, 0, 0, ..., 0, 0, 0],\n",
       "        [0, 0, 0, ..., 0, 0, 0]],\n",
       "\n",
       "       [[0, 0, 0, ..., 0, 0, 0],\n",
       "        [0, 0, 0, ..., 0, 0, 0],\n",
       "        [0, 0, 0, ..., 0, 0, 0],\n",
       "        ...,\n",
       "        [0, 0, 0, ..., 0, 0, 0],\n",
       "        [0, 0, 0, ..., 0, 0, 0],\n",
       "        [0, 0, 0, ..., 0, 0, 0]]], dtype=uint8)"
      ]
     },
     "execution_count": 9,
     "metadata": {},
     "output_type": "execute_result"
    }
   ],
   "source": [
    "X_train[0:2]"
   ]
  },
  {
   "cell_type": "code",
   "execution_count": 10,
   "metadata": {
    "ExecuteTime": {
     "end_time": "2021-04-29T07:22:19.731522Z",
     "start_time": "2021-04-29T07:22:19.148711Z"
    },
    "tags": [
     "challengify"
    ]
   },
   "outputs": [],
   "source": [
    "# YOUR CODE HERE\n",
    "X_train_normalise = X_train/255.0\n",
    "X_test_normalise = X_test/255.0"
   ]
  },
  {
   "cell_type": "code",
   "execution_count": 11,
   "metadata": {},
   "outputs": [
    {
     "data": {
      "text/plain": [
       "array([[[0., 0., 0., ..., 0., 0., 0.],\n",
       "        [0., 0., 0., ..., 0., 0., 0.],\n",
       "        [0., 0., 0., ..., 0., 0., 0.],\n",
       "        ...,\n",
       "        [0., 0., 0., ..., 0., 0., 0.],\n",
       "        [0., 0., 0., ..., 0., 0., 0.],\n",
       "        [0., 0., 0., ..., 0., 0., 0.]],\n",
       "\n",
       "       [[0., 0., 0., ..., 0., 0., 0.],\n",
       "        [0., 0., 0., ..., 0., 0., 0.],\n",
       "        [0., 0., 0., ..., 0., 0., 0.],\n",
       "        ...,\n",
       "        [0., 0., 0., ..., 0., 0., 0.],\n",
       "        [0., 0., 0., ..., 0., 0., 0.],\n",
       "        [0., 0., 0., ..., 0., 0., 0.]]])"
      ]
     },
     "execution_count": 11,
     "metadata": {},
     "output_type": "execute_result"
    }
   ],
   "source": [
    "X_train_normalise[0:2]"
   ]
  },
  {
   "cell_type": "markdown",
   "metadata": {},
   "source": [
    "❓ Question ❓ What is the shape of your images?"
   ]
  },
  {
   "cell_type": "code",
   "execution_count": 12,
   "metadata": {},
   "outputs": [
    {
     "data": {
      "text/plain": [
       "<matplotlib.image.AxesImage at 0x23fc9ff65b0>"
      ]
     },
     "execution_count": 12,
     "metadata": {},
     "output_type": "execute_result"
    },
    {
     "data": {
      "image/png": "[encoded data removed]",
      "text/plain": [
       "<Figure size 432x288 with 1 Axes>"
      ]
     },
     "metadata": {
      "needs_background": "light"
     },
     "output_type": "display_data"
    }
   ],
   "source": [
    "# YOUR CODE HERE\n",
    "plt.imshow(X_train_normalise[-1])"
   ]
  },
  {
   "cell_type": "markdown",
   "metadata": {},
   "source": [
    "You see that you have 60.000 training images, all of size (28, 28). However, Keras needs images whose last dimension is the number of channels, which is missing here.\n",
    "\n",
    "❓ Question ❓ Use the `expand_dims` to add one dimension at the end of the training and test data. Then, print the shape of X_train and X_test that should respectively be (60000, 28, 28, 1) and (10000, 28, 28, 1)."
   ]
  },
  {
   "cell_type": "code",
   "execution_count": 14,
   "metadata": {},
   "outputs": [
    {
     "name": "stdout",
     "output_type": "stream",
     "text": [
      " 60 000 données  : 60000\n"
     ]
    }
   ],
   "source": [
    "N = X_train.shape[0]\n",
    "print(\" 60 000 données  :\", N)\n",
    "X_train = np.reshape(X_train, (N, 28,28,1))\n",
    "X_test = np.reshape(X_test, (X_test.shape[0],28,28,1))"
   ]
  },
  {
   "cell_type": "code",
   "execution_count": 15,
   "metadata": {},
   "outputs": [],
   "source": [
    "#Partie A \n",
    "X_train = np.reshape(X_train, (N, 28,28,1))\n",
    "X_test = np.reshape(X_test, (X_test.shape[0],28,28,1))\n",
    "#normalisation\n",
    "X_train_n = X_train/255\n",
    "X_test_n = X_test/255\n",
    "#On a 10 cathegorie des nombres\n",
    "y_train_ca = to_categorical(y_train, num_classes=10)\n",
    "y_test_ca = to_categorical(y_test, num_classes=10)"
   ]
  },
  {
   "cell_type": "code",
   "execution_count": 16,
   "metadata": {},
   "outputs": [
    {
     "name": "stdout",
     "output_type": "stream",
     "text": [
      "Model: \"sequential\"\n",
      "_________________________________________________________________\n",
      " Layer (type)                Output Shape              Param #   \n",
      "=================================================================\n",
      " conv2d (Conv2D)             (60000, 28, 28, 32)       320       \n",
      "                                                                 \n",
      " conv2d_1 (Conv2D)           (60000, 28, 28, 16)       4624      \n",
      "                                                                 \n",
      " flatten (Flatten)           (60000, 12544)            0         \n",
      "                                                                 \n",
      " dense (Dense)               (60000, 10)               125450    \n",
      "                                                                 \n",
      "=================================================================\n",
      "Total params: 130,394\n",
      "Trainable params: 130,394\n",
      "Non-trainable params: 0\n",
      "_________________________________________________________________\n"
     ]
    }
   ],
   "source": [
    "#Partie B Reseau de neurones\n",
    "modele = Sequential()\n",
    "#Premier couche de convolution: 32 neurones(nbre de filtre), convolution 3*3(precise la taille du conv), activation \n",
    "modele.add(Conv2D(32, kernel_size=3, padding= 'same', activation='relu'))\n",
    "#Deuxieme couche de convolution 16 neurones\n",
    "modele.add(Conv2D(16, kernel_size=3, padding='same', activation='relu'))\n",
    "#Aplatissage\n",
    "modele.add(Flatten())\n",
    "#couche de sortie : 10 neurones\n",
    "modele.add(Dense(10, activation='softmax'))\n",
    "#descente de gradiant: type d'erreur \"loss\" , methede de gradiant tre efficace \"adam\"\n",
    "modele.compile(optimizer= 'adam',loss='categorical_crossentrepy', metrics=['categorical_crossentropy'])\n",
    "\n",
    "#modele.compile(optimizer='adam',loss=tf.losses.SparseCategoricalCrossentropy(from_logits=True),metrics=['accuracy'])\n",
    "modele.build(input_shape = (N, 28, 28, 1))\n",
    "modele.summary()\n",
    "#On a totale 130.394 poids à calcules"
   ]
  },
  {
   "cell_type": "markdown",
   "metadata": {},
   "source": [
    "#calcul des poids: On va lance en utilisant une descente de gradiant par lot de taille 32\n",
    "modele.fit(X_train_n, y_train_ca, batch_size=32, epochs=5)\n",
    "#Partie C : Evalue la qualite des reseau obtenu n'on pas sur nos données d'apprentissage plutot donne independantes\n",
    "score = modele.evaluate(X_test, y_test, verbose=0)\n",
    "print('Test loss', score[0])\n",
    "print('Test accuracy', score[1])"
   ]
  },
  {
   "cell_type": "code",
   "execution_count": 18,
   "metadata": {
    "ExecuteTime": {
     "end_time": "2021-04-29T07:22:20.063475Z",
     "start_time": "2021-04-29T07:22:20.052948Z"
    }
   },
   "outputs": [
    {
     "name": "stdout",
     "output_type": "stream",
     "text": [
      "X_train_normalise          : (60000, 28, 28)\n",
      "X_train_normalise_elargi   : (60000, 28, 28, 1)\n",
      "X_test_normalise           : (10000, 28, 28)\n",
      "X_test_normalise_elargi    : (10000, 28, 28, 1)\n"
     ]
    }
   ],
   "source": [
    "X_train_normalise_elargi = np.expand_dims(X_train_normalise,axis=3)\n",
    "X_test_normalise_elargi = np.expand_dims(X_test_normalise,axis=3)\n",
    "print(\"X_train_normalise          :\",X_train_normalise.shape)\n",
    "print(\"X_train_normalise_elargi   :\",X_train_normalise_elargi.shape)\n",
    "print(\"X_test_normalise           :\",X_test_normalise.shape)\n",
    "print(\"X_test_normalise_elargi    :\",X_test_normalise_elargi.shape)\n",
    "#60000, 28, 28, 1 : code avec 28*28 avec un seul canal d'entre 1"
   ]
  },
  {
   "cell_type": "markdown",
   "metadata": {},
   "source": [
    "A last thing to do to prepare your data is to convert your labels to one-hot encoded categories.\n",
    "\n",
    "❓ Question ❓ Use `to_categorical` to transform your labels. Store the results in `y_train_cat` and `y_test_cat`."
   ]
  },
  {
   "cell_type": "code",
   "execution_count": 19,
   "metadata": {
    "ExecuteTime": {
     "end_time": "2021-04-29T07:22:20.845683Z",
     "start_time": "2021-04-29T07:22:20.840921Z"
    }
   },
   "outputs": [
    {
     "name": "stdout",
     "output_type": "stream",
     "text": [
      "y_train_cat : (60000, 10)\n",
      "y_test_cat : (10000, 10)\n"
     ]
    }
   ],
   "source": [
    "# YOUR CODE HERE\n",
    "y_train_cat = tf.keras.utils.to_categorical(y_train, num_classes=None, dtype='float32')\n",
    "y_test_cat = tf.keras.utils.to_categorical( y_test, num_classes=None, dtype='float32')\n",
    "#On a 10 cathegorie des nombres\n",
    "print(\"y_train_cat :\",y_train_cat.shape)\n",
    "print(\"y_test_cat :\",y_test_cat.shape)"
   ]
  },
  {
   "cell_type": "markdown",
   "metadata": {},
   "source": [
    "The data are now ready to be used.\n",
    "\n",
    "## The Convolutional Neural Network _aka_ CNN\n",
    "\n",
    "Now, build a Convolutional Neural Network. \n",
    "\n",
    "❓ Question ❓ Based on the course, build a neural network that has:\n",
    "- a `Conv2D` layer with 8 filters, each of size (4, 4), with an input shape suitable for your task, the relu activation function, and padding='same' so as to \n",
    "- a `MaxPool2D` layer with a pool_size of (2, 2)\n",
    "- a second `Conv2D` layer with 16 filters, each of size (3, 3), and the relu activation function\n",
    "- a second `MaxPool2D` layer with a pool_size of (2, 2)\n",
    "- a `Flatten` layer\n",
    "- a first `Dense` layer with 10 neurons and the relu activation function\n",
    "- a last layer that is suited for your task\n",
    "\n",
    "In the function, do not forget to include the compilation of the model, which optimizes the `categorical_crossentropy` with the adam optimizer - and the accuracy should be among the metrics."
   ]
  },
  {
   "cell_type": "markdown",
   "metadata": {},
   "source": [
    "❓ Question ❓ How many trainable parameters are there in your model?\n",
    "- Compute them with `model.summary()` first\n",
    "- Recompute them manually layer per layer then"
   ]
  },
  {
   "cell_type": "code",
   "execution_count": 20,
   "metadata": {
    "ExecuteTime": {
     "end_time": "2021-04-29T07:22:24.419923Z",
     "start_time": "2021-04-29T07:22:24.415553Z"
    }
   },
   "outputs": [
    {
     "name": "stdout",
     "output_type": "stream",
     "text": [
      "Model: \"sequential_1\"\n",
      "_________________________________________________________________\n",
      " Layer (type)                Output Shape              Param #   \n",
      "=================================================================\n",
      " rescaling (Rescaling)       (None, 28, 28, 1)         0         \n",
      "                                                                 \n",
      " conv2d_2 (Conv2D)           (None, 25, 25, 8)         136       \n",
      "                                                                 \n",
      " max_pooling2d (MaxPooling2D  (None, 12, 12, 8)        0         \n",
      " )                                                               \n",
      "                                                                 \n",
      " conv2d_3 (Conv2D)           (None, 10, 10, 16)        1168      \n",
      "                                                                 \n",
      " max_pooling2d_1 (MaxPooling  (None, 5, 5, 16)         0         \n",
      " 2D)                                                             \n",
      "                                                                 \n",
      " flatten_1 (Flatten)         (None, 400)               0         \n",
      "                                                                 \n",
      " dense_1 (Dense)             (None, 10)                4010      \n",
      "                                                                 \n",
      "=================================================================\n",
      "Total params: 5,314\n",
      "Trainable params: 5,314\n",
      "Non-trainable params: 0\n",
      "_________________________________________________________________\n"
     ]
    }
   ],
   "source": [
    "from tensorflow.keras import layers\n",
    "from tensorflow.keras import models\n",
    "\n",
    "\n",
    "def initialize_model():\n",
    "    model = tf.keras.Sequential([\n",
    "        layers.experimental.preprocessing.Rescaling(1./255),\n",
    "        #First convolution & max-pooling\n",
    "        layers.Conv2D(8,(4,4), activation='relu'),\n",
    "        layers.MaxPooling2D(pool_size=(2, 2)),\n",
    "        # Second convolution & max-pooling\n",
    "        layers.Conv2D(16,(3,3), activation='relu'),\n",
    "        layers.MaxPooling2D(pool_size=(2, 2)),\n",
    "        layers.Flatten(),\n",
    "        #Sortie\n",
    "        #tf.keras.layers.Dense(50, activation=tf.nn.relu),\n",
    "        #10: nbre de categaries\n",
    "        tf.keras.layers.Dense(10, activation=tf.nn.softmax)\n",
    "       \n",
    "        ])\n",
    "    model.compile(optimizer='adam', loss='categorical_crossentropy', metrics=['categorical_crossentropy'])\n",
    "\n",
    "    \"\"\"model.compile(optimizer='adam',\n",
    "                  loss=tf.losses.SparseCategoricalCrossentropy(from_logits=True),\n",
    "                  metrics=['accuracy'])\"\"\"\n",
    "\n",
    "    return model\n",
    "\n",
    "\n",
    "model = initialize_model()\n",
    "model.build(input_shape = (None, 28, 28, 1))\n",
    "      \n",
    "model.summary()"
   ]
  },
  {
   "cell_type": "code",
   "execution_count": 21,
   "metadata": {},
   "outputs": [
    {
     "name": "stdout",
     "output_type": "stream",
     "text": [
      "Epoch 1/5\n",
      "1875/1875 [==============================] - 24s 12ms/step - loss: 1.3781 - categorical_crossentropy: 1.3781\n",
      "Epoch 2/5\n",
      "1875/1875 [==============================] - 23s 12ms/step - loss: 0.4023 - categorical_crossentropy: 0.4023\n",
      "Epoch 3/5\n",
      "1875/1875 [==============================] - 23s 12ms/step - loss: 0.3283 - categorical_crossentropy: 0.3283\n",
      "Epoch 4/5\n",
      "1875/1875 [==============================] - 23s 12ms/step - loss: 0.2822 - categorical_crossentropy: 0.2822\n",
      "Epoch 5/5\n",
      "1875/1875 [==============================] - 23s 12ms/step - loss: 0.2442 - categorical_crossentropy: 0.2442\n"
     ]
    }
   ],
   "source": [
    "history = model.fit(X_train_normalise_elargi, y_train_cat,\n",
    "                    batch_size=32,\n",
    "                    epochs=5)"
   ]
  },
  {
   "cell_type": "markdown",
   "metadata": {},
   "source": [
    "❓ Question ❓ Initialize your model and fit it on the train data. \n",
    "- Do not forget to use a validation set and an early stopping criterion. \n",
    "- Limit at 5 epoch max in this challenge (just to save time)"
   ]
  },
  {
   "cell_type": "code",
   "execution_count": 24,
   "metadata": {
    "ExecuteTime": {
     "end_time": "2021-04-29T07:22:50.611532Z",
     "start_time": "2021-04-29T07:22:50.608695Z"
    }
   },
   "outputs": [
    {
     "name": "stdout",
     "output_type": "stream",
     "text": [
      "Epoch 1/5\n",
      "1313/1313 [==============================] - 20s 15ms/step - loss: 0.0100 - MAE: 0.0227 - MSE: 0.0100 - val_loss: 0.0091 - val_MAE: 0.0205 - val_MSE: 0.0091\n",
      "Epoch 2/5\n",
      "1313/1313 [==============================] - 19s 15ms/step - loss: 0.0092 - MAE: 0.0210 - MSE: 0.0092 - val_loss: 0.0087 - val_MAE: 0.0205 - val_MSE: 0.0087\n",
      "Epoch 3/5\n",
      "1313/1313 [==============================] - 20s 15ms/step - loss: 0.0086 - MAE: 0.0197 - MSE: 0.0086 - val_loss: 0.0084 - val_MAE: 0.0183 - val_MSE: 0.0084\n",
      "Epoch 4/5\n",
      "1313/1313 [==============================] - 19s 14ms/step - loss: 0.0080 - MAE: 0.0184 - MSE: 0.0080 - val_loss: 0.0079 - val_MAE: 0.0178 - val_MSE: 0.0079\n",
      "Epoch 5/5\n",
      "1313/1313 [==============================] - 18s 14ms/step - loss: 0.0076 - MAE: 0.0174 - MSE: 0.0076 - val_loss: 0.0074 - val_MAE: 0.0170 - val_MSE: 0.0074\n",
      "313/313 [==============================] - 2s 6ms/step - loss: 0.0068 - MAE: 0.0160 - MSE: 0.0068\n"
     ]
    },
    {
     "data": {
      "text/plain": [
       "(<keras.callbacks.EarlyStopping at 0x23fcbb9f0a0>, 0.016033370047807693)"
      ]
     },
     "execution_count": 24,
     "metadata": {},
     "output_type": "execute_result"
    }
   ],
   "source": [
    "from tensorflow.keras.callbacks import EarlyStopping\n",
    "\n",
    "def trouve_ovorfiting():\n",
    "    ovorfiting = tf.keras.callbacks.EarlyStopping(monitor='loss', patience=3, restore_best_weights= True)\n",
    "    model.compile(optimizer='adam', loss='MSE', metrics=['MAE','MSE'])\n",
    "    history = model.fit(X_train_normalise_elargi, y_train_cat, batch_size=32, epochs=5, validation_split=0.3)\n",
    "    resultat = model.evaluate(X_test_normalise_elargi, y_test_cat)\n",
    "    \n",
    "    return ovorfiting, resultat[1]\n",
    "trouve_ovorfiting()"
   ]
  },
  {
   "cell_type": "markdown",
   "metadata": {},
   "source": [
    "You probably see that the model converges within few epochs. The reason is that there are as many weight update as there are batches within each epoch. For instance, if you batch_size is of 32, you have 60.000/32 = 1875 updates.\n",
    "\n",
    "\n",
    "❓ Question ❓ What is your accuracy on the test set?"
   ]
  },
  {
   "cell_type": "code",
   "execution_count": 22,
   "metadata": {},
   "outputs": [
    {
     "name": "stdout",
     "output_type": "stream",
     "text": [
      "Test loss 0.21320490539073944\n",
      "Test accuracy 0.21320490539073944\n"
     ]
    }
   ],
   "source": [
    "score = model.evaluate(X_test_normalise, y_test_cat, verbose=0)\n",
    "print('Test loss', score[0])\n",
    "print('Test accuracy', score[1])"
   ]
  },
  {
   "cell_type": "code",
   "execution_count": 23,
   "metadata": {},
   "outputs": [
    {
     "name": "stdout",
     "output_type": "stream",
     "text": [
      "313/313 [==============================] - 2s 6ms/step\n"
     ]
    },
    {
     "data": {
      "text/plain": [
       "array([[4.02315095e-07, 7.69736497e-10, 9.29699624e-08, ...,\n",
       "        9.99879003e-01, 1.37422461e-07, 1.00106583e-04],\n",
       "       [1.15444076e-04, 2.90879630e-03, 9.95099127e-01, ...,\n",
       "        1.13115095e-12, 5.95801801e-04, 1.65271113e-11],\n",
       "       [1.76150439e-04, 9.90534544e-01, 2.13021645e-03, ...,\n",
       "        1.62673125e-03, 1.15307921e-03, 4.88258433e-04],\n",
       "       ...,\n",
       "       [1.88517845e-06, 7.30114834e-07, 2.59443041e-04, ...,\n",
       "        1.40420684e-06, 2.03364289e-05, 9.07011000e-08],\n",
       "       [2.75999724e-07, 2.00204553e-07, 2.04155276e-06, ...,\n",
       "        1.14236225e-03, 6.17897138e-03, 4.09053043e-02],\n",
       "       [1.36276154e-04, 7.51221596e-05, 1.98914622e-05, ...,\n",
       "        1.05246407e-04, 8.78595486e-02, 2.70879507e-04]], dtype=float32)"
      ]
     },
     "execution_count": 23,
     "metadata": {},
     "output_type": "execute_result"
    }
   ],
   "source": [
    "predictions = model.predict(X_test_normalise_elargi, verbose=1)\n",
    "predictions[0:-1]"
   ]
  },
  {
   "cell_type": "markdown",
   "metadata": {},
   "source": [
    "### You should be already impressed by your skills! You solved what was a very hard problem 30 years ago with your CNN."
   ]
  },
  {
   "cell_type": "markdown",
   "metadata": {},
   "source": [
    "🏁 Congratulation!\n"
   ]
  },
  {
   "cell_type": "code",
   "execution_count": null,
   "metadata": {},
   "outputs": [],
   "source": [
    "Thanks!"
   ]
  }
 ],
 "metadata": {
  "kernelspec": {
   "display_name": "Python 3",
   "language": "python",
   "name": "python3"
  },
  "language_info": {
   "codemirror_mode": {
    "name": "ipython",
    "version": 3
   },
   "file_extension": ".py",
   "mimetype": "text/x-python",
   "name": "python",
   "nbconvert_exporter": "python",
   "pygments_lexer": "ipython3",
   "version": "3.8.8"
  },
  "toc": {
   "base_numbering": 1,
   "nav_menu": {},
   "number_sections": false,
   "sideBar": true,
   "skip_h1_title": false,
   "title_cell": "Table of Contents",
   "title_sidebar": "Contents",
   "toc_cell": false,
   "toc_position": {},
   "toc_section_display": true,
   "toc_window_display": false
  }
 },
 "nbformat": 4,
 "nbformat_minor": 2
}
