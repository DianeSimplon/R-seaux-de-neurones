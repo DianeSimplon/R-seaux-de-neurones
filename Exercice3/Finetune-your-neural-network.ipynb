{
 "cells": [
  {
   "cell_type": "markdown",
   "metadata": {},
   "source": [
    "# Finetune your Neural Network\n",
    "\n",
    "**Exercise objectives:**\n",
    "- `Finetune` the model optimizer\n",
    "- `Save` and `Load` a `trained neural network`\n",
    "\n",
    "<hr>\n",
    "\n",
    "Now that you have solid foundations of what Neural Networks, how to design their architecture and how to regularize them, let's take a closer look at the `.compile(loss = ..., metrics = ..., activation = ...)` part.\n",
    "\n",
    "# Data\n",
    "\n",
    "We will use the data from the `Boston Housing dataset`. \n",
    "\n",
    "Our goal is to `predict the values of the houses` (in k USD), and we will measure our models' performances  using the `Mean Absolute Error` metrics"
   ]
  },
  {
   "cell_type": "code",
   "execution_count": null,
   "metadata": {},
   "outputs": [],
   "source": [
    "#pip install tensorflow"
   ]
  },
  {
   "cell_type": "code",
   "execution_count": 2,
   "metadata": {},
   "outputs": [],
   "source": [
    "from sklearn import datasets\n",
    "import numpy as np\n",
    "import matplotlib.pyplot as plt\n",
    "import seaborn as sns\n",
    "%matplotlib inline\n",
    "import tensorflow as tf\n",
    "from tensorflow.keras.datasets import boston_housing\n",
    "from sklearn.preprocessing import StandardScaler\n",
    "from sklearn.model_selection import train_test_split"
   ]
  },
  {
   "cell_type": "code",
   "execution_count": 3,
   "metadata": {},
   "outputs": [],
   "source": [
    "df = boston_housing.load_data()"
   ]
  },
  {
   "cell_type": "code",
   "execution_count": 4,
   "metadata": {},
   "outputs": [
    {
     "name": "stdout",
     "output_type": "stream",
     "text": [
      "X : (506, 13) y : (506,)\n"
     ]
    }
   ],
   "source": [
    "from sklearn.datasets import load_boston\n",
    "data = load_boston()\n",
    "X, y = data.data, data.target\n",
    "print(\"X :\",X.shape, \"y :\",y.shape)"
   ]
  },
  {
   "cell_type": "markdown",
   "metadata": {},
   "source": [
    "❓ **Question** ❓ Standardize `X_train` and `X_test` set without data leakage, and replace them keeping similar variable names"
   ]
  },
  {
   "cell_type": "code",
   "execution_count": 5,
   "metadata": {},
   "outputs": [
    {
     "name": "stdout",
     "output_type": "stream",
     "text": [
      "X_train : (404, 13) X_test : (102, 13) y_train : (404,) y_test : (102,)\n"
     ]
    }
   ],
   "source": [
    "(X_train, y_train),(X_test, y_test) = boston_housing.load_data()\n",
    "print(\"X_train :\",X_train.shape, \"X_test :\",X_test.shape, \"y_train :\",y_train.shape, \"y_test :\",y_test.shape)"
   ]
  },
  {
   "cell_type": "markdown",
   "metadata": {},
   "source": [
    "❓ **Question** ❓ To get a sense of a benchmark score you have to beat, what is the mean absolute error on the test set if your dumb prediction corresponds to the mean value of $y$ computed on the train set?"
   ]
  },
  {
   "cell_type": "code",
   "execution_count": 6,
   "metadata": {},
   "outputs": [
    {
     "name": "stdout",
     "output_type": "stream",
     "text": [
      "train : 22.395049504950492\n",
      "test : 23.07843137254902\n"
     ]
    }
   ],
   "source": [
    "y_train_mean = y_train.mean()\n",
    "print(\"train :\",y_train_mean)\n",
    "y_test_mean = y_test.mean()\n",
    "print(\"test :\",y_test_mean)"
   ]
  },
  {
   "cell_type": "code",
   "execution_count": 7,
   "metadata": {},
   "outputs": [
    {
     "data": {
      "text/plain": [
       "0.683381867598527"
      ]
     },
     "execution_count": 7,
     "metadata": {},
     "output_type": "execute_result"
    }
   ],
   "source": [
    "mean_square_error =  np.abs(y_train_mean - y_test_mean)\n",
    "mean_square_error "
   ]
  },
  {
   "cell_type": "markdown",
   "metadata": {},
   "source": [
    "# 1. The model\n",
    "\n",
    "❓ **Question** ❓ Now, write a function `initialize_model` that generates a neural network with 3 layers: \n",
    "- a layer with 10 neurons and the `relu` activation function (choose the appropriate input dimension)\n",
    "- a layer with 7 neurons and the `relu` activation function\n",
    "- an appropriate layer corresponding to the problem at hand"
   ]
  },
  {
   "cell_type": "code",
   "execution_count": 8,
   "metadata": {},
   "outputs": [
    {
     "name": "stdout",
     "output_type": "stream",
     "text": [
      "Model: \"sequential\"\n",
      "_________________________________________________________________\n",
      " Layer (type)                Output Shape              Param #   \n",
      "=================================================================\n",
      " dense (Dense)               (None, 10)                140       \n",
      "                                                                 \n",
      " dense_1 (Dense)             (None, 7)                 77        \n",
      "                                                                 \n",
      " dense_2 (Dense)             (None, 1)                 8         \n",
      "                                                                 \n",
      "=================================================================\n",
      "Total params: 225\n",
      "Trainable params: 225\n",
      "Non-trainable params: 0\n",
      "_________________________________________________________________\n"
     ]
    },
    {
     "data": {
      "text/plain": [
       "<keras.engine.sequential.Sequential at 0x27319101a00>"
      ]
     },
     "execution_count": 8,
     "metadata": {},
     "output_type": "execute_result"
    }
   ],
   "source": [
    "from tensorflow.keras import models\n",
    "from tensorflow.keras import layers\n",
    "\n",
    "def initialize_model():\n",
    "    model = tf.keras.models.Sequential()\n",
    "    model.add(tf.keras.layers.Dense(units =10, input_shape=(13,), activation='relu', kernel_initializer=\"uniform\", input_dim=13))\n",
    "    model.add(tf.keras.layers.Dense(units =7, input_shape=(13,), activation='relu', kernel_initializer=\"uniform\", input_dim=13))\n",
    "    model.add(tf.keras.layers.Dense(units =1, activation='linear'))\n",
    "    #model.compile(optimizer='adam', loss='binary_crossentropy', metrics=['binary_accuracy'])\n",
    "    #Faire une synthese\n",
    "    model.summary()\n",
    "    return model\n",
    "\n",
    "model = initialize_model()\n",
    "model"
   ]
  },
  {
   "cell_type": "markdown",
   "metadata": {},
   "source": [
    "# 2. The optimizer\n",
    "\n",
    "❓ **Question** ❓ Write a function that :\n",
    "* takes as arguments a model and an optimizer, \n",
    "* `compiles` the model,\n",
    "* and returns the compiled model\n",
    "\n",
    "Please select the `loss function` to be optimized and  the `metrics` on which the model should be evaluated wisely."
   ]
  },
  {
   "cell_type": "code",
   "execution_count": 9,
   "metadata": {},
   "outputs": [
    {
     "data": {
      "text/plain": [
       "<keras.engine.sequential.Sequential at 0x27319101a00>"
      ]
     },
     "execution_count": 9,
     "metadata": {},
     "output_type": "execute_result"
    }
   ],
   "source": [
    "#from tensorflow.keras.optimizers import Adam\n",
    "optimizer_name = 'Adam'\n",
    "\n",
    "def compile_model(model, optimizer_name):\n",
    "    model.compile(optimizer= optimizer_name, loss='MSE', metrics=['MAE'])\n",
    "    return model\n",
    "compile_model(model, optimizer_name)"
   ]
  },
  {
   "cell_type": "markdown",
   "metadata": {},
   "source": [
    "❓ **Question** ❓ Initialize the model, compile it with the `adam` optimizer and fit it on the data. \n",
    "- Evaluate your model using an Early Stopping criterion."
   ]
  },
  {
   "cell_type": "code",
   "execution_count": 10,
   "metadata": {},
   "outputs": [
    {
     "name": "stdout",
     "output_type": "stream",
     "text": [
      "Epoch 1/50\n",
      "29/29 [==============================] - 1s 14ms/step - loss: 415.9716 - MAE: 18.1679 - val_loss: 300.1568 - val_MAE: 13.9695\n",
      "Epoch 2/50\n",
      "29/29 [==============================] - 0s 5ms/step - loss: 145.6869 - MAE: 9.0020 - val_loss: 131.9525 - val_MAE: 8.8221\n",
      "Epoch 3/50\n",
      "29/29 [==============================] - 0s 5ms/step - loss: 97.0753 - MAE: 7.2132 - val_loss: 120.7076 - val_MAE: 8.0413\n",
      "Epoch 4/50\n",
      "29/29 [==============================] - 0s 4ms/step - loss: 84.2298 - MAE: 6.5505 - val_loss: 109.5803 - val_MAE: 7.6640\n",
      "Epoch 5/50\n",
      "29/29 [==============================] - 0s 4ms/step - loss: 79.6988 - MAE: 6.4054 - val_loss: 105.6178 - val_MAE: 7.0826\n",
      "Epoch 6/50\n",
      "29/29 [==============================] - 0s 4ms/step - loss: 70.6788 - MAE: 5.9636 - val_loss: 96.8503 - val_MAE: 7.0237\n",
      "Epoch 7/50\n",
      "29/29 [==============================] - 0s 4ms/step - loss: 66.6239 - MAE: 5.8501 - val_loss: 93.0507 - val_MAE: 6.8666\n",
      "Epoch 8/50\n",
      "29/29 [==============================] - 0s 4ms/step - loss: 62.8650 - MAE: 5.7407 - val_loss: 91.7662 - val_MAE: 6.5982\n",
      "Epoch 9/50\n",
      "29/29 [==============================] - 0s 4ms/step - loss: 59.8211 - MAE: 5.5756 - val_loss: 88.7626 - val_MAE: 6.4801\n",
      "Epoch 10/50\n",
      "29/29 [==============================] - 0s 4ms/step - loss: 57.6289 - MAE: 5.7028 - val_loss: 90.1797 - val_MAE: 6.3034\n",
      "Epoch 11/50\n",
      "29/29 [==============================] - 0s 6ms/step - loss: 55.9142 - MAE: 5.2572 - val_loss: 84.8038 - val_MAE: 6.6943\n",
      "Epoch 12/50\n",
      "29/29 [==============================] - 0s 5ms/step - loss: 52.9611 - MAE: 5.3724 - val_loss: 86.5328 - val_MAE: 6.1221\n",
      "Epoch 13/50\n",
      "29/29 [==============================] - 0s 5ms/step - loss: 50.4798 - MAE: 5.0241 - val_loss: 83.1971 - val_MAE: 6.1483\n",
      "Epoch 14/50\n",
      "29/29 [==============================] - 0s 4ms/step - loss: 48.3269 - MAE: 4.9404 - val_loss: 86.4079 - val_MAE: 5.9577\n",
      "Epoch 15/50\n",
      "29/29 [==============================] - 0s 4ms/step - loss: 49.3233 - MAE: 4.9052 - val_loss: 81.3047 - val_MAE: 6.2701\n",
      "Epoch 16/50\n",
      "29/29 [==============================] - 0s 4ms/step - loss: 47.0166 - MAE: 4.7868 - val_loss: 82.0285 - val_MAE: 5.9960\n",
      "Epoch 17/50\n",
      "29/29 [==============================] - 0s 5ms/step - loss: 46.8854 - MAE: 4.8536 - val_loss: 81.8394 - val_MAE: 5.9462\n",
      "Epoch 18/50\n",
      "29/29 [==============================] - 0s 4ms/step - loss: 45.7597 - MAE: 4.6341 - val_loss: 79.8354 - val_MAE: 6.1559\n",
      "Epoch 19/50\n",
      "29/29 [==============================] - 0s 4ms/step - loss: 47.6046 - MAE: 4.9657 - val_loss: 82.8494 - val_MAE: 5.8371\n",
      "Epoch 20/50\n",
      "29/29 [==============================] - 0s 5ms/step - loss: 45.0942 - MAE: 4.7736 - val_loss: 82.2143 - val_MAE: 5.8302\n",
      "Epoch 21/50\n",
      "29/29 [==============================] - 0s 4ms/step - loss: 44.5689 - MAE: 4.6567 - val_loss: 78.6332 - val_MAE: 5.9545\n",
      "Epoch 22/50\n",
      "29/29 [==============================] - 0s 4ms/step - loss: 43.5837 - MAE: 4.5682 - val_loss: 79.7932 - val_MAE: 5.8138\n",
      "Epoch 23/50\n",
      "29/29 [==============================] - 0s 4ms/step - loss: 43.1780 - MAE: 4.6095 - val_loss: 79.0015 - val_MAE: 5.8013\n",
      "Epoch 24/50\n",
      "29/29 [==============================] - 0s 3ms/step - loss: 42.7841 - MAE: 4.6334 - val_loss: 77.6857 - val_MAE: 5.8287\n",
      "Epoch 25/50\n",
      "29/29 [==============================] - 0s 3ms/step - loss: 42.4662 - MAE: 4.4755 - val_loss: 76.1044 - val_MAE: 5.8812\n",
      "Epoch 26/50\n",
      "29/29 [==============================] - 0s 4ms/step - loss: 42.1195 - MAE: 4.6391 - val_loss: 77.1903 - val_MAE: 5.7290\n",
      "Epoch 27/50\n",
      "29/29 [==============================] - 0s 4ms/step - loss: 41.6255 - MAE: 4.5304 - val_loss: 75.8628 - val_MAE: 5.7375\n",
      "Epoch 28/50\n",
      "29/29 [==============================] - 0s 3ms/step - loss: 40.5540 - MAE: 4.5499 - val_loss: 78.6339 - val_MAE: 5.6214\n",
      "Epoch 29/50\n",
      "29/29 [==============================] - 0s 4ms/step - loss: 41.0731 - MAE: 4.3972 - val_loss: 73.5814 - val_MAE: 5.7702\n",
      "Epoch 30/50\n",
      "29/29 [==============================] - 0s 4ms/step - loss: 39.9343 - MAE: 4.4270 - val_loss: 73.8567 - val_MAE: 5.6191\n",
      "Epoch 31/50\n",
      "29/29 [==============================] - 0s 4ms/step - loss: 40.5917 - MAE: 4.5362 - val_loss: 77.2151 - val_MAE: 5.5412\n",
      "Epoch 32/50\n",
      "29/29 [==============================] - 0s 4ms/step - loss: 39.3140 - MAE: 4.4834 - val_loss: 74.7715 - val_MAE: 5.5343\n",
      "Epoch 33/50\n",
      "29/29 [==============================] - 0s 4ms/step - loss: 39.9912 - MAE: 4.4765 - val_loss: 69.5973 - val_MAE: 5.8896\n",
      "Epoch 34/50\n",
      "29/29 [==============================] - 0s 4ms/step - loss: 40.2140 - MAE: 4.4129 - val_loss: 69.1112 - val_MAE: 6.1147\n",
      "Epoch 35/50\n",
      "29/29 [==============================] - 0s 4ms/step - loss: 38.9368 - MAE: 4.4130 - val_loss: 70.3408 - val_MAE: 5.4603\n",
      "Epoch 36/50\n",
      "29/29 [==============================] - 0s 4ms/step - loss: 38.1503 - MAE: 4.3037 - val_loss: 67.8270 - val_MAE: 5.5887\n",
      "Epoch 37/50\n",
      "29/29 [==============================] - ETA: 0s - loss: 6.2971 - MAE: 1.900 - 0s 3ms/step - loss: 37.1864 - MAE: 4.2087 - val_loss: 67.9070 - val_MAE: 5.4741\n",
      "Epoch 38/50\n",
      "29/29 [==============================] - 0s 4ms/step - loss: 36.1336 - MAE: 4.1721 - val_loss: 67.1480 - val_MAE: 5.4608\n",
      "Epoch 39/50\n",
      "29/29 [==============================] - 0s 4ms/step - loss: 36.1845 - MAE: 4.1630 - val_loss: 66.5522 - val_MAE: 5.4216\n",
      "Epoch 40/50\n",
      "29/29 [==============================] - 0s 4ms/step - loss: 35.7858 - MAE: 4.1797 - val_loss: 66.4171 - val_MAE: 5.3380\n",
      "Epoch 41/50\n",
      "29/29 [==============================] - 0s 6ms/step - loss: 35.3220 - MAE: 4.1857 - val_loss: 65.1816 - val_MAE: 5.3369\n",
      "Epoch 42/50\n",
      "29/29 [==============================] - 0s 4ms/step - loss: 34.2836 - MAE: 4.1227 - val_loss: 72.7788 - val_MAE: 5.3133\n",
      "Epoch 43/50\n",
      "29/29 [==============================] - 0s 4ms/step - loss: 35.2100 - MAE: 4.2160 - val_loss: 65.3257 - val_MAE: 5.2424\n",
      "Epoch 44/50\n",
      "29/29 [==============================] - 0s 4ms/step - loss: 34.1624 - MAE: 4.0422 - val_loss: 63.5702 - val_MAE: 5.2240\n",
      "Epoch 45/50\n",
      "29/29 [==============================] - 0s 4ms/step - loss: 32.9908 - MAE: 4.0650 - val_loss: 67.5264 - val_MAE: 5.1800\n",
      "Epoch 46/50\n",
      "29/29 [==============================] - 0s 4ms/step - loss: 33.1186 - MAE: 3.9824 - val_loss: 61.5853 - val_MAE: 5.2184\n",
      "Epoch 47/50\n",
      "29/29 [==============================] - 0s 4ms/step - loss: 33.1692 - MAE: 4.0831 - val_loss: 60.6327 - val_MAE: 5.2228\n",
      "Epoch 48/50\n",
      "29/29 [==============================] - 0s 3ms/step - loss: 34.1296 - MAE: 4.1870 - val_loss: 63.0106 - val_MAE: 5.0641\n",
      "Epoch 49/50\n",
      "29/29 [==============================] - 0s 4ms/step - loss: 33.2342 - MAE: 4.0106 - val_loss: 62.6749 - val_MAE: 5.0509\n",
      "Epoch 50/50\n",
      "29/29 [==============================] - 0s 4ms/step - loss: 31.5904 - MAE: 3.9040 - val_loss: 59.7951 - val_MAE: 5.1306\n",
      "4/4 [==============================] - 0s 5ms/step - loss: 45.0248 - MAE: 4.7750\n"
     ]
    },
    {
     "data": {
      "text/plain": [
       "(<keras.callbacks.EarlyStopping at 0x273191e1850>,\n",
       " 4.774954795837402,\n",
       " <keras.callbacks.History at 0x273192a0760>)"
      ]
     },
     "execution_count": 10,
     "metadata": {},
     "output_type": "execute_result"
    }
   ],
   "source": [
    "from tensorflow.keras.callbacks import EarlyStopping\n",
    "\n",
    "def trouve_ovorfiting():\n",
    "    ovorfiting = tf.keras.callbacks.EarlyStopping(monitor='loss', patience=3, restore_best_weights= True)\n",
    "    model.compile(optimizer='adam', loss='MSE', metrics=['MAE'])\n",
    "    history = model.fit(X_train, y_train, batch_size=10, epochs=50, validation_split=0.3)\n",
    "    res = model.evaluate(X_test, y_test)\n",
    "    \n",
    "    return ovorfiting, res[1], history\n",
    "trouve_ovorfiting()"
   ]
  },
  {
   "cell_type": "code",
   "execution_count": 11,
   "metadata": {
    "scrolled": true
   },
   "outputs": [
    {
     "name": "stdout",
     "output_type": "stream",
     "text": [
      "Epoch 1/50\n",
      "29/29 [==============================] - 1s 9ms/step - loss: 32.4356 - MAE: 4.0747 - val_loss: 58.1245 - val_MAE: 5.1754\n",
      "Epoch 2/50\n",
      "29/29 [==============================] - 0s 4ms/step - loss: 30.8677 - MAE: 3.9398 - val_loss: 56.9801 - val_MAE: 5.2955\n",
      "Epoch 3/50\n",
      "29/29 [==============================] - 0s 3ms/step - loss: 30.8653 - MAE: 3.9907 - val_loss: 56.8197 - val_MAE: 5.1029\n",
      "Epoch 4/50\n",
      "29/29 [==============================] - 0s 4ms/step - loss: 30.6078 - MAE: 3.9846 - val_loss: 56.6706 - val_MAE: 5.0367\n",
      "Epoch 5/50\n",
      "29/29 [==============================] - 0s 4ms/step - loss: 29.5457 - MAE: 3.8896 - val_loss: 56.3706 - val_MAE: 4.9876\n",
      "Epoch 6/50\n",
      "29/29 [==============================] - 0s 4ms/step - loss: 30.9062 - MAE: 3.9573 - val_loss: 55.0438 - val_MAE: 5.0739\n",
      "Epoch 7/50\n",
      "29/29 [==============================] - 0s 4ms/step - loss: 31.4655 - MAE: 4.1865 - val_loss: 56.1541 - val_MAE: 4.8984\n",
      "Epoch 8/50\n",
      "29/29 [==============================] - 0s 4ms/step - loss: 29.0990 - MAE: 3.8371 - val_loss: 54.4299 - val_MAE: 4.9752\n",
      "Epoch 9/50\n",
      "29/29 [==============================] - 0s 4ms/step - loss: 30.0702 - MAE: 3.9931 - val_loss: 59.1067 - val_MAE: 4.8874\n",
      "Epoch 10/50\n",
      "29/29 [==============================] - 0s 4ms/step - loss: 28.8500 - MAE: 3.8977 - val_loss: 53.9263 - val_MAE: 4.8587\n",
      "Epoch 11/50\n",
      "29/29 [==============================] - 0s 4ms/step - loss: 28.0948 - MAE: 3.8178 - val_loss: 52.4876 - val_MAE: 4.9482\n",
      "Epoch 12/50\n",
      "29/29 [==============================] - 0s 5ms/step - loss: 28.3754 - MAE: 3.8662 - val_loss: 52.5953 - val_MAE: 4.8549\n",
      "Epoch 13/50\n",
      "29/29 [==============================] - 0s 5ms/step - loss: 28.0515 - MAE: 3.8553 - val_loss: 54.4386 - val_MAE: 4.8004\n",
      "Epoch 14/50\n",
      "29/29 [==============================] - 0s 5ms/step - loss: 28.0766 - MAE: 3.8943 - val_loss: 51.2284 - val_MAE: 4.9768\n",
      "Epoch 15/50\n",
      "29/29 [==============================] - 0s 5ms/step - loss: 28.2944 - MAE: 3.8867 - val_loss: 54.9841 - val_MAE: 4.7801\n",
      "Epoch 16/50\n",
      "29/29 [==============================] - 0s 5ms/step - loss: 28.4669 - MAE: 3.9466 - val_loss: 51.4234 - val_MAE: 4.8430\n",
      "Epoch 17/50\n",
      "29/29 [==============================] - 0s 6ms/step - loss: 28.3384 - MAE: 3.9076 - val_loss: 53.7676 - val_MAE: 4.7503\n",
      "Epoch 18/50\n",
      "29/29 [==============================] - 0s 11ms/step - loss: 28.1615 - MAE: 3.9077 - val_loss: 51.5072 - val_MAE: 4.7650\n",
      "Epoch 19/50\n",
      "29/29 [==============================] - 0s 6ms/step - loss: 29.2690 - MAE: 4.0081 - val_loss: 52.9158 - val_MAE: 4.7327\n",
      "Epoch 20/50\n",
      "29/29 [==============================] - 0s 8ms/step - loss: 27.1145 - MAE: 3.8781 - val_loss: 52.4661 - val_MAE: 4.7238\n",
      "Epoch 21/50\n",
      "29/29 [==============================] - 0s 12ms/step - loss: 27.2058 - MAE: 3.8419 - val_loss: 50.6454 - val_MAE: 4.7011\n",
      "Epoch 22/50\n",
      "29/29 [==============================] - 0s 9ms/step - loss: 26.9336 - MAE: 3.8378 - val_loss: 50.9130 - val_MAE: 4.6803\n",
      "Epoch 23/50\n",
      "29/29 [==============================] - 0s 7ms/step - loss: 28.2817 - MAE: 3.9036 - val_loss: 53.8337 - val_MAE: 4.7451\n",
      "Epoch 24/50\n",
      "29/29 [==============================] - 0s 4ms/step - loss: 26.4496 - MAE: 3.8754 - val_loss: 51.2557 - val_MAE: 4.6668\n",
      "Epoch 25/50\n",
      "29/29 [==============================] - 0s 11ms/step - loss: 26.0077 - MAE: 3.7687 - val_loss: 48.2542 - val_MAE: 4.8583\n",
      "Epoch 26/50\n",
      "29/29 [==============================] - 0s 9ms/step - loss: 26.3527 - MAE: 3.8227 - val_loss: 49.1008 - val_MAE: 4.6638\n",
      "Epoch 27/50\n",
      "29/29 [==============================] - 0s 9ms/step - loss: 26.1990 - MAE: 3.8310 - val_loss: 47.0947 - val_MAE: 4.8209\n",
      "Epoch 28/50\n",
      "29/29 [==============================] - 0s 10ms/step - loss: 25.5895 - MAE: 3.8364 - val_loss: 54.2880 - val_MAE: 4.7574\n",
      "Epoch 29/50\n",
      "29/29 [==============================] - 0s 10ms/step - loss: 27.4165 - MAE: 3.8533 - val_loss: 49.8330 - val_MAE: 4.6288\n",
      "Epoch 30/50\n",
      "29/29 [==============================] - 0s 7ms/step - loss: 25.4597 - MAE: 3.7769 - val_loss: 46.2537 - val_MAE: 4.8848\n",
      "Epoch 31/50\n",
      "29/29 [==============================] - 0s 6ms/step - loss: 28.3704 - MAE: 4.0377 - val_loss: 46.2363 - val_MAE: 4.9477\n",
      "Epoch 32/50\n",
      "29/29 [==============================] - 0s 5ms/step - loss: 25.8336 - MAE: 3.8364 - val_loss: 47.1802 - val_MAE: 4.6146\n",
      "Epoch 33/50\n",
      "29/29 [==============================] - 0s 7ms/step - loss: 26.1881 - MAE: 3.9151 - val_loss: 51.8736 - val_MAE: 4.6707\n",
      "Epoch 34/50\n",
      "29/29 [==============================] - 0s 8ms/step - loss: 27.8492 - MAE: 3.9687 - val_loss: 48.3793 - val_MAE: 4.5690\n",
      "Epoch 35/50\n",
      "29/29 [==============================] - 0s 5ms/step - loss: 25.1419 - MAE: 3.7780 - val_loss: 48.1970 - val_MAE: 4.5572\n",
      "Epoch 36/50\n",
      "29/29 [==============================] - 0s 4ms/step - loss: 25.1481 - MAE: 3.7315 - val_loss: 47.9993 - val_MAE: 5.3697\n",
      "Epoch 37/50\n",
      "29/29 [==============================] - 0s 4ms/step - loss: 28.8732 - MAE: 4.2427 - val_loss: 45.4686 - val_MAE: 4.9762\n",
      "Epoch 38/50\n",
      "29/29 [==============================] - 0s 4ms/step - loss: 26.2903 - MAE: 3.8332 - val_loss: 45.6706 - val_MAE: 5.0267\n",
      "Epoch 39/50\n",
      "29/29 [==============================] - 0s 4ms/step - loss: 26.0561 - MAE: 3.8193 - val_loss: 46.9303 - val_MAE: 4.4991\n",
      "Epoch 40/50\n",
      "29/29 [==============================] - 0s 4ms/step - loss: 24.8365 - MAE: 3.7346 - val_loss: 45.9865 - val_MAE: 4.5081\n",
      "Epoch 41/50\n",
      "29/29 [==============================] - 0s 4ms/step - loss: 24.4219 - MAE: 3.6786 - val_loss: 45.0321 - val_MAE: 4.5275\n",
      "Epoch 42/50\n",
      "29/29 [==============================] - 0s 4ms/step - loss: 24.9678 - MAE: 3.7705 - val_loss: 44.8156 - val_MAE: 4.4851\n",
      "Epoch 43/50\n",
      "29/29 [==============================] - 0s 4ms/step - loss: 24.6132 - MAE: 3.7013 - val_loss: 44.5179 - val_MAE: 4.5039\n",
      "Epoch 44/50\n",
      "29/29 [==============================] - 0s 4ms/step - loss: 23.9690 - MAE: 3.6853 - val_loss: 52.3537 - val_MAE: 4.6735\n",
      "Epoch 45/50\n",
      "29/29 [==============================] - 0s 4ms/step - loss: 25.2641 - MAE: 3.7717 - val_loss: 46.2758 - val_MAE: 4.4415\n",
      "Epoch 46/50\n",
      "29/29 [==============================] - 0s 4ms/step - loss: 23.8368 - MAE: 3.7209 - val_loss: 45.2508 - val_MAE: 4.4110\n",
      "Epoch 47/50\n",
      "29/29 [==============================] - 0s 4ms/step - loss: 24.5980 - MAE: 3.6760 - val_loss: 43.6426 - val_MAE: 4.4456\n",
      "Epoch 48/50\n",
      "29/29 [==============================] - 0s 4ms/step - loss: 23.9987 - MAE: 3.6540 - val_loss: 42.6290 - val_MAE: 4.6108\n",
      "Epoch 49/50\n",
      "29/29 [==============================] - 0s 4ms/step - loss: 24.2687 - MAE: 3.7362 - val_loss: 53.7925 - val_MAE: 4.7469\n",
      "Epoch 50/50\n",
      "29/29 [==============================] - 0s 7ms/step - loss: 23.8626 - MAE: 3.7467 - val_loss: 43.1890 - val_MAE: 4.4371\n",
      "4/4 [==============================] - ETA: 0s - loss: 20.6815 - MAE: 3.08 - 0s 3ms/step - loss: 34.3543 - MAE: 4.2963\n"
     ]
    },
    {
     "data": {
      "text/plain": [
       "tuple"
      ]
     },
     "execution_count": 11,
     "metadata": {},
     "output_type": "execute_result"
    }
   ],
   "source": [
    "type(trouve_ovorfiting())"
   ]
  },
  {
   "cell_type": "code",
   "execution_count": 20,
   "metadata": {},
   "outputs": [
    {
     "name": "stdout",
     "output_type": "stream",
     "text": [
      "4/4 [==============================] - 0s 5ms/step - loss: 32.5428 - MAE: 4.2552 - MSE: 32.5428\n"
     ]
    },
    {
     "data": {
      "text/plain": [
       "(<keras.callbacks.EarlyStopping at 0x2731ceec580>, 4.255184173583984)"
      ]
     },
     "execution_count": 20,
     "metadata": {},
     "output_type": "execute_result"
    }
   ],
   "source": [
    "from tensorflow.keras.callbacks import EarlyStopping\n",
    "\n",
    "def trouve_ovorfiting():\n",
    "    ovorfiting = tf.keras.callbacks.EarlyStopping(monitor='loss', patience=3, restore_best_weights= True)\n",
    "    model.compile(optimizer='adam', loss='MSE', metrics=['MAE','MSE'])\n",
    "    #history = model.fit(X_train, y_train, batch_size=10, epochs=5, validation_split=0.3)\n",
    "    res = model.evaluate(X_test, y_test)\n",
    "    \n",
    "    return ovorfiting, res[1]\n",
    "trouve_ovorfiting()"
   ]
  },
  {
   "cell_type": "code",
   "execution_count": 21,
   "metadata": {},
   "outputs": [
    {
     "name": "stdout",
     "output_type": "stream",
     "text": [
      "Epoch 1/5\n",
      "29/29 [==============================] - 1s 9ms/step - loss: 22.4135 - MAE: 3.6078 - MSE: 22.4135 - val_loss: 43.7254 - val_MAE: 4.2946 - val_MSE: 43.7254\n",
      "Epoch 2/5\n",
      "29/29 [==============================] - 0s 5ms/step - loss: 21.9321 - MAE: 3.5273 - MSE: 21.9321 - val_loss: 42.8199 - val_MAE: 4.2502 - val_MSE: 42.8199\n",
      "Epoch 3/5\n",
      "29/29 [==============================] - 0s 5ms/step - loss: 21.8732 - MAE: 3.5051 - MSE: 21.8732 - val_loss: 41.0829 - val_MAE: 4.2014 - val_MSE: 41.0829\n",
      "Epoch 4/5\n",
      "29/29 [==============================] - 0s 5ms/step - loss: 21.7159 - MAE: 3.5327 - MSE: 21.7159 - val_loss: 40.5420 - val_MAE: 4.2175 - val_MSE: 40.5420\n",
      "Epoch 5/5\n",
      "29/29 [==============================] - 0s 5ms/step - loss: 22.6888 - MAE: 3.6463 - MSE: 22.6888 - val_loss: 38.0760 - val_MAE: 4.2420 - val_MSE: 38.0760\n"
     ]
    }
   ],
   "source": [
    " history = model.fit(X_train, y_train, batch_size=10, epochs=5, validation_split=0.3)"
   ]
  },
  {
   "cell_type": "code",
   "execution_count": 22,
   "metadata": {},
   "outputs": [
    {
     "data": {
      "image/png": "[encoded data removed]",
      "text/plain": [
       "<Figure size 936x288 with 2 Axes>"
      ]
     },
     "metadata": {
      "needs_background": "light"
     },
     "output_type": "display_data"
    },
    {
     "data": {
      "image/png": "[encoded data removed]",
      "text/plain": [
       "<Figure size 936x288 with 2 Axes>"
      ]
     },
     "metadata": {
      "needs_background": "light"
     },
     "output_type": "display_data"
    }
   ],
   "source": [
    "def plot_loss_mae(history):\n",
    "    fig, (ax1, ax2) = plt.subplots(1,2, figsize=(13,4))\n",
    "    ax1.plot(history.history['loss'])\n",
    "    ax1.plot(history.history['val_loss'])\n",
    "    ax1.set_title('Model loss')\n",
    "    ax1.set_ylabel('Loss')\n",
    "    ax1.set_xlabel('Epoch')\n",
    "    ax1.set_ylim(ymin=0, ymax=200)\n",
    "    ax1.legend(['Train', 'Validation'], loc='best')\n",
    "    ax1.grid(axis=\"x\",linewidth=0.5)\n",
    "    ax1.grid(axis=\"y\",linewidth=0.5)    \n",
    "    \n",
    "    ax2.plot(history.history['MAE'])\n",
    "    ax2.plot(history.history['val_MAE'])\n",
    "    ax2.set_title('MAE')\n",
    "    ax2.set_ylabel('MAE')\n",
    "    ax2.set_xlabel('Epoch')\n",
    "    ax2.set_ylim(ymin=0, ymax=20)\n",
    "    ax2.legend(['Train', 'Validation'], loc='best')\n",
    "    ax2.grid(axis=\"x\",linewidth=0.5)\n",
    "    ax2.grid(axis=\"y\",linewidth=0.5)    \n",
    "\n",
    "    plt.show()\n",
    "\n",
    "plot_loss_mae(history)\n",
    "\n",
    "def plot_loss_mse(history):\n",
    "    fig, (ax1, ax2) = plt.subplots(1,2, figsize=(13,4))\n",
    "    ax1.plot(history.history['loss'])\n",
    "    ax1.plot(history.history['val_loss'])\n",
    "    ax1.set_title('Model loss')\n",
    "    ax1.set_ylabel('Loss')\n",
    "    ax1.set_xlabel('Epoch')\n",
    "    ax1.set_ylim(ymin=0, ymax=20)\n",
    "    ax1.legend(['Train', 'Validation'], loc='best')\n",
    "    ax1.grid(axis=\"x\",linewidth=0.5)\n",
    "    ax1.grid(axis=\"y\",linewidth=0.5)    \n",
    "\n",
    "    \n",
    "    ax2.plot(history.history['MSE'])\n",
    "    ax2.plot(history.history['val_MSE'])\n",
    "    ax2.set_title('MSE')\n",
    "    ax2.set_ylabel('MSE')\n",
    "    ax2.set_xlabel('Epoch')\n",
    "    ax2.set_ylim(ymin=0, ymax=200)\n",
    "    ax2.legend(['Train', 'Validation'], loc='best')\n",
    "    ax2.grid(axis=\"x\",linewidth=0.5)\n",
    "    ax2.grid(axis=\"y\",linewidth=0.5) \n",
    "\n",
    "    plt.show()\n",
    "plot_loss_mse(history)"
   ]
  },
  {
   "cell_type": "code",
   "execution_count": 23,
   "metadata": {
    "tags": [
     "delete"
    ]
   },
   "outputs": [
    {
     "name": "stdout",
     "output_type": "stream",
     "text": [
      "Model: \"sequential_1\"\n",
      "_________________________________________________________________\n",
      " Layer (type)                Output Shape              Param #   \n",
      "=================================================================\n",
      " dense_3 (Dense)             (None, 10)                140       \n",
      "                                                                 \n",
      " dense_4 (Dense)             (None, 7)                 77        \n",
      "                                                                 \n",
      " dense_5 (Dense)             (None, 1)                 8         \n",
      "                                                                 \n",
      "=================================================================\n",
      "Total params: 225\n",
      "Trainable params: 225\n",
      "Non-trainable params: 0\n",
      "_________________________________________________________________\n",
      "4/4 [==============================] - 0s 5ms/step - loss: 34.1061 - MAE: 4.1554\n",
      "MAE with the rmsprop optimizer: 4.1554  reached in 14 s after 174 epochs\n"
     ]
    },
    {
     "data": {
      "image/png": "[encoded data removed]",
      "text/plain": [
       "<Figure size 936x288 with 2 Axes>"
      ]
     },
     "metadata": {
      "needs_background": "light"
     },
     "output_type": "display_data"
    },
    {
     "name": "stdout",
     "output_type": "stream",
     "text": [
      "Model: \"sequential_2\"\n",
      "_________________________________________________________________\n",
      " Layer (type)                Output Shape              Param #   \n",
      "=================================================================\n",
      " dense_6 (Dense)             (None, 10)                140       \n",
      "                                                                 \n",
      " dense_7 (Dense)             (None, 7)                 77        \n",
      "                                                                 \n",
      " dense_8 (Dense)             (None, 1)                 8         \n",
      "                                                                 \n",
      "=================================================================\n",
      "Total params: 225\n",
      "Trainable params: 225\n",
      "Non-trainable params: 0\n",
      "_________________________________________________________________\n",
      "4/4 [==============================] - 0s 2ms/step - loss: 28.9577 - MAE: 3.8159\n",
      "MAE with the adam optimizer: 3.8159  reached in 17 s after 262 epochs\n"
     ]
    },
    {
     "data": {
      "image/png": "[encoded data removed]",
      "text/plain": [
       "<Figure size 936x288 with 2 Axes>"
      ]
     },
     "metadata": {
      "needs_background": "light"
     },
     "output_type": "display_data"
    },
    {
     "name": "stdout",
     "output_type": "stream",
     "text": [
      "Model: \"sequential_3\"\n",
      "_________________________________________________________________\n",
      " Layer (type)                Output Shape              Param #   \n",
      "=================================================================\n",
      " dense_9 (Dense)             (None, 10)                140       \n",
      "                                                                 \n",
      " dense_10 (Dense)            (None, 7)                 77        \n",
      "                                                                 \n",
      " dense_11 (Dense)            (None, 1)                 8         \n",
      "                                                                 \n",
      "=================================================================\n",
      "Total params: 225\n",
      "Trainable params: 225\n",
      "Non-trainable params: 0\n",
      "_________________________________________________________________\n",
      "4/4 [==============================] - 0s 3ms/step - loss: 97.5620 - MAE: 7.2366\n",
      "MAE with the adagrad optimizer: 7.2366  reached in 32 s after 500 epochs\n"
     ]
    },
    {
     "data": {
      "image/png": "[encoded data removed]",
      "text/plain": [
       "<Figure size 936x288 with 2 Axes>"
      ]
     },
     "metadata": {
      "needs_background": "light"
     },
     "output_type": "display_data"
    }
   ],
   "source": [
    "import time\n",
    "\n",
    "for optimizer in ['rmsprop', 'adam', 'adagrad']:\n",
    "    start_time = time.time()\n",
    "    model = initialize_model()\n",
    "    model = compile_model(model, optimizer)\n",
    "\n",
    "    es = EarlyStopping(patience=10, restore_best_weights=True)\n",
    "\n",
    "    history = model.fit(X_train, y_train, \n",
    "                      batch_size=16, \n",
    "                      epochs=500, \n",
    "                      validation_split=0.3,\n",
    "                      callbacks=[es], verbose=0)\n",
    "\n",
    "    res = model.evaluate(X_test, y_test)[1]\n",
    "    end_time = time.time()\n",
    "\n",
    "    print(f'MAE with the {optimizer} optimizer: {res:.4f}  reached in {(end_time - start_time):.0f} s after {len(history.epoch)} epochs')\n",
    "    plot_loss_mae(history)"
   ]
  },
  {
   "cell_type": "markdown",
   "metadata": {},
   "source": [
    "❓ **Question** ❓ Are your predictions better than the benchmark model you've evaluated at the beginning of the notebook?"
   ]
  },
  {
   "cell_type": "markdown",
   "metadata": {},
   "source": [
    "❗ **Remark** ❗ \n",
    "- Here, the optimizer is may not be central as the data are in low dimensions and and there are not many samples. However, in practice, you are advised to start with the `adam` optimizer by default which often works best. \n",
    "\n",
    "- Internally, when you call any optimizer with a string, the neural network initializes the hyperparameters the optimizer relies on. Among this hyperparameters, there is quite an important one, the **`learning rate`**. This learning rate corresponds to the intensity of change of the weights at each optimization of the neural network. Different learning rates have different consequences, as shown here : \n",
    "\n",
    "<img src=\"learning_rate.png\" alt=\"Learning rate\" style=\"height:350px;\"/>\n",
    "\n",
    "\n",
    "As the learning rate is initialized with default values when you compile the model optimizer with a string, let's see how to do it differently.\n",
    "\n",
    "\n",
    "❓ **Question** ❓ Instead of initializing the optimizer with a string, we will initialize a real optimizer directly. Look at the documentation of [adam](https://www.tensorflow.org/api_docs/python/tf/keras/optimizers/Adam) and instantiate it with a learning rate of $0.1$ - keep the other values to their default values. Use this optimizer in the `compile_model` function, fit the data and plot the history"
   ]
  },
  {
   "cell_type": "code",
   "execution_count": 18,
   "metadata": {
    "tags": [
     "challengify"
    ]
   },
   "outputs": [
    {
     "data": {
      "text/plain": [
       "<keras.optimizer_v2.adam.Adam at 0x2736ca5c070>"
      ]
     },
     "execution_count": 18,
     "metadata": {},
     "output_type": "execute_result"
    }
   ],
   "source": [
    "# YOUR CODE HERE\n",
    "opt = tf.keras.optimizers.Adam(learning_rate=0.1)\n",
    "opt"
   ]
  },
  {
   "cell_type": "markdown",
   "metadata": {},
   "source": [
    "❓ **Question** ❓ Now, reproduce the same plots and results but for different learning rates.\n",
    "\n",
    "*Remark*: There is a chance that the y-axis is too large for you to visualize the results. In that case, rewrite the plot function to plot only the epochs > 10."
   ]
  },
  {
   "cell_type": "code",
   "execution_count": 28,
   "metadata": {},
   "outputs": [
    {
     "name": "stdout",
     "output_type": "stream",
     "text": [
      "0.0001\n",
      "0.001\n",
      "0.01\n",
      "0.1\n",
      "1\n",
      "5\n",
      "<keras.optimizer_v2.adam.Adam object at 0x000002731CBE1280>\n"
     ]
    }
   ],
   "source": [
    "learning_rates = [0.0001, 0.001, 0.01, 0.1, 1, 5]\n",
    "#def adam()\n",
    "for lr in range(len(learning_rates)):\n",
    "    print(learning_rates[lr])\n",
    "    stock = tf.keras.optimizers.Adam(learning_rate=learning_rates[lr], name='Adam')\n",
    "print(stock)                                 "
   ]
  },
  {
   "cell_type": "markdown",
   "metadata": {},
   "source": [
    "# 3. The loss\n",
    "\n",
    "⚠️ It is important to **clearly understand the different between metrics and losses**. \n",
    "\n",
    "* The `loss functions` are computed *during* the training procedure\n",
    "* The `metrics` are computed *after* training your models !\n",
    "* Some metrics can be used as loss functions too... as long as they are differentiable ! (e.g. the *MSE*)\n",
    "\n",
    "❓ **Question** ❓ Run the same neural network, once with the `mae` as the loss, and once with the `mse`.  \n",
    "\n",
    "In both case, compare `mae_train`, `mae_val`, `mse_train`, `mse_val` and conclude."
   ]
  },
  {
   "cell_type": "code",
   "execution_count": 29,
   "metadata": {},
   "outputs": [
    {
     "name": "stdout",
     "output_type": "stream",
     "text": [
      "Epoch 1/5\n",
      "29/29 [==============================] - 1s 12ms/step - loss: 72.6290 - MAE: 6.0570 - MSE: 72.6290 - val_loss: 101.6304 - val_MAE: 7.0420 - val_MSE: 101.6304\n",
      "Epoch 2/5\n",
      "29/29 [==============================] - 0s 4ms/step - loss: 67.1636 - MAE: 5.8525 - MSE: 67.1636 - val_loss: 96.2946 - val_MAE: 6.8253 - val_MSE: 96.2946\n",
      "Epoch 3/5\n",
      "29/29 [==============================] - 0s 4ms/step - loss: 62.8884 - MAE: 5.6313 - MSE: 62.8884 - val_loss: 90.8707 - val_MAE: 6.8170 - val_MSE: 90.8707\n",
      "Epoch 4/5\n",
      "29/29 [==============================] - 0s 4ms/step - loss: 59.3536 - MAE: 5.4835 - MSE: 59.3536 - val_loss: 88.8476 - val_MAE: 6.4334 - val_MSE: 88.8476\n",
      "Epoch 5/5\n",
      "29/29 [==============================] - 0s 5ms/step - loss: 55.6206 - MAE: 5.4107 - MSE: 55.6206 - val_loss: 91.8492 - val_MAE: 6.1853 - val_MSE: 91.8492\n",
      "4/4 [==============================] - 0s 5ms/step - loss: 74.0958 - MAE: 6.0942 - MSE: 74.0958\n"
     ]
    },
    {
     "data": {
      "text/plain": [
       "(<keras.callbacks.EarlyStopping at 0x2731ca6e160>, 6.094170093536377)"
      ]
     },
     "execution_count": 29,
     "metadata": {},
     "output_type": "execute_result"
    }
   ],
   "source": [
    "from tensorflow.keras.callbacks import EarlyStopping\n",
    "\n",
    "def trouve_ovorfiting():\n",
    "    ovorfiting = tf.keras.callbacks.EarlyStopping(monitor='loss', patience=3, restore_best_weights= True)\n",
    "    model.compile(optimizer='adam', loss='MSE', metrics=['MAE','MSE'])\n",
    "    model.fit(X_train, y_train, batch_size=10, epochs=5, validation_split=0.3)\n",
    "    res = model.evaluate(X_test, y_test)\n",
    "    \n",
    "    return ovorfiting, res[1]\n",
    "trouve_ovorfiting()\n",
    "# YOUR CODE HERE"
   ]
  },
  {
   "cell_type": "markdown",
   "metadata": {},
   "source": [
    "❗️ Countrary to first intuition, it can be sometimes better to use the MSE as the loss function in order to get the best MAE possible in the end!\n",
    "\n",
    "<details>\n",
    "    <summary>▶ Why?</summary>\n",
    "\n",
    "Well, even the Deep Learning research community is still trying to answer these types of questions rigorously.\n",
    "    \n",
    "One thing for sure: In Deep Learning, you will never really reach the \"global minimum\" of the true loss function (the one computed using your entire training set as one single \"batch\"). So, in your first model (minimizing the MAE loss), your global MAE minimum has clearly **not** been reached (otherwise you could never beat it). \n",
    "\n",
    "Why? It may well be that the minimization process of the second model has performed better. Maybe because the loss function \"energy map\" is \"smoother\" or more \"convex\" in the case of MSE loss? Or maybe your hyper-parameter are best suited to the MSE than to the MAE loss?\n",
    "\n",
    "</details>"
   ]
  },
  {
   "cell_type": "markdown",
   "metadata": {},
   "source": [
    "### 🧪 Test your model best performance\n",
    "\n",
    "❓ Save your best model performance on the test set at `mae_test` and check it out below"
   ]
  },
  {
   "cell_type": "code",
   "execution_count": null,
   "metadata": {},
   "outputs": [],
   "source": [
    "from tensorflow.keras.callbacks import EarlyStopping\n",
    "\n",
    "def trouve_ovorfiting():\n",
    "    ovorfiting = tf.keras.callbacks.EarlyStopping(monitor='loss', patience=3, restore_best_weights= True)\n",
    "    model.compile(optimizer='adam', loss='MSE', metrics=['MAE','MSE'])\n",
    "    #model.fit(X_train, y_train, batch_size=10, epochs=5, validation_split=0.3)\n",
    "    res = model.evaluate(X_test, y_test)\n",
    "    \n",
    "    return ovorfiting, res[1]\n",
    "trouve_ovorfiting()\n",
    "# YOUR CODE HERE\n",
    "# YOUR CODE HERE"
   ]
  },
  {
   "cell_type": "markdown",
   "metadata": {},
   "source": [
    "# 4 : Save and load a model\n",
    "\n",
    "❓ **Question** ❓  Save your model using `.save_model(model, 'name_of_my_model')` method that you can find [here](https://www.tensorflow.org/api_docs/python/tf/keras/models/save_model).."
   ]
  },
  {
   "cell_type": "markdown",
   "metadata": {},
   "source": [
    "❓ **Question** ❓ Now, in a variable that you will call `loaded_model`, load the model you just saved thanks to `.load_model('name_of_your_model')` [(documentation here)](https://www.tensorflow.org/api_docs/python/tf/keras/models/load_model), and evaluate it on the test data to check that it gives the same result as before."
   ]
  },
  {
   "cell_type": "code",
   "execution_count": null,
   "metadata": {
    "tags": [
     "challengify"
    ]
   },
   "outputs": [],
   "source": [
    "# YOUR CODE"
   ]
  },
  {
   "cell_type": "markdown",
   "metadata": {},
   "source": [
    "## (Optional) `Exponential Decay` for the Optimizer's Learning Rate\n",
    "\n",
    "The next question is not essential and can be skipped as many algorithms can be run without such optimization. \n",
    "\n",
    "Instead of keeping a fixed learning rate, you can change it from one iteration to the other, with the intuition that at first, you need large learning rates, and as the neural network converges and get closer to the minimum loss value, you can decrease the value of the learning rate. This is called a **`scheduler`**. \n",
    "\n",
    "❓ **Question** ❓ Use the [Exponential Decay Scheduler](https://www.tensorflow.org/api_docs/python/tf/keras/optimizers/schedules/ExponentialDecay) in the `adam` optimizer and run it on the previous data. Start with the following:\n",
    "\n",
    "```python\n",
    "initial_learning_rate = 0.001 # start with default ADAM value\n",
    "\n",
    "lr_schedule = ExponentialDecay(\n",
    "    # Every 5000 iterations, multiply the learning rate by 0.7\n",
    "    initial_learning_rate, decay_steps=5000, decay_rate=0.7,\n",
    ")\n",
    "```"
   ]
  },
  {
   "cell_type": "code",
   "execution_count": null,
   "metadata": {},
   "outputs": [],
   "source": [
    "# YOUR CODE HERE"
   ]
  },
  {
   "cell_type": "code",
   "execution_count": null,
   "metadata": {},
   "outputs": [],
   "source": [
    "import numpy as np\n",
    "import pandas as pd\n",
    "from tensorflow.keras.datasets import boston_housing\n",
    "import matplotlib.pyplot as plt\n",
    "import seaborn as sns\n",
    "%matplotlib inline"
   ]
  }
 ],
 "metadata": {
  "kernelspec": {
   "display_name": "Python 3",
   "language": "python",
   "name": "python3"
  },
  "language_info": {
   "codemirror_mode": {
    "name": "ipython",
    "version": 3
   },
   "file_extension": ".py",
   "mimetype": "text/x-python",
   "name": "python",
   "nbconvert_exporter": "python",
   "pygments_lexer": "ipython3",
   "version": "3.8.8"
  }
 },
 "nbformat": 4,
 "nbformat_minor": 4
}
