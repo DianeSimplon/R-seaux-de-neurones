{
  "nbformat": 4,
  "nbformat_minor": 0,
  "metadata": {
    "accelerator": "GPU",
    "colab": {
      "name": "cifar_classification.ipynb",
      "provenance": [],
      "collapsed_sections": []
    },
    "kernelspec": {
      "display_name": "Python 3",
      "language": "python",
      "name": "python3"
    },
    "language_info": {
      "codemirror_mode": {
        "name": "ipython",
        "version": 3
      },
      "file_extension": ".py",
      "mimetype": "text/x-python",
      "name": "python",
      "nbconvert_exporter": "python",
      "pygments_lexer": "ipython3",
      "version": "3.8.8"
    },
    "toc": {
      "base_numbering": 1,
      "nav_menu": {},
      "number_sections": false,
      "sideBar": true,
      "skip_h1_title": false,
      "title_cell": "Table of Contents",
      "title_sidebar": "Contents",
      "toc_cell": false,
      "toc_position": {},
      "toc_section_display": true,
      "toc_window_display": true
    },
    "varInspector": {
      "cols": {
        "lenName": 16,
        "lenType": 16,
        "lenVar": 40
      },
      "kernels_config": {
        "python": {
          "delete_cmd_postfix": "",
          "delete_cmd_prefix": "del ",
          "library": "var_list.py",
          "varRefreshCmd": "print(var_dic_list())"
        },
        "r": {
          "delete_cmd_postfix": ") ",
          "delete_cmd_prefix": "rm(",
          "library": "var_list.r",
          "varRefreshCmd": "cat(var_dic_list()) "
        }
      },
      "types_to_exclude": [
        "module",
        "function",
        "builtin_function_or_method",
        "instance",
        "_Feature"
      ],
      "window_display": false
    }
  },
  "cells": [
    {
      "cell_type": "markdown",
      "metadata": {
        "collapsed": true,
        "id": "eEt4AJqKVj0v"
      },
      "source": [
        "# CIFAR Classification\n",
        "\n",
        "### Exercise objectives\n",
        "\n",
        "- Implement a CNN for a 10-class classification problem\n",
        "- Enhance the CNN performance with data augmentation techniques\n",
        "- Experiment the acceleration of GPU for image processing (Google Colab)\n",
        "\n",
        "<hr>\n",
        "<hr>\n",
        "\n",
        "You should now have a better feeling of how a CNN is working, and especially how the convolutions are affecting the image to detect specific features. Therefore, let's now play with a bit more complex images. \n",
        "\n",
        "The CIFAR-10 dataset is a dataset that contains images of 10 different classes \n",
        "\n",
        "<img src=\"https://people.minesparis.psl.eu/fabien.moutarde/ES_MachineLearning/mini-projets/cifar10_notebook_fichiers/cifar_10.png\">\n",
        "\n",
        "This dataset is emblematic in the research community as many enhancements for image problems have been achieved on this dataset, and later on the CIFAR-100 dataset once the performance got too high. You can check the [wikipedia](https://en.wikipedia.org/wiki/CIFAR-10) page of the dataset if you want to know more about it.\n",
        "\n",
        "In this notebook, we propose to implement a CNN to distinguish the 10 categories from the CIFAR-10 dataset. Again, remember that until 10 years ago, this problem was very challenging to the entire research community and is now for you to tackle.\n"
      ]
    },
    {
      "cell_type": "markdown",
      "metadata": {
        "id": "OE3R20SasW6i"
      },
      "source": [
        "## 0. Colab\n",
        "\n",
        "**First, make sure to use GPU acceleration** by clicking on `\"Runtime --> Change runtime --> GPU\"` if you are on Colab. "
      ]
    },
    {
      "cell_type": "markdown",
      "metadata": {
        "collapsed": true,
        "id": "ZY44N5e6T2Il"
      },
      "source": [
        "## 1. Data\n",
        "\n",
        "We'll take care of data loading and preprocessing for you. Just run the following cells and make sure you understand them"
      ]
    },
    {
      "cell_type": "code",
      "metadata": {
        "colab": {
          "base_uri": "https://localhost:8080/"
        },
        "id": "1-GZf1Phv9Nc",
        "outputId": "3f8739d9-dd20-400c-e211-e4d0b314bf94"
      },
      "source": [
        "from google.colab import drive\n",
        "drive.mount('/content/drive')"
      ],
      "execution_count": 11,
      "outputs": [
        {
          "output_type": "stream",
          "name": "stdout",
          "text": [
            "Mounted at /content/drive\n"
          ]
        }
      ]
    },
    {
      "cell_type": "code",
      "metadata": {
        "id": "0v5g5IarzhCN"
      },
      "source": [
        "from sklearn import datasets\n",
        "import pandas as pd\n",
        "import numpy as np\n",
        "import matplotlib.pyplot as plt\n",
        "%matplotlib inline\n",
        "import seaborn as sns\n",
        "sns.set(rc={'figure.figsize':(10,5)})\n",
        "import tensorflow as tf \n",
        "#importer la base de donnée\n",
        "from tensorflow.keras.datasets import cifar10\n",
        "#pour le model\n",
        "from tensorflow.keras.models import Sequential\n",
        "#pour les couches\n",
        "from tensorflow.keras.layers import Dense, Activation, Flatten\n",
        "#partie reseau convolutionnelle\n",
        "from tensorflow.keras.layers import Conv2D,MaxPooling2D \n",
        "from tensorflow.keras.preprocessing.image import ImageDataGenerator"
      ],
      "execution_count": 12,
      "outputs": []
    },
    {
      "cell_type": "code",
      "metadata": {
        "colab": {
          "base_uri": "https://localhost:8080/"
        },
        "id": "JloPztT_zg9e",
        "outputId": "eec4dfe7-0bb1-4723-c5bb-a2111ed9a6b2"
      },
      "source": [
        "df = cifar10.load_data()\n",
        "(X_train, y_train),(X_test,y_test) = df\n",
        "print(\"X_train :\", X_train.shape,\"X_test :\", X_test.shape, \"y_train :\", y_train.shape, \"y_test :\" ,y_test.shape)"
      ],
      "execution_count": 13,
      "outputs": [
        {
          "output_type": "stream",
          "name": "stdout",
          "text": [
            "X_train : (50000, 32, 32, 3) X_test : (10000, 32, 32, 3) y_train : (50000, 1) y_test : (10000, 1)\n"
          ]
        }
      ]
    },
    {
      "cell_type": "code",
      "metadata": {
        "colab": {
          "base_uri": "https://localhost:8080/",
          "height": 340
        },
        "id": "loOCOT_QPx41",
        "outputId": "78e7744e-7363-4cc4-95cb-a46e3f266046"
      },
      "source": [
        "#Pour visualiser les photos \n",
        "plt.imshow(X_train[5])\n",
        "#print(y_train[10])"
      ],
      "execution_count": null,
      "outputs": [
        {
          "data": {
            "text/plain": [
              "<matplotlib.image.AxesImage at 0x7ff42aaec650>"
            ]
          },
          "execution_count": 10,
          "metadata": {},
          "output_type": "execute_result"
        },
        {
          "data": {
            "image/png": "[encoded data removed]",
            "text/plain": [
              "<Figure size 720x360 with 1 Axes>"
            ]
          },
          "metadata": {},
          "output_type": "display_data"
        }
      ]
    },
    {
      "cell_type": "code",
      "metadata": {
        "id": "ysGC1pcdOBlO"
      },
      "source": [
        "# etape1- Couche de convolution :conv2d (Conv2D)             (None, 30, 30, 256)       7168\n",
        "# etape2- Couche d'activation :activation (Activation)     (None, 30, 30, 256)       0 \n",
        "# etape3- max_pooling2d (MaxPooling2D  (None, 15, 15, 256)      0         \n",
        "# etape4- flatten (Flatten)           (None, 57600)             0   \n",
        "#Premiere couche cache :dense (Dense)               (None, 64)                3686464   \n",
        "#couche de sorie :dense_1 (Dense)             (None, 10)                650 \n",
        "#En fin fonction d'activation :     activation_1 (Activation)   (None, 10)                0   "
      ],
      "execution_count": null,
      "outputs": []
    },
    {
      "cell_type": "code",
      "metadata": {
        "colab": {
          "base_uri": "https://localhost:8080/"
        },
        "id": "6HvojcUiAO5O",
        "outputId": "691db6b5-1627-44b9-bad2-e7b0478ce2a8"
      },
      "source": [
        "type(models)"
      ],
      "execution_count": null,
      "outputs": [
        {
          "data": {
            "text/plain": [
              "keras.engine.sequential.Sequential"
            ]
          },
          "execution_count": 16,
          "metadata": {},
          "output_type": "execute_result"
        }
      ]
    },
    {
      "cell_type": "code",
      "metadata": {
        "colab": {
          "base_uri": "https://localhost:8080/"
        },
        "id": "ZkKdhZXWVj00",
        "outputId": "ae15ff28-6615-4aa4-b5b3-7e78c5011b49"
      },
      "source": [
        "from tensorflow.keras.datasets import cifar10\n",
        "import numpy as np\n",
        "\n",
        "(images_train, labels_train), (images_test, labels_test) = cifar10.load_data()\n",
        "labels = ['airplane', 'automobile', 'bird', 'cat', 'deer',\n",
        "               'dog', 'frog', 'horse', 'ship', 'truck']\n",
        "\n",
        "print(images_train.shape, images_test.shape)\n",
        "unique, counts = np.unique(labels_train, return_counts=True)\n",
        "dict(zip(unique, counts))"
      ],
      "execution_count": 14,
      "outputs": [
        {
          "output_type": "stream",
          "name": "stdout",
          "text": [
            "(50000, 32, 32, 3) (10000, 32, 32, 3)\n"
          ]
        },
        {
          "output_type": "execute_result",
          "data": {
            "text/plain": [
              "{0: 5000,\n",
              " 1: 5000,\n",
              " 2: 5000,\n",
              " 3: 5000,\n",
              " 4: 5000,\n",
              " 5: 5000,\n",
              " 6: 5000,\n",
              " 7: 5000,\n",
              " 8: 5000,\n",
              " 9: 5000}"
            ]
          },
          "metadata": {},
          "execution_count": 14
        }
      ]
    },
    {
      "cell_type": "markdown",
      "metadata": {
        "id": "ZI_3K-MHT2In"
      },
      "source": [
        "❗️ 50,000 images may take a long time to train: **Always start with a subsample to iterate quickly** before scaling up\n",
        "\n",
        "Below, we divide the dataset size by `reduction_factor=10`. Don't try to increase it unless we ask you too."
      ]
    },
    {
      "cell_type": "code",
      "metadata": {
        "colab": {
          "base_uri": "https://localhost:8080/"
        },
        "id": "wR_JXHmlT2Io",
        "outputId": "485c42e3-4097-43bf-cd57-420085fe5e22"
      },
      "source": [
        "# Reduce size\n",
        "reduction_factor = 10\n",
        "\n",
        "idx_train =  np.random.choice(len(images_train), round(len(images_train)/reduction_factor))\n",
        "idx_test =  np.random.choice(len(images_test), round(len(images_test)/reduction_factor))\n",
        "\n",
        "images_train_small = images_train[idx_train]\n",
        "images_test_small = images_test[idx_test]\n",
        "labels_train_small = labels_train[idx_train]\n",
        "labels_test_small = labels_test[idx_test]\n",
        "\n",
        "print(images_train.shape, images_test.shape)\n",
        "unique, counts = np.unique(labels_train_small, return_counts=True)\n",
        "dict(zip(unique, counts))"
      ],
      "execution_count": 15,
      "outputs": [
        {
          "output_type": "stream",
          "name": "stdout",
          "text": [
            "(50000, 32, 32, 3) (10000, 32, 32, 3)\n"
          ]
        },
        {
          "output_type": "execute_result",
          "data": {
            "text/plain": [
              "{0: 477,\n",
              " 1: 487,\n",
              " 2: 488,\n",
              " 3: 476,\n",
              " 4: 515,\n",
              " 5: 509,\n",
              " 6: 503,\n",
              " 7: 506,\n",
              " 8: 519,\n",
              " 9: 520}"
            ]
          },
          "metadata": {},
          "execution_count": 15
        }
      ]
    },
    {
      "cell_type": "code",
      "metadata": {
        "colab": {
          "base_uri": "https://localhost:8080/",
          "height": 186
        },
        "id": "hQ62jK5VVj03",
        "outputId": "2c1340cd-8d7f-4c40-fe51-da3278384701"
      },
      "source": [
        "# Let's plot few images to see what they look like\n",
        "import matplotlib.pyplot as plt\n",
        "\n",
        "plt.figure(figsize=(15,5))\n",
        "for i in range(6):\n",
        "    plt.subplot(1,6, i+1)\n",
        "    img = images_train[i]\n",
        "    label = labels_train[i][0]\n",
        "    plt.imshow(img)\n",
        "    plt.title(labels[label])"
      ],
      "execution_count": null,
      "outputs": [
        {
          "data": {
            "image/png": "[encoded data removed]",
            "text/plain": [
              "<Figure size 1080x360 with 6 Axes>"
            ]
          },
          "metadata": {},
          "output_type": "display_data"
        }
      ]
    },
    {
      "cell_type": "markdown",
      "metadata": {
        "id": "WMG4ttoHVj02"
      },
      "source": [
        "And, as usual,\n",
        "- we normalize the data between 0 and 1\n",
        "- we create `y` as one-hot-encoded version of `labels`"
      ]
    },
    {
      "cell_type": "code",
      "metadata": {
        "id": "Fm8XRTbiVj02"
      },
      "source": [
        "X_train = images_train / 255.\n",
        "X_train_small = images_train_small / 255.\n",
        "X_test = images_test / 255.\n",
        "X_test_small = images_test_small / 255.\n",
        "#print(\"X_train \", X_train)\n",
        "#print(\"X_train_small \",X_train_small)\n",
        "#print(\"X_test \",X_test)\n",
        "#print(\"X_test_small \",X_test_small)\n",
        "from tensorflow.keras.utils import to_categorical\n",
        "y_train = to_categorical(labels_train, 10)\n",
        "y_train_small = to_categorical(labels_train_small, 10)\n",
        "y_test = to_categorical(labels_test, 10)\n",
        "y_test_small = to_categorical(labels_test_small, 10)\n",
        "#print(\"y_train \", y_train)\n",
        "#print(\"y_train_small \",y_train_small)\n",
        "#print(\"y_test \", y_test)\n",
        "#print(\"y_test_small \", y_test_small)"
      ],
      "execution_count": 16,
      "outputs": []
    },
    {
      "cell_type": "code",
      "metadata": {
        "id": "zezZvjnfpy_I"
      },
      "source": [
        "#Il faut normaliser les photos les chiffre entre [0, 1]: car les données sont sous forma de matrice \n",
        "X_train = X_train/255.0\n",
        "X_test  = X_test/255.0"
      ],
      "execution_count": 17,
      "outputs": []
    },
    {
      "cell_type": "code",
      "metadata": {
        "colab": {
          "base_uri": "https://localhost:8080/"
        },
        "id": "nBH-6Fx8PVzZ",
        "outputId": "93d6a953-8f3a-4edf-d441-9ae2ba91f509"
      },
      "source": [
        "#le nbre des images:50000\n",
        "#la taille image: 32, 32\n",
        "#code couleur:3\n",
        "print(X_train.shape)\n",
        "print(X_train.shape[1:])"
      ],
      "execution_count": 18,
      "outputs": [
        {
          "output_type": "stream",
          "name": "stdout",
          "text": [
            "(50000, 32, 32, 3)\n",
            "(32, 32, 3)\n"
          ]
        }
      ]
    },
    {
      "cell_type": "markdown",
      "metadata": {
        "id": "ke9YJk7MVj04"
      },
      "source": [
        "## 2. Iterate on your CNN architecture using your small training set\n",
        "\n",
        "\n",
        "❓ **Question** ❓ Your turn to shine!\n",
        "\n",
        "- Define the CNN architecture of your choice in a method `initialize_model()`\n",
        "- Compile your model in a method `compile_model()`:\n",
        "- Fit it on your **small** training set **only**\n",
        "- Store the output of the fit in an `history` variable\n",
        "- Try a first model yourself, before looking at PRO TIPS below\n",
        " \n",
        "<details>\n",
        "    <summary> 🆘 PRO TIPS 🆘  </summary>\n",
        "\n",
        "\n",
        "- Do not forget to add the input shape of your data to the first layer: it has 3 colors\n",
        "- Start simple, complexify after few trials to get better results\n",
        "- The task is complex: Try at least 3 or 4 convolutions\n",
        "- Kernel size do not need to be large for such small picture resolution!\n",
        "- Add some Maxpooling (but not too much else the activation \"image\" will become too small)\n",
        "- Keep padding = 'same' and 'stride' = (1,1) to start with.\n",
        "- Once your model overfits, try adding some dropout layer to regularize the network. A good tip is too increase dropout strengh as you move closer to the output, so as not to overfit on your end-result\n",
        "- Images are so small, that you can use larger batch size (32 or 64) to benefit from even more GPU parallelization\n",
        "</details>\n"
      ]
    },
    {
      "cell_type": "code",
      "metadata": {
        "colab": {
          "base_uri": "https://localhost:8080/"
        },
        "id": "GNOtE5xhVj04",
        "outputId": "64c6e864-6e9b-42f2-b5a8-ffc39d1a5b3b"
      },
      "source": [
        "#Creation du modele: Creer la photo\n",
        "#model = Sequential()\n",
        "def initialize_model():\n",
        "  #Initialiser le model\n",
        "  model = Sequential()\n",
        "  #creer le reseau de neurone convolutionnel\n",
        "  #1couche de convolution: Conv2D(256:nbre de filtre, taille de filtre(3,3))\n",
        "  model.add(Conv2D(25, (3,3), input_shape = X_train.shape[1:]))\n",
        "  #rajouter une fonction d'activation\n",
        "  model.add(Activation('relu'))\n",
        "  #creer la convolution ; spacifier la taille du pool(partie maximale):pool_size=(2,2)\n",
        "  model.add(MaxPooling2D(pool_size=(2,2)))\n",
        "  #partie flatting: mettre sous forme d'une seule ligne(aligne la df) ou colonne\n",
        "  #Laisse vider pour permettre au reseau de premdre forme soit meme\n",
        "  model.add(Flatten())\n",
        "  #Comportement connecte : rejoute un reseau de neuronne normal comme cas de Exercice2 botton housing)\n",
        "  #On a mis une couche de 64 noeuds\n",
        "  model.add(Dense(64))\n",
        "  #couche pour la sortie : savoir combien de noeuds= les types dans la data set\n",
        "  model.add(Dense(10))\n",
        "  #En fin la fonction d'activation\n",
        "  model.add(Activation('sigmoid'))\n",
        " \n",
        "  #Synthese du model\n",
        "  model.summary() \n",
        "  return model\n",
        "models = inicialization()"
      ],
      "execution_count": null,
      "outputs": [
        {
          "name": "stdout",
          "output_type": "stream",
          "text": [
            "Model: \"sequential_1\"\n",
            "_________________________________________________________________\n",
            " Layer (type)                Output Shape              Param #   \n",
            "=================================================================\n",
            " conv2d_1 (Conv2D)           (None, 30, 30, 256)       7168      \n",
            "                                                                 \n",
            " activation_2 (Activation)   (None, 30, 30, 256)       0         \n",
            "                                                                 \n",
            " max_pooling2d_1 (MaxPooling  (None, 15, 15, 256)      0         \n",
            " 2D)                                                             \n",
            "                                                                 \n",
            " flatten_1 (Flatten)         (None, 57600)             0         \n",
            "                                                                 \n",
            " dense_2 (Dense)             (None, 64)                3686464   \n",
            "                                                                 \n",
            " dense_3 (Dense)             (None, 10)                650       \n",
            "                                                                 \n",
            " activation_3 (Activation)   (None, 10)                0         \n",
            "                                                                 \n",
            "=================================================================\n",
            "Total params: 3,694,282\n",
            "Trainable params: 3,694,282\n",
            "Non-trainable params: 0\n",
            "_________________________________________________________________\n"
          ]
        }
      ]
    },
    {
      "cell_type": "code",
      "metadata": {
        "colab": {
          "base_uri": "https://localhost:8080/"
        },
        "id": "o5aBto-R5odR",
        "outputId": "2ee32e9b-2d08-42e0-b4a3-50d7babfb9d4"
      },
      "source": [
        "X_train.shape"
      ],
      "execution_count": 23,
      "outputs": [
        {
          "output_type": "execute_result",
          "data": {
            "text/plain": [
              "(50000, 32, 32, 3)"
            ]
          },
          "metadata": {},
          "execution_count": 23
        }
      ]
    },
    {
      "cell_type": "code",
      "metadata": {
        "colab": {
          "base_uri": "https://localhost:8080/"
        },
        "id": "pzEJ-LXUu9Th",
        "outputId": "ff573f61-ac6f-4587-931a-68f47cc8c10c"
      },
      "source": [
        "'''instanciate and return the CNN architecture of your choice with less than 150,000 params'''\n",
        "def initialize_model():\n",
        "  #Partie B Reseau de neurones\n",
        "  modele = Sequential()\n",
        "  #Deuxieme couche de convolution 16 neurones\n",
        "  modele.add(Conv2D(16, kernel_size=3, padding='same', activation='relu'))\n",
        "  modele.add(Conv2D(16, kernel_size=3, padding= 'same', activation='relu'))\n",
        "  modele.add(MaxPooling2D(pool_size=(2,2)))\n",
        "  #Premier couche de convolution: 32 neurones(nbre de filtre), convolution 3*3(precise la taille du conv), activation \n",
        "  modele.add(Conv2D(32, kernel_size=3, padding= 'same', activation='relu'))\n",
        "  modele.add(Conv2D(32, kernel_size=3, padding= 'same', activation='relu'))\n",
        "  modele.add(MaxPooling2D(pool_size=(2,2)))\n",
        "  #Aplatissage\n",
        "  modele.add(Flatten())\n",
        "  #couche de sortie : 10 neurones\n",
        "  modele.add(Dense(32, activation='relu'))\n",
        "  modele.add(Dense(64, activation='relu'))\n",
        "  modele.add(Dense(10, activation='softmax'))\n",
        "  #descente de gradiant: type d'erreur \"loss\" , methede de gradiant tre efficace \"adam\"\n",
        "  modele.compile(optimizer= 'adam',loss='categorical_crossentrepy', metrics=['categorical_crossentropy'])\n",
        "  \n",
        "  modele.build(input_shape = (None, 32, 32, 3))\n",
        "  #Synthese du model\n",
        "  modele.summary() \n",
        "  return modele\n",
        "\n",
        "modele = initialize_model()"
      ],
      "execution_count": 21,
      "outputs": [
        {
          "output_type": "stream",
          "name": "stdout",
          "text": [
            "Model: \"sequential_1\"\n",
            "_________________________________________________________________\n",
            " Layer (type)                Output Shape              Param #   \n",
            "=================================================================\n",
            " conv2d_4 (Conv2D)           (None, 32, 32, 16)        448       \n",
            "                                                                 \n",
            " conv2d_5 (Conv2D)           (None, 32, 32, 16)        2320      \n",
            "                                                                 \n",
            " max_pooling2d_2 (MaxPooling  (None, 16, 16, 16)       0         \n",
            " 2D)                                                             \n",
            "                                                                 \n",
            " conv2d_6 (Conv2D)           (None, 16, 16, 32)        4640      \n",
            "                                                                 \n",
            " conv2d_7 (Conv2D)           (None, 16, 16, 32)        9248      \n",
            "                                                                 \n",
            " max_pooling2d_3 (MaxPooling  (None, 8, 8, 32)         0         \n",
            " 2D)                                                             \n",
            "                                                                 \n",
            " flatten_1 (Flatten)         (None, 2048)              0         \n",
            "                                                                 \n",
            " dense_3 (Dense)             (None, 32)                65568     \n",
            "                                                                 \n",
            " dense_4 (Dense)             (None, 64)                2112      \n",
            "                                                                 \n",
            " dense_5 (Dense)             (None, 10)                650       \n",
            "                                                                 \n",
            "=================================================================\n",
            "Total params: 84,986\n",
            "Trainable params: 84,986\n",
            "Non-trainable params: 0\n",
            "_________________________________________________________________\n"
          ]
        }
      ]
    },
    {
      "cell_type": "code",
      "metadata": {
        "colab": {
          "base_uri": "https://localhost:8080/"
        },
        "id": "7C9AL4uBT2Iq",
        "outputId": "28b90d9e-bd4a-435a-90dd-100147846ab5"
      },
      "source": [
        " '''return a compiled model suited for the cifar tasks'''\n",
        "#fonction de perte ou precision(CAS CNN) : on a plusieurs cathegories('sparse_categarical)\n",
        "#Gerer les poids: optimizer\n",
        "#Gerer la precision\n",
        "def compile_model(modele):\n",
        "  modele.compile(loss='categorical_crossentropy', optimizer='adam', metrics=['accuracy'])\n",
        "  return modele\n",
        "compile_model(modele)"
      ],
      "execution_count": 22,
      "outputs": [
        {
          "output_type": "execute_result",
          "data": {
            "text/plain": [
              "<keras.engine.sequential.Sequential at 0x7fd0f4a5e810>"
            ]
          },
          "metadata": {},
          "execution_count": 22
        }
      ]
    },
    {
      "cell_type": "code",
      "metadata": {
        "colab": {
          "base_uri": "https://localhost:8080/"
        },
        "id": "DaTP7dUg1SKg",
        "outputId": "30bfe77f-3fb5-47a1-dde0-4eb5ac41c9d8"
      },
      "source": [
        "type(modele)"
      ],
      "execution_count": 20,
      "outputs": [
        {
          "output_type": "execute_result",
          "data": {
            "text/plain": [
              "keras.engine.sequential.Sequential"
            ]
          },
          "metadata": {},
          "execution_count": 20
        }
      ]
    },
    {
      "cell_type": "code",
      "metadata": {
        "colab": {
          "base_uri": "https://localhost:8080/"
        },
        "id": "PnnzpeTUpgKw",
        "outputId": "09a048a9-56c7-41be-c145-b1b4a21b0fb1"
      },
      "source": [
        "#Entrainement du model ou reseau\n",
        "def entrainement():\n",
        "  #Vue que la taille de la df est grande : batch_size\n",
        "  #On peut mettre :epoch = 10 pour ameliorer le model\n",
        "  hystory = modele.fit(X_train_small, y_train_small, batch_size=64, validation_split=0.3, epochs = 10)\n",
        "  return modele, hystory\n",
        "entrainement()"
      ],
      "execution_count": 23,
      "outputs": [
        {
          "output_type": "stream",
          "name": "stdout",
          "text": [
            "Epoch 1/10\n",
            "55/55 [==============================] - 10s 165ms/step - loss: 2.2060 - accuracy: 0.1689 - val_loss: 2.1315 - val_accuracy: 0.1967\n",
            "Epoch 2/10\n",
            "55/55 [==============================] - 9s 163ms/step - loss: 1.9867 - accuracy: 0.2497 - val_loss: 1.9441 - val_accuracy: 0.2907\n",
            "Epoch 3/10\n",
            "55/55 [==============================] - 9s 160ms/step - loss: 1.8087 - accuracy: 0.3500 - val_loss: 1.8171 - val_accuracy: 0.3340\n",
            "Epoch 4/10\n",
            "55/55 [==============================] - 9s 157ms/step - loss: 1.6836 - accuracy: 0.3923 - val_loss: 1.6812 - val_accuracy: 0.3893\n",
            "Epoch 5/10\n",
            "55/55 [==============================] - 9s 160ms/step - loss: 1.5840 - accuracy: 0.4246 - val_loss: 1.6376 - val_accuracy: 0.4027\n",
            "Epoch 6/10\n",
            "55/55 [==============================] - 11s 207ms/step - loss: 1.4715 - accuracy: 0.4591 - val_loss: 1.5864 - val_accuracy: 0.4200\n",
            "Epoch 7/10\n",
            "55/55 [==============================] - 9s 162ms/step - loss: 1.3958 - accuracy: 0.4846 - val_loss: 1.5165 - val_accuracy: 0.4553\n",
            "Epoch 8/10\n",
            "55/55 [==============================] - 9s 163ms/step - loss: 1.3593 - accuracy: 0.4986 - val_loss: 1.5735 - val_accuracy: 0.4380\n",
            "Epoch 9/10\n",
            "55/55 [==============================] - 9s 162ms/step - loss: 1.2765 - accuracy: 0.5383 - val_loss: 1.5291 - val_accuracy: 0.4493\n",
            "Epoch 10/10\n",
            "55/55 [==============================] - 9s 159ms/step - loss: 1.2199 - accuracy: 0.5566 - val_loss: 1.5503 - val_accuracy: 0.4547\n"
          ]
        },
        {
          "output_type": "execute_result",
          "data": {
            "text/plain": [
              "(<keras.engine.sequential.Sequential at 0x7fd0f4a5e810>,\n",
              " <keras.callbacks.History at 0x7fd0f4b01e50>)"
            ]
          },
          "metadata": {},
          "execution_count": 23
        }
      ]
    },
    {
      "cell_type": "code",
      "metadata": {
        "colab": {
          "base_uri": "https://localhost:8080/"
        },
        "id": "Estwa9VmI8vG",
        "outputId": "85f9afc1-298c-4cb0-cc00-ee07527ee3dc"
      },
      "source": [
        " hystory = modele.fit(X_train_small, y_train_small, batch_size=64, validation_split=0.3, epochs = 50)"
      ],
      "execution_count": 24,
      "outputs": [
        {
          "output_type": "stream",
          "name": "stdout",
          "text": [
            "Epoch 1/50\n",
            "55/55 [==============================] - 10s 173ms/step - loss: 1.2061 - accuracy: 0.5697 - val_loss: 1.5333 - val_accuracy: 0.4673\n",
            "Epoch 2/50\n",
            "55/55 [==============================] - 9s 170ms/step - loss: 1.1057 - accuracy: 0.6071 - val_loss: 1.4937 - val_accuracy: 0.4907\n",
            "Epoch 3/50\n",
            "55/55 [==============================] - 9s 169ms/step - loss: 1.0393 - accuracy: 0.6340 - val_loss: 1.5174 - val_accuracy: 0.4747\n",
            "Epoch 4/50\n",
            "55/55 [==============================] - 9s 169ms/step - loss: 0.9899 - accuracy: 0.6477 - val_loss: 1.5214 - val_accuracy: 0.4833\n",
            "Epoch 5/50\n",
            "55/55 [==============================] - 9s 169ms/step - loss: 0.9333 - accuracy: 0.6663 - val_loss: 1.5133 - val_accuracy: 0.4913\n",
            "Epoch 6/50\n",
            "55/55 [==============================] - 9s 168ms/step - loss: 0.8690 - accuracy: 0.6943 - val_loss: 1.5368 - val_accuracy: 0.4960\n",
            "Epoch 7/50\n",
            "55/55 [==============================] - 9s 169ms/step - loss: 0.8066 - accuracy: 0.7086 - val_loss: 1.6459 - val_accuracy: 0.4867\n",
            "Epoch 8/50\n",
            "55/55 [==============================] - 9s 172ms/step - loss: 0.7719 - accuracy: 0.7337 - val_loss: 1.7504 - val_accuracy: 0.4860\n",
            "Epoch 9/50\n",
            "55/55 [==============================] - 9s 172ms/step - loss: 0.6962 - accuracy: 0.7626 - val_loss: 1.6840 - val_accuracy: 0.5020\n",
            "Epoch 10/50\n",
            "55/55 [==============================] - 9s 168ms/step - loss: 0.6472 - accuracy: 0.7731 - val_loss: 1.7152 - val_accuracy: 0.4927\n",
            "Epoch 11/50\n",
            "55/55 [==============================] - 9s 167ms/step - loss: 0.5965 - accuracy: 0.7866 - val_loss: 1.7684 - val_accuracy: 0.5013\n",
            "Epoch 12/50\n",
            "55/55 [==============================] - 9s 168ms/step - loss: 0.5501 - accuracy: 0.8111 - val_loss: 1.9432 - val_accuracy: 0.5147\n",
            "Epoch 13/50\n",
            "55/55 [==============================] - 9s 167ms/step - loss: 0.5040 - accuracy: 0.8169 - val_loss: 1.8607 - val_accuracy: 0.5020\n",
            "Epoch 14/50\n",
            "55/55 [==============================] - 9s 167ms/step - loss: 0.4589 - accuracy: 0.8391 - val_loss: 1.9852 - val_accuracy: 0.5053\n",
            "Epoch 15/50\n",
            "55/55 [==============================] - 9s 168ms/step - loss: 0.3982 - accuracy: 0.8669 - val_loss: 2.1097 - val_accuracy: 0.5153\n",
            "Epoch 16/50\n",
            "55/55 [==============================] - 9s 170ms/step - loss: 0.3553 - accuracy: 0.8803 - val_loss: 2.2123 - val_accuracy: 0.5180\n",
            "Epoch 17/50\n",
            "55/55 [==============================] - 9s 166ms/step - loss: 0.2980 - accuracy: 0.9020 - val_loss: 2.3419 - val_accuracy: 0.4920\n",
            "Epoch 18/50\n",
            "55/55 [==============================] - 9s 167ms/step - loss: 0.3186 - accuracy: 0.8851 - val_loss: 2.3949 - val_accuracy: 0.5013\n",
            "Epoch 19/50\n",
            "55/55 [==============================] - 9s 169ms/step - loss: 0.2409 - accuracy: 0.9243 - val_loss: 2.5284 - val_accuracy: 0.5153\n",
            "Epoch 20/50\n",
            "55/55 [==============================] - 9s 169ms/step - loss: 0.2050 - accuracy: 0.9380 - val_loss: 2.8169 - val_accuracy: 0.5100\n",
            "Epoch 21/50\n",
            "55/55 [==============================] - 9s 168ms/step - loss: 0.1773 - accuracy: 0.9443 - val_loss: 2.9533 - val_accuracy: 0.5067\n",
            "Epoch 22/50\n",
            "55/55 [==============================] - 9s 170ms/step - loss: 0.2217 - accuracy: 0.9226 - val_loss: 2.9409 - val_accuracy: 0.5073\n",
            "Epoch 23/50\n",
            "55/55 [==============================] - 9s 168ms/step - loss: 0.2123 - accuracy: 0.9237 - val_loss: 2.8509 - val_accuracy: 0.5133\n",
            "Epoch 24/50\n",
            "55/55 [==============================] - 9s 167ms/step - loss: 0.1509 - accuracy: 0.9523 - val_loss: 3.1091 - val_accuracy: 0.5087\n",
            "Epoch 25/50\n",
            "55/55 [==============================] - 9s 167ms/step - loss: 0.1424 - accuracy: 0.9511 - val_loss: 3.1453 - val_accuracy: 0.5187\n",
            "Epoch 26/50\n",
            "55/55 [==============================] - 9s 166ms/step - loss: 0.1804 - accuracy: 0.9380 - val_loss: 3.2265 - val_accuracy: 0.4793\n",
            "Epoch 27/50\n",
            "55/55 [==============================] - 9s 169ms/step - loss: 0.1608 - accuracy: 0.9457 - val_loss: 3.1839 - val_accuracy: 0.5107\n",
            "Epoch 28/50\n",
            "55/55 [==============================] - 9s 168ms/step - loss: 0.0915 - accuracy: 0.9740 - val_loss: 3.3956 - val_accuracy: 0.5000\n",
            "Epoch 29/50\n",
            "55/55 [==============================] - 9s 167ms/step - loss: 0.1082 - accuracy: 0.9643 - val_loss: 3.6130 - val_accuracy: 0.5240\n",
            "Epoch 30/50\n",
            "55/55 [==============================] - 9s 166ms/step - loss: 0.0859 - accuracy: 0.9766 - val_loss: 3.7208 - val_accuracy: 0.5140\n",
            "Epoch 31/50\n",
            "55/55 [==============================] - 9s 164ms/step - loss: 0.0593 - accuracy: 0.9811 - val_loss: 3.7224 - val_accuracy: 0.5200\n",
            "Epoch 32/50\n",
            "55/55 [==============================] - 9s 167ms/step - loss: 0.0315 - accuracy: 0.9951 - val_loss: 4.0748 - val_accuracy: 0.5173\n",
            "Epoch 33/50\n",
            "55/55 [==============================] - 9s 168ms/step - loss: 0.0172 - accuracy: 0.9977 - val_loss: 4.2984 - val_accuracy: 0.5107\n",
            "Epoch 34/50\n",
            "55/55 [==============================] - 9s 172ms/step - loss: 0.0104 - accuracy: 0.9994 - val_loss: 4.4786 - val_accuracy: 0.5160\n",
            "Epoch 35/50\n",
            "55/55 [==============================] - 9s 170ms/step - loss: 0.0071 - accuracy: 0.9997 - val_loss: 4.6446 - val_accuracy: 0.5153\n",
            "Epoch 36/50\n",
            "55/55 [==============================] - 9s 166ms/step - loss: 0.0049 - accuracy: 1.0000 - val_loss: 4.7644 - val_accuracy: 0.5133\n",
            "Epoch 37/50\n",
            "55/55 [==============================] - 9s 166ms/step - loss: 0.0038 - accuracy: 1.0000 - val_loss: 4.8783 - val_accuracy: 0.5160\n",
            "Epoch 38/50\n",
            "55/55 [==============================] - 9s 166ms/step - loss: 0.0031 - accuracy: 1.0000 - val_loss: 4.9911 - val_accuracy: 0.5180\n",
            "Epoch 39/50\n",
            "55/55 [==============================] - 9s 172ms/step - loss: 0.0028 - accuracy: 1.0000 - val_loss: 5.0630 - val_accuracy: 0.5153\n",
            "Epoch 40/50\n",
            "55/55 [==============================] - 9s 173ms/step - loss: 0.0024 - accuracy: 1.0000 - val_loss: 5.1694 - val_accuracy: 0.5180\n",
            "Epoch 41/50\n",
            "55/55 [==============================] - 9s 170ms/step - loss: 0.0022 - accuracy: 1.0000 - val_loss: 5.2525 - val_accuracy: 0.5140\n",
            "Epoch 42/50\n",
            "55/55 [==============================] - 9s 169ms/step - loss: 0.0019 - accuracy: 1.0000 - val_loss: 5.2995 - val_accuracy: 0.5160\n",
            "Epoch 43/50\n",
            "55/55 [==============================] - 9s 164ms/step - loss: 0.0017 - accuracy: 1.0000 - val_loss: 5.3737 - val_accuracy: 0.5153\n",
            "Epoch 44/50\n",
            "55/55 [==============================] - 9s 167ms/step - loss: 0.0016 - accuracy: 1.0000 - val_loss: 5.4279 - val_accuracy: 0.5173\n",
            "Epoch 45/50\n",
            "55/55 [==============================] - 9s 166ms/step - loss: 0.0014 - accuracy: 1.0000 - val_loss: 5.5135 - val_accuracy: 0.5147\n",
            "Epoch 46/50\n",
            "55/55 [==============================] - 9s 166ms/step - loss: 0.0013 - accuracy: 1.0000 - val_loss: 5.5520 - val_accuracy: 0.5147\n",
            "Epoch 47/50\n",
            "55/55 [==============================] - 9s 170ms/step - loss: 0.0012 - accuracy: 1.0000 - val_loss: 5.6062 - val_accuracy: 0.5187\n",
            "Epoch 48/50\n",
            "55/55 [==============================] - 9s 169ms/step - loss: 0.0011 - accuracy: 1.0000 - val_loss: 5.6764 - val_accuracy: 0.5180\n",
            "Epoch 49/50\n",
            "55/55 [==============================] - 9s 167ms/step - loss: 0.0010 - accuracy: 1.0000 - val_loss: 5.7262 - val_accuracy: 0.5153\n",
            "Epoch 50/50\n",
            "55/55 [==============================] - 9s 165ms/step - loss: 9.3732e-04 - accuracy: 1.0000 - val_loss: 5.7826 - val_accuracy: 0.5133\n"
          ]
        }
      ]
    },
    {
      "cell_type": "code",
      "metadata": {
        "colab": {
          "base_uri": "https://localhost:8080/"
        },
        "id": "eFHmGurvBUqE",
        "outputId": "2c4693ae-449b-4bb4-8a95-a3d3544f1cdf"
      },
      "source": [
        "score = modele.evaluate(X_test, y_test, verbose=0)\n",
        "print('Test loss', score[0])\n",
        "print('Test accuracy', score[1])"
      ],
      "execution_count": 25,
      "outputs": [
        {
          "output_type": "stream",
          "name": "stdout",
          "text": [
            "Test loss 5.992846488952637\n",
            "Test accuracy 0.10000000149011612\n"
          ]
        }
      ]
    },
    {
      "cell_type": "code",
      "metadata": {
        "colab": {
          "base_uri": "https://localhost:8080/"
        },
        "id": "WVaG1MqzBtUd",
        "outputId": "f0712c60-0b06-48c5-984f-5d39d2c4425a"
      },
      "source": [
        "modele.predict(X_test, verbose=1)"
      ],
      "execution_count": 26,
      "outputs": [
        {
          "output_type": "stream",
          "name": "stdout",
          "text": [
            "313/313 [==============================] - 7s 22ms/step\n"
          ]
        },
        {
          "output_type": "execute_result",
          "data": {
            "text/plain": [
              "array([[2.59509850e-02, 5.62148576e-04, 5.48446119e-01, ...,\n",
              "        1.87339276e-04, 1.17858435e-04, 5.88140620e-06],\n",
              "       [2.57239044e-02, 5.57588413e-04, 5.66531539e-01, ...,\n",
              "        1.77062961e-04, 1.29080814e-04, 6.47047682e-06],\n",
              "       [2.61516776e-02, 5.56214887e-04, 5.58199942e-01, ...,\n",
              "        1.74536079e-04, 1.23648744e-04, 6.02993850e-06],\n",
              "       ...,\n",
              "       [2.50396263e-02, 5.75810729e-04, 5.49346864e-01, ...,\n",
              "        1.84879464e-04, 1.14422539e-04, 5.90455329e-06],\n",
              "       [2.65966132e-02, 5.83055022e-04, 5.46825290e-01, ...,\n",
              "        1.69389430e-04, 1.13477523e-04, 5.99168698e-06],\n",
              "       [2.55722851e-02, 5.68238262e-04, 5.39636433e-01, ...,\n",
              "        1.97560570e-04, 1.21509700e-04, 5.87047907e-06]], dtype=float32)"
            ]
          },
          "metadata": {},
          "execution_count": 26
        }
      ]
    },
    {
      "cell_type": "markdown",
      "metadata": {
        "id": "YcPQtVjdVj06"
      },
      "source": [
        "❓ **Question** ❓ Run the following function on the previous history (keep the default arguments, these are intended for future plots in the notebook)."
      ]
    },
    {
      "cell_type": "code",
      "metadata": {
        "colab": {
          "base_uri": "https://localhost:8080/",
          "height": 318
        },
        "id": "lIR_L7UfVj06",
        "outputId": "fd5e4cb3-ea01-4efe-d516-4278eccee347"
      },
      "source": [
        "def plot_history(history, title='', axs=None, exp_name=\"\"):\n",
        "    if axs is not None:\n",
        "        ax1, ax2 = axs\n",
        "    else:\n",
        "        f, (ax1, ax2) = plt.subplots(1, 2, figsize=(12, 4))\n",
        "    \n",
        "    if len(exp_name) > 0 and exp_name[0] != '_':\n",
        "        exp_name = '_' + exp_name\n",
        "    ax1.plot(history.history['loss'], label='train' + exp_name)\n",
        "    ax1.plot(history.history['val_loss'], label='val' + exp_name)\n",
        "    ax1.set_ylim(0., 2.2)\n",
        "    ax1.set_title('loss')\n",
        "    ax1.legend()\n",
        "\n",
        "    ax2.plot(history.history['accuracy'], label='train accuracy'  + exp_name)\n",
        "    ax2.plot(history.history['val_accuracy'], label='val accuracy'  + exp_name)\n",
        "    ax2.set_ylim(0.25, 1.)\n",
        "    ax2.set_title('Accuracy')\n",
        "    ax2.legend()\n",
        "    return (ax1, ax2)\n",
        "\n",
        "plot_history(hystory, title='', axs=None, exp_name=\"\")    "
      ],
      "execution_count": 27,
      "outputs": [
        {
          "output_type": "execute_result",
          "data": {
            "text/plain": [
              "(<matplotlib.axes._subplots.AxesSubplot at 0x7fd0f1193f10>,\n",
              " <matplotlib.axes._subplots.AxesSubplot at 0x7fd0f1225d90>)"
            ]
          },
          "metadata": {},
          "execution_count": 27
        },
        {
          "output_type": "display_data",
          "data": {
            "image/png": "[encoded data removed]",
            "text/plain": [
              "<Figure size 864x288 with 2 Axes>"
            ]
          },
          "metadata": {}
        }
      ]
    },
    {
      "cell_type": "markdown",
      "metadata": {
        "id": "OR7l9LxMVj07"
      },
      "source": [
        "❓ **Question** ❓ Evaluate your model on the test data and compare it with baseline. Are you satisfied with these performances ? Look at PRO TIPS above and iterate a bit if you want to improve!"
      ]
    },
    {
      "cell_type": "markdown",
      "metadata": {
        "id": "z7P9y-LwVjdx"
      },
      "source": [
        "## 3. Increase data size"
      ]
    },
    {
      "cell_type": "markdown",
      "metadata": {
        "id": "UMHH_qsbVT_0"
      },
      "source": [
        "❓ **Question** ❓ Now that your model fits on a small subsample, try to fit it on the full dataset and notice how performance increases. \n",
        "\n",
        "🚨 **Make sure to use GPU acceleration** by clicking on `\"Runtime --> Change runtime --> GPU\"` if you are on Colab. \n",
        "\n",
        "💡 Training neural network on images (in each batch) can be parallelized, and this parallelization procedure can be done on GPU.\n"
      ]
    },
    {
      "cell_type": "code",
      "metadata": {
        "id": "pWHicYsosW6o"
      },
      "source": [
        "# YOUR CODE HERE"
      ],
      "execution_count": null,
      "outputs": []
    },
    {
      "cell_type": "markdown",
      "metadata": {
        "id": "wk8ZZVunVj08"
      },
      "source": [
        "## 4. Data augmentation\n",
        "\n",
        "☝️ It seems that adding pictures greatly improves model performance! Welcome to the Deep Learning paradigm, where big data does make a difference.\n",
        "\n",
        "To easily improve the accuracy of a model without much work, we can generate new data: the _data augmentation_. This widely used technique consists in applying little transformation to input images without changing its label, as mirroring, cropping, intensity changes, etc. The improved performance simply results from the Neural network training with more different data.\n",
        "\n",
        "The natural way to generate these new images is to apply some transformations and train the model on the original and new images. However, such procedure requires to keep all these images in memory : it can be very intensive, to the point that your computer memory cannot hold any new image (your computer might even crash).\n",
        "\n",
        "For this reason, we will augment the data **on the fly** (batch per batch), meaning that we will create new data, use them to fit the model, then delete them. Here, Keras is our friend as it provides the utils to do all this job for us. Look at the following code : the general writing can seem odd but don't be panicked: just look at the function arguments that defines the augmentation techniques that we will use and that you can check in the  [documentation](https://www.tensorflow.org/api_docs/python/tf/keras/preprocessing/image/ImageDataGenerator)."
      ]
    },
    {
      "cell_type": "code",
      "metadata": {
        "colab": {
          "base_uri": "https://localhost:8080/"
        },
        "id": "DlOpbos5Vj09",
        "scrolled": false,
        "outputId": "847393fe-8a63-4b75-a3d5-ffb8db16d6b8"
      },
      "source": [
        "from tensorflow.keras.preprocessing.image import ImageDataGenerator\n",
        "\n",
        "datagen = ImageDataGenerator(\n",
        "    featurewise_center=False,\n",
        "    featurewise_std_normalization=False,\n",
        "    rotation_range=10,\n",
        "    width_shift_range=0.1,\n",
        "    height_shift_range=0.1,\n",
        "    horizontal_flip=True,\n",
        "    zoom_range=(0.8, 1.2),\n",
        "    ) \n",
        "\n",
        "datagen.fit(X_train)\n",
        "datagen"
      ],
      "execution_count": 28,
      "outputs": [
        {
          "output_type": "execute_result",
          "data": {
            "text/plain": [
              "<keras.preprocessing.image.ImageDataGenerator at 0x7fd0f49b1810>"
            ]
          },
          "metadata": {},
          "execution_count": 28
        }
      ]
    },
    {
      "cell_type": "code",
      "metadata": {
        "colab": {
          "base_uri": "https://localhost:8080/"
        },
        "id": "Zcl17dW1aA0G",
        "outputId": "af4cc014-ae9d-4f1f-a5cb-a5dd0b459eda"
      },
      "source": [
        "X_augmented_iterator = datagen.flow(X_train, shuffle=False, batch_size=1)\n",
        "X_augmented_iterator"
      ],
      "execution_count": 29,
      "outputs": [
        {
          "output_type": "execute_result",
          "data": {
            "text/plain": [
              "<keras.preprocessing.image.NumpyArrayIterator at 0x7fd0f489b510>"
            ]
          },
          "metadata": {},
          "execution_count": 29
        }
      ]
    },
    {
      "cell_type": "markdown",
      "metadata": {
        "id": "RdMqg8grVj09"
      },
      "source": [
        "💡 Always visualize your data augmentation in order to double check that you can still recognize the label yourself!"
      ]
    },
    {
      "cell_type": "code",
      "metadata": {
        "colab": {
          "base_uri": "https://localhost:8080/",
          "height": 1000
        },
        "id": "IsqMF0adVj09",
        "scrolled": true,
        "outputId": "3193cee9-5022-4148-f500-9107df2f9156"
      },
      "source": [
        "import numpy as np\n",
        "\n",
        "for i, (raw_image, augmented_image) in enumerate(zip(X_train, X_augmented_iterator)):\n",
        "    _, (ax1, ax2) = plt.subplots(1, 2, figsize=(6, 2))\n",
        "    ax1.imshow(raw_image)\n",
        "    ax2.imshow(augmented_image[0])\n",
        "    plt.show()\n",
        "    \n",
        "    if i > 10:\n",
        "        break"
      ],
      "execution_count": 30,
      "outputs": [
        {
          "output_type": "display_data",
          "data": {
            "image/png": "[encoded data removed]",
            "text/plain": [
              "<Figure size 432x144 with 2 Axes>"
            ]
          },
          "metadata": {}
        },
        {
          "output_type": "display_data",
          "data": {
            "image/png": "[encoded data removed]",
            "text/plain": [
              "<Figure size 432x144 with 2 Axes>"
            ]
          },
          "metadata": {}
        },
        {
          "output_type": "display_data",
          "data": {
            "image/png": "[encoded data removed]",
            "text/plain": [
              "<Figure size 432x144 with 2 Axes>"
            ]
          },
          "metadata": {}
        },
        {
          "output_type": "display_data",
          "data": {
            "image/png": "[encoded data removed]",
            "text/plain": [
              "<Figure size 432x144 with 2 Axes>"
            ]
          },
          "metadata": {}
        },
        {
          "output_type": "display_data",
          "data": {
            "image/png": "[encoded data removed]",
            "text/plain": [
              "<Figure size 432x144 with 2 Axes>"
            ]
          },
          "metadata": {}
        },
        {
          "output_type": "display_data",
          "data": {
            "image/png": "[encoded data removed]",
            "text/plain": [
              "<Figure size 432x144 with 2 Axes>"
            ]
          },
          "metadata": {}
        },
        {
          "output_type": "display_data",
          "data": {
            "image/png": "[encoded data removed]",
            "text/plain": [
              "<Figure size 432x144 with 2 Axes>"
            ]
          },
          "metadata": {}
        },
        {
          "output_type": "display_data",
          "data": {
            "image/png": "[encoded data removed]",
            "text/plain": [
              "<Figure size 432x144 with 2 Axes>"
            ]
          },
          "metadata": {}
        },
        {
          "output_type": "display_data",
          "data": {
            "image/png": "[encoded data removed]",
            "text/plain": [
              "<Figure size 432x144 with 2 Axes>"
            ]
          },
          "metadata": {}
        },
        {
          "output_type": "display_data",
          "data": {
            "image/png": "[encoded data removed]",
            "text/plain": [
              "<Figure size 432x144 with 2 Axes>"
            ]
          },
          "metadata": {}
        },
        {
          "output_type": "display_data",
          "data": {
            "image/png": "[encoded data removed]",
            "text/plain": [
              "<Figure size 432x144 with 2 Axes>"
            ]
          },
          "metadata": {}
        },
        {
          "output_type": "display_data",
          "data": {
            "image/png": "[encoded data removed]",
            "text/plain": [
              "<Figure size 432x144 with 2 Axes>"
            ]
          },
          "metadata": {}
        }
      ]
    },
    {
      "cell_type": "markdown",
      "metadata": {
        "id": "LyLlJQrKVj09"
      },
      "source": [
        "❗ **Remark** ❗ In this example, there is one augmented image per initial image. In fact, when your model will use `datagen.flow` in the `fit`, it will create one augmentation per epochs! Indeed, the images in the original dataset will not be provided to the optimizer, only augmented ones instead. (But because the augmentations are performed randomly, this allows both modified images and some very close of the originals).\n",
        "\n",
        "❓ **Question** ❓ Take time to understand the cell below: Previously, we used the `validation_split` argument to let the model separate a training set from the validation one. It is not possible here as **using an image in the training set and its transformation in the validation set is considered as a data leakage**. Therefore, we have to manually define the `validation_data` with the following commands:\n"
      ]
    },
    {
      "cell_type": "code",
      "metadata": {
        "colab": {
          "base_uri": "https://localhost:8080/"
        },
        "id": "lYOkY7LOVj09",
        "outputId": "7f9ca20b-ce10-4499-ffda-16aa74dae0f4"
      },
      "source": [
        "from tensorflow.keras.callbacks import EarlyStopping\n",
        "\n",
        "# The model\n",
        "model_aug = initialize_model()\n",
        "model_aug = compile_model(model_aug)\n",
        "\n",
        "# The data generator\n",
        "X_tr = X_train[:40000]\n",
        "y_tr = y_train[:40000]\n",
        "X_val = X_train[40000:]\n",
        "y_val = y_train[40000:]\n",
        "train_flow = datagen.flow(X_tr, y_tr, batch_size=64)\n",
        "\n",
        "# The early stopping criterion\n",
        "es = EarlyStopping(patience=3)\n",
        "\n",
        "# The fit\n",
        "history_aug = model_aug.fit(train_flow, \n",
        "                        epochs=50, \n",
        "                        callbacks=[es], \n",
        "                        validation_data=(X_val, y_val))\n"
      ],
      "execution_count": null,
      "outputs": [
        {
          "output_type": "stream",
          "name": "stdout",
          "text": [
            "Model: \"sequential_2\"\n",
            "_________________________________________________________________\n",
            " Layer (type)                Output Shape              Param #   \n",
            "=================================================================\n",
            " conv2d_8 (Conv2D)           (None, 32, 32, 16)        448       \n",
            "                                                                 \n",
            " conv2d_9 (Conv2D)           (None, 32, 32, 16)        2320      \n",
            "                                                                 \n",
            " max_pooling2d_4 (MaxPooling  (None, 16, 16, 16)       0         \n",
            " 2D)                                                             \n",
            "                                                                 \n",
            " conv2d_10 (Conv2D)          (None, 16, 16, 32)        4640      \n",
            "                                                                 \n",
            " conv2d_11 (Conv2D)          (None, 16, 16, 32)        9248      \n",
            "                                                                 \n",
            " max_pooling2d_5 (MaxPooling  (None, 8, 8, 32)         0         \n",
            " 2D)                                                             \n",
            "                                                                 \n",
            " flatten_2 (Flatten)         (None, 2048)              0         \n",
            "                                                                 \n",
            " dense_6 (Dense)             (None, 32)                65568     \n",
            "                                                                 \n",
            " dense_7 (Dense)             (None, 64)                2112      \n",
            "                                                                 \n",
            " dense_8 (Dense)             (None, 10)                650       \n",
            "                                                                 \n",
            "=================================================================\n",
            "Total params: 84,986\n",
            "Trainable params: 84,986\n",
            "Non-trainable params: 0\n",
            "_________________________________________________________________\n",
            "Epoch 1/50\n",
            "625/625 [==============================] - 118s 188ms/step - loss: 2.3028 - accuracy: 0.0975 - val_loss: 2.3027 - val_accuracy: 0.1003\n",
            "Epoch 2/50\n",
            "625/625 [==============================] - 117s 187ms/step - loss: 2.3027 - accuracy: 0.0991 - val_loss: 2.3027 - val_accuracy: 0.0952\n",
            "Epoch 3/50\n",
            "625/625 [==============================] - 118s 189ms/step - loss: 2.3027 - accuracy: 0.1011 - val_loss: 2.3026 - val_accuracy: 0.1016\n",
            "Epoch 4/50\n",
            "625/625 [==============================] - 117s 187ms/step - loss: 2.3027 - accuracy: 0.0970 - val_loss: 2.3028 - val_accuracy: 0.0980\n",
            "Epoch 5/50\n",
            "519/625 [=======================>......] - ETA: 18s - loss: 2.3027 - accuracy: 0.0990"
          ]
        }
      ]
    },
    {
      "cell_type": "markdown",
      "metadata": {
        "id": "NmQ9t_cMVj0-"
      },
      "source": [
        "❗️❗️ Remark ❗️❗️: The training can be quite long here. Don't hesitate to go to the next exercise and gome back once in a while to finish the last questions\n",
        "\n",
        "❓ **Question** ❓ Now, let's plot the previous and current run histories. What do you think of the data augmentation?\n"
      ]
    },
    {
      "cell_type": "code",
      "metadata": {
        "id": "o9r4Fau2Vj0-"
      },
      "source": [
        "# YOUR CODE HERE"
      ],
      "execution_count": null,
      "outputs": []
    },
    {
      "cell_type": "markdown",
      "metadata": {
        "id": "Jm055RyNVj0-"
      },
      "source": [
        "💡 Data augmentation may not improve your performance easily. It strongly depends on the model architecture you used, the learning rate, the type of augmentation chosen, etc...Image classification is an art that takes lots of practice to master!\n",
        "\n",
        "🚨 **Don't spend too much time now trying to finetune your model - you have other interesting challenge ahead**. \n",
        "\n",
        "📚 [here is a good example of solution for future reference](https://machinelearningmastery.com/how-to-develop-a-cnn-from-scratch-for-cifar-10-photo-classification/). They manage to get about 80% accuracy"
      ]
    },
    {
      "cell_type": "markdown",
      "metadata": {
        "id": "Oy4DCYLGVj0-"
      },
      "source": [
        "### 🏁 Congratulation 🏁 \n"
      ]
    },
    {
      "cell_type": "code",
      "metadata": {
        "id": "fkYuyP0_vdl2"
      },
      "source": [
        ""
      ],
      "execution_count": null,
      "outputs": []
    }
  ]
}