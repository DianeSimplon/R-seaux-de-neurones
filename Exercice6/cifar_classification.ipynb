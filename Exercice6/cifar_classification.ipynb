{
  "nbformat": 4,
  "nbformat_minor": 0,
  "metadata": {
    "accelerator": "GPU",
    "colab": {
      "name": "cifar_classification.ipynb",
      "provenance": [],
      "collapsed_sections": []
    },
    "kernelspec": {
      "display_name": "Python 3",
      "language": "python",
      "name": "python3"
    },
    "language_info": {
      "codemirror_mode": {
        "name": "ipython",
        "version": 3
      },
      "file_extension": ".py",
      "mimetype": "text/x-python",
      "name": "python",
      "nbconvert_exporter": "python",
      "pygments_lexer": "ipython3",
      "version": "3.8.8"
    },
    "toc": {
      "base_numbering": 1,
      "nav_menu": {},
      "number_sections": false,
      "sideBar": true,
      "skip_h1_title": false,
      "title_cell": "Table of Contents",
      "title_sidebar": "Contents",
      "toc_cell": false,
      "toc_position": {},
      "toc_section_display": true,
      "toc_window_display": true
    },
    "varInspector": {
      "cols": {
        "lenName": 16,
        "lenType": 16,
        "lenVar": 40
      },
      "kernels_config": {
        "python": {
          "delete_cmd_postfix": "",
          "delete_cmd_prefix": "del ",
          "library": "var_list.py",
          "varRefreshCmd": "print(var_dic_list())"
        },
        "r": {
          "delete_cmd_postfix": ") ",
          "delete_cmd_prefix": "rm(",
          "library": "var_list.r",
          "varRefreshCmd": "cat(var_dic_list()) "
        }
      },
      "types_to_exclude": [
        "module",
        "function",
        "builtin_function_or_method",
        "instance",
        "_Feature"
      ],
      "window_display": false
    }
  },
  "cells": [
    {
      "cell_type": "markdown",
      "metadata": {
        "collapsed": true,
        "id": "eEt4AJqKVj0v"
      },
      "source": [
        "# CIFAR Classification\n",
        "\n",
        "### Exercise objectives\n",
        "\n",
        "- Implement a CNN for a 10-class classification problem\n",
        "- Enhance the CNN performance with data augmentation techniques\n",
        "- Experiment the acceleration of GPU for image processing (Google Colab)\n",
        "\n",
        "<hr>\n",
        "<hr>\n",
        "\n",
        "You should now have a better feeling of how a CNN is working, and especially how the convolutions are affecting the image to detect specific features. Therefore, let's now play with a bit more complex images. \n",
        "\n",
        "The CIFAR-10 dataset is a dataset that contains images of 10 different classes \n",
        "\n",
        "<img src=\"https://people.minesparis.psl.eu/fabien.moutarde/ES_MachineLearning/mini-projets/cifar10_notebook_fichiers/cifar_10.png\">\n",
        "\n",
        "This dataset is emblematic in the research community as many enhancements for image problems have been achieved on this dataset, and later on the CIFAR-100 dataset once the performance got too high. You can check the [wikipedia](https://en.wikipedia.org/wiki/CIFAR-10) page of the dataset if you want to know more about it.\n",
        "\n",
        "In this notebook, we propose to implement a CNN to distinguish the 10 categories from the CIFAR-10 dataset. Again, remember that until 10 years ago, this problem was very challenging to the entire research community and is now for you to tackle.\n"
      ]
    },
    {
      "cell_type": "markdown",
      "metadata": {
        "id": "OE3R20SasW6i"
      },
      "source": [
        "## 0. Colab\n",
        "\n",
        "**First, make sure to use GPU acceleration** by clicking on `\"Runtime --> Change runtime --> GPU\"` if you are on Colab. "
      ]
    },
    {
      "cell_type": "markdown",
      "metadata": {
        "collapsed": true,
        "id": "ZY44N5e6T2Il"
      },
      "source": [
        "## 1. Data\n",
        "\n",
        "We'll take care of data loading and preprocessing for you. Just run the following cells and make sure you understand them"
      ]
    },
    {
      "cell_type": "code",
      "metadata": {
        "colab": {
          "base_uri": "https://localhost:8080/"
        },
        "id": "1-GZf1Phv9Nc",
        "outputId": "b1d0e7de-ee0c-440e-9165-e774403e99e1"
      },
      "source": [
        "from google.colab import drive\n",
        "drive.mount('/content/drive')"
      ],
      "execution_count": null,
      "outputs": [
        {
          "output_type": "stream",
          "name": "stdout",
          "text": [
            "Mounted at /content/drive\n"
          ]
        }
      ]
    },
    {
      "cell_type": "code",
      "metadata": {
        "id": "0v5g5IarzhCN"
      },
      "source": [
        "from sklearn import datasets\n",
        "import pandas as pd\n",
        "import numpy as np\n",
        "import matplotlib.pyplot as plt\n",
        "%matplotlib inline\n",
        "import seaborn as sns\n",
        "sns.set(rc={'figure.figsize':(10,5)})\n",
        "import tensorflow as tf \n",
        "#importer la base de donnée\n",
        "from tensorflow.keras.datasets import cifar10\n",
        "#pour le model\n",
        "from tensorflow.keras.models import Sequential\n",
        "#pour les couches\n",
        "from tensorflow.keras.layers import Dense, Activation, Flatten\n",
        "#partie reseau convolutionnelle\n",
        "from tensorflow.keras.layers import Conv2D,MaxPooling2D \n",
        "from tensorflow.keras.preprocessing.image import ImageDataGenerator"
      ],
      "execution_count": null,
      "outputs": []
    },
    {
      "cell_type": "code",
      "metadata": {
        "colab": {
          "base_uri": "https://localhost:8080/"
        },
        "id": "JloPztT_zg9e",
        "outputId": "65b3831c-dd03-4e66-e585-50e722de8ccb"
      },
      "source": [
        "df = cifar10.load_data()\n",
        "(X_train, y_train),(X_test,y_test) = df\n",
        "print(\"X_train :\", X_train.shape,\"X_test :\", X_test.shape, \"y_train :\", y_train.shape, \"y_test :\" ,y_test.shape)"
      ],
      "execution_count": null,
      "outputs": [
        {
          "output_type": "stream",
          "name": "stdout",
          "text": [
            "Downloading data from https://www.cs.toronto.edu/~kriz/cifar-10-python.tar.gz\n",
            "170500096/170498071 [==============================] - 3s 0us/step\n",
            "170508288/170498071 [==============================] - 3s 0us/step\n",
            "X_train : (50000, 32, 32, 3) X_test : (10000, 32, 32, 3) y_train : (50000, 1) y_test : (10000, 1)\n"
          ]
        }
      ]
    },
    {
      "cell_type": "code",
      "metadata": {
        "colab": {
          "base_uri": "https://localhost:8080/",
          "height": 340
        },
        "id": "loOCOT_QPx41",
        "outputId": "78e7744e-7363-4cc4-95cb-a46e3f266046"
      },
      "source": [
        "#Pour visualiser les photos \n",
        "plt.imshow(X_train[5])\n",
        "#print(y_train[10])"
      ],
      "execution_count": null,
      "outputs": [
        {
          "output_type": "execute_result",
          "data": {
            "text/plain": [
              "<matplotlib.image.AxesImage at 0x7ff42aaec650>"
            ]
          },
          "metadata": {},
          "execution_count": 10
        },
        {
          "output_type": "display_data",
          "data": {
            "image/png": "[encoded data removed]",
            "text/plain": [
              "<Figure size 720x360 with 1 Axes>"
            ]
          },
          "metadata": {}
        }
      ]
    },
    {
      "cell_type": "code",
      "metadata": {
        "id": "ysGC1pcdOBlO"
      },
      "source": [
        "# etape1- Couche de convolution :conv2d (Conv2D)             (None, 30, 30, 256)       7168\n",
        "# etape2- Couche d'activation :activation (Activation)     (None, 30, 30, 256)       0 \n",
        "# etape3- max_pooling2d (MaxPooling2D  (None, 15, 15, 256)      0         \n",
        "# etape4- flatten (Flatten)           (None, 57600)             0   \n",
        "\n",
        "#Premiere couche cache :dense (Dense)               (None, 64)                3686464   \n",
        "#couche de sorie :dense_1 (Dense)             (None, 10)                650 \n",
        "#En fin fonction d'activation :     activation_1 (Activation)   (None, 10)                0   "
      ],
      "execution_count": null,
      "outputs": []
    },
    {
      "cell_type": "code",
      "metadata": {
        "colab": {
          "base_uri": "https://localhost:8080/"
        },
        "id": "6HvojcUiAO5O",
        "outputId": "691db6b5-1627-44b9-bad2-e7b0478ce2a8"
      },
      "source": [
        "type(models)"
      ],
      "execution_count": null,
      "outputs": [
        {
          "output_type": "execute_result",
          "data": {
            "text/plain": [
              "keras.engine.sequential.Sequential"
            ]
          },
          "metadata": {},
          "execution_count": 16
        }
      ]
    },
    {
      "cell_type": "code",
      "metadata": {
        "ExecuteTime": {
          "end_time": "2021-04-28T17:24:01.063283Z",
          "start_time": "2021-04-28T17:23:56.485483Z"
        },
        "colab": {
          "base_uri": "https://localhost:8080/"
        },
        "id": "ZkKdhZXWVj00",
        "outputId": "e0d2163a-d773-4f82-9f57-cb2b43fde10c"
      },
      "source": [
        "from tensorflow.keras.datasets import cifar10\n",
        "import numpy as np\n",
        "\n",
        "(images_train, labels_train), (images_test, labels_test) = cifar10.load_data()\n",
        "labels = ['airplane', 'automobile', 'bird', 'cat', 'deer',\n",
        "               'dog', 'frog', 'horse', 'ship', 'truck']\n",
        "\n",
        "print(images_train.shape, images_test.shape)\n",
        "unique, counts = np.unique(labels_train, return_counts=True)\n",
        "dict(zip(unique, counts))"
      ],
      "execution_count": null,
      "outputs": [
        {
          "output_type": "stream",
          "name": "stdout",
          "text": [
            "(50000, 32, 32, 3) (10000, 32, 32, 3)\n"
          ]
        },
        {
          "output_type": "execute_result",
          "data": {
            "text/plain": [
              "{0: 5000,\n",
              " 1: 5000,\n",
              " 2: 5000,\n",
              " 3: 5000,\n",
              " 4: 5000,\n",
              " 5: 5000,\n",
              " 6: 5000,\n",
              " 7: 5000,\n",
              " 8: 5000,\n",
              " 9: 5000}"
            ]
          },
          "metadata": {},
          "execution_count": 11
        }
      ]
    },
    {
      "cell_type": "markdown",
      "metadata": {
        "id": "ZI_3K-MHT2In"
      },
      "source": [
        "❗️ 50,000 images may take a long time to train: **Always start with a subsample to iterate quickly** before scaling up\n",
        "\n",
        "Below, we divide the dataset size by `reduction_factor=10`. Don't try to increase it unless we ask you too."
      ]
    },
    {
      "cell_type": "code",
      "metadata": {
        "ExecuteTime": {
          "end_time": "2021-04-28T18:14:07.619432Z",
          "start_time": "2021-04-28T18:14:07.022874Z"
        },
        "colab": {
          "base_uri": "https://localhost:8080/"
        },
        "id": "wR_JXHmlT2Io",
        "outputId": "1ae2c4f7-4bd2-4756-cfe4-42a59f3d1f9b"
      },
      "source": [
        "# Reduce size\n",
        "reduction_factor = 10\n",
        "\n",
        "idx_train =  np.random.choice(len(images_train), round(len(images_train)/reduction_factor))\n",
        "idx_test =  np.random.choice(len(images_test), round(len(images_test)/reduction_factor))\n",
        "\n",
        "images_train_small = images_train[idx_train]\n",
        "images_test_small = images_test[idx_test]\n",
        "labels_train_small = labels_train[idx_train]\n",
        "labels_test_small = labels_test[idx_test]\n",
        "\n",
        "print(images_train.shape, images_test.shape)\n",
        "unique, counts = np.unique(labels_train_small, return_counts=True)\n",
        "dict(zip(unique, counts))"
      ],
      "execution_count": null,
      "outputs": [
        {
          "output_type": "stream",
          "name": "stdout",
          "text": [
            "(50000, 32, 32, 3) (10000, 32, 32, 3)\n"
          ]
        },
        {
          "output_type": "execute_result",
          "data": {
            "text/plain": [
              "{0: 493,\n",
              " 1: 470,\n",
              " 2: 496,\n",
              " 3: 492,\n",
              " 4: 471,\n",
              " 5: 536,\n",
              " 6: 491,\n",
              " 7: 531,\n",
              " 8: 497,\n",
              " 9: 523}"
            ]
          },
          "metadata": {},
          "execution_count": 12
        }
      ]
    },
    {
      "cell_type": "code",
      "metadata": {
        "ExecuteTime": {
          "end_time": "2021-04-28T17:25:40.424504Z",
          "start_time": "2021-04-28T17:25:40.022376Z"
        },
        "colab": {
          "base_uri": "https://localhost:8080/",
          "height": 186
        },
        "id": "hQ62jK5VVj03",
        "outputId": "2c1340cd-8d7f-4c40-fe51-da3278384701"
      },
      "source": [
        "# Let's plot few images to see what they look like\n",
        "import matplotlib.pyplot as plt\n",
        "\n",
        "plt.figure(figsize=(15,5))\n",
        "for i in range(6):\n",
        "    plt.subplot(1,6, i+1)\n",
        "    img = images_train[i]\n",
        "    label = labels_train[i][0]\n",
        "    plt.imshow(img)\n",
        "    plt.title(labels[label])"
      ],
      "execution_count": null,
      "outputs": [
        {
          "output_type": "display_data",
          "data": {
            "image/png": "[encoded data removed]",
            "text/plain": [
              "<Figure size 1080x360 with 6 Axes>"
            ]
          },
          "metadata": {}
        }
      ]
    },
    {
      "cell_type": "markdown",
      "metadata": {
        "id": "WMG4ttoHVj02"
      },
      "source": [
        "And, as usual,\n",
        "- we normalize the data between 0 and 1\n",
        "- we create `y` as one-hot-encoded version of `labels`"
      ]
    },
    {
      "cell_type": "code",
      "metadata": {
        "ExecuteTime": {
          "end_time": "2021-04-28T17:30:36.240227Z",
          "start_time": "2021-04-28T17:30:34.949442Z"
        },
        "id": "Fm8XRTbiVj02",
        "colab": {
          "base_uri": "https://localhost:8080/"
        },
        "outputId": "baa39d65-23ac-4c8b-b992-53b9c81bc9e7"
      },
      "source": [
        "X_train = images_train / 255.\n",
        "X_train_small = images_train_small / 255.\n",
        "X_test = images_test / 255.\n",
        "X_test_small = images_test_small / 255.\n",
        "print(\"X_train \", X_train)\n",
        "print(\"X_train_small \",X_train_small)\n",
        "print(\"X_test \",X_test)\n",
        "print(\"X_test_small \",X_test_small)\n",
        "\n",
        "\n",
        "from tensorflow.keras.utils import to_categorical\n",
        "y_train = to_categorical(labels_train, 10)\n",
        "y_train_small = to_categorical(labels_train_small, 10)\n",
        "y_test = to_categorical(labels_test, 10)\n",
        "y_test_small = to_categorical(labels_test_small, 10)\n",
        "print(\"y_train \", y_train)\n",
        "print(\"y_train_small \",y_train_small)\n",
        "print(\"y_test \", y_test)\n",
        "print(\"y_test_small \", y_test_small)"
      ],
      "execution_count": null,
      "outputs": [
        {
          "output_type": "stream",
          "name": "stdout",
          "text": [
            "X_train  [[[[0.23137255 0.24313725 0.24705882]\n",
            "   [0.16862745 0.18039216 0.17647059]\n",
            "   [0.19607843 0.18823529 0.16862745]\n",
            "   ...\n",
            "   [0.61960784 0.51764706 0.42352941]\n",
            "   [0.59607843 0.49019608 0.4       ]\n",
            "   [0.58039216 0.48627451 0.40392157]]\n",
            "\n",
            "  [[0.0627451  0.07843137 0.07843137]\n",
            "   [0.         0.         0.        ]\n",
            "   [0.07058824 0.03137255 0.        ]\n",
            "   ...\n",
            "   [0.48235294 0.34509804 0.21568627]\n",
            "   [0.46666667 0.3254902  0.19607843]\n",
            "   [0.47843137 0.34117647 0.22352941]]\n",
            "\n",
            "  [[0.09803922 0.09411765 0.08235294]\n",
            "   [0.0627451  0.02745098 0.        ]\n",
            "   [0.19215686 0.10588235 0.03137255]\n",
            "   ...\n",
            "   [0.4627451  0.32941176 0.19607843]\n",
            "   [0.47058824 0.32941176 0.19607843]\n",
            "   [0.42745098 0.28627451 0.16470588]]\n",
            "\n",
            "  ...\n",
            "\n",
            "  [[0.81568627 0.66666667 0.37647059]\n",
            "   [0.78823529 0.6        0.13333333]\n",
            "   [0.77647059 0.63137255 0.10196078]\n",
            "   ...\n",
            "   [0.62745098 0.52156863 0.2745098 ]\n",
            "   [0.21960784 0.12156863 0.02745098]\n",
            "   [0.20784314 0.13333333 0.07843137]]\n",
            "\n",
            "  [[0.70588235 0.54509804 0.37647059]\n",
            "   [0.67843137 0.48235294 0.16470588]\n",
            "   [0.72941176 0.56470588 0.11764706]\n",
            "   ...\n",
            "   [0.72156863 0.58039216 0.36862745]\n",
            "   [0.38039216 0.24313725 0.13333333]\n",
            "   [0.3254902  0.20784314 0.13333333]]\n",
            "\n",
            "  [[0.69411765 0.56470588 0.45490196]\n",
            "   [0.65882353 0.50588235 0.36862745]\n",
            "   [0.70196078 0.55686275 0.34117647]\n",
            "   ...\n",
            "   [0.84705882 0.72156863 0.54901961]\n",
            "   [0.59215686 0.4627451  0.32941176]\n",
            "   [0.48235294 0.36078431 0.28235294]]]\n",
            "\n",
            "\n",
            " [[[0.60392157 0.69411765 0.73333333]\n",
            "   [0.49411765 0.5372549  0.53333333]\n",
            "   [0.41176471 0.40784314 0.37254902]\n",
            "   ...\n",
            "   [0.35686275 0.37254902 0.27843137]\n",
            "   [0.34117647 0.35294118 0.27843137]\n",
            "   [0.30980392 0.31764706 0.2745098 ]]\n",
            "\n",
            "  [[0.54901961 0.62745098 0.6627451 ]\n",
            "   [0.56862745 0.6        0.60392157]\n",
            "   [0.49019608 0.49019608 0.4627451 ]\n",
            "   ...\n",
            "   [0.37647059 0.38823529 0.30588235]\n",
            "   [0.30196078 0.31372549 0.24313725]\n",
            "   [0.27843137 0.28627451 0.23921569]]\n",
            "\n",
            "  [[0.54901961 0.60784314 0.64313725]\n",
            "   [0.54509804 0.57254902 0.58431373]\n",
            "   [0.45098039 0.45098039 0.43921569]\n",
            "   ...\n",
            "   [0.30980392 0.32156863 0.25098039]\n",
            "   [0.26666667 0.2745098  0.21568627]\n",
            "   [0.2627451  0.27058824 0.21568627]]\n",
            "\n",
            "  ...\n",
            "\n",
            "  [[0.68627451 0.65490196 0.65098039]\n",
            "   [0.61176471 0.60392157 0.62745098]\n",
            "   [0.60392157 0.62745098 0.66666667]\n",
            "   ...\n",
            "   [0.16470588 0.13333333 0.14117647]\n",
            "   [0.23921569 0.20784314 0.22352941]\n",
            "   [0.36470588 0.3254902  0.35686275]]\n",
            "\n",
            "  [[0.64705882 0.60392157 0.50196078]\n",
            "   [0.61176471 0.59607843 0.50980392]\n",
            "   [0.62352941 0.63137255 0.55686275]\n",
            "   ...\n",
            "   [0.40392157 0.36470588 0.37647059]\n",
            "   [0.48235294 0.44705882 0.47058824]\n",
            "   [0.51372549 0.4745098  0.51372549]]\n",
            "\n",
            "  [[0.63921569 0.58039216 0.47058824]\n",
            "   [0.61960784 0.58039216 0.47843137]\n",
            "   [0.63921569 0.61176471 0.52156863]\n",
            "   ...\n",
            "   [0.56078431 0.52156863 0.54509804]\n",
            "   [0.56078431 0.5254902  0.55686275]\n",
            "   [0.56078431 0.52156863 0.56470588]]]\n",
            "\n",
            "\n",
            " [[[1.         1.         1.        ]\n",
            "   [0.99215686 0.99215686 0.99215686]\n",
            "   [0.99215686 0.99215686 0.99215686]\n",
            "   ...\n",
            "   [0.99215686 0.99215686 0.99215686]\n",
            "   [0.99215686 0.99215686 0.99215686]\n",
            "   [0.99215686 0.99215686 0.99215686]]\n",
            "\n",
            "  [[1.         1.         1.        ]\n",
            "   [1.         1.         1.        ]\n",
            "   [1.         1.         1.        ]\n",
            "   ...\n",
            "   [1.         1.         1.        ]\n",
            "   [1.         1.         1.        ]\n",
            "   [1.         1.         1.        ]]\n",
            "\n",
            "  [[1.         1.         1.        ]\n",
            "   [0.99607843 0.99607843 0.99607843]\n",
            "   [0.99607843 0.99607843 0.99607843]\n",
            "   ...\n",
            "   [0.99607843 0.99607843 0.99607843]\n",
            "   [0.99607843 0.99607843 0.99607843]\n",
            "   [0.99607843 0.99607843 0.99607843]]\n",
            "\n",
            "  ...\n",
            "\n",
            "  [[0.44313725 0.47058824 0.43921569]\n",
            "   [0.43529412 0.4627451  0.43529412]\n",
            "   [0.41176471 0.43921569 0.41568627]\n",
            "   ...\n",
            "   [0.28235294 0.31764706 0.31372549]\n",
            "   [0.28235294 0.31372549 0.30980392]\n",
            "   [0.28235294 0.31372549 0.30980392]]\n",
            "\n",
            "  [[0.43529412 0.4627451  0.43137255]\n",
            "   [0.40784314 0.43529412 0.40784314]\n",
            "   [0.38823529 0.41568627 0.38431373]\n",
            "   ...\n",
            "   [0.26666667 0.29411765 0.28627451]\n",
            "   [0.2745098  0.29803922 0.29411765]\n",
            "   [0.30588235 0.32941176 0.32156863]]\n",
            "\n",
            "  [[0.41568627 0.44313725 0.41176471]\n",
            "   [0.38823529 0.41568627 0.38431373]\n",
            "   [0.37254902 0.4        0.36862745]\n",
            "   ...\n",
            "   [0.30588235 0.33333333 0.3254902 ]\n",
            "   [0.30980392 0.33333333 0.3254902 ]\n",
            "   [0.31372549 0.3372549  0.32941176]]]\n",
            "\n",
            "\n",
            " ...\n",
            "\n",
            "\n",
            " [[[0.1372549  0.69803922 0.92156863]\n",
            "   [0.15686275 0.69019608 0.9372549 ]\n",
            "   [0.16470588 0.69019608 0.94509804]\n",
            "   ...\n",
            "   [0.38823529 0.69411765 0.85882353]\n",
            "   [0.30980392 0.57647059 0.77254902]\n",
            "   [0.34901961 0.58039216 0.74117647]]\n",
            "\n",
            "  [[0.22352941 0.71372549 0.91764706]\n",
            "   [0.17254902 0.72156863 0.98039216]\n",
            "   [0.19607843 0.71764706 0.94117647]\n",
            "   ...\n",
            "   [0.61176471 0.71372549 0.78431373]\n",
            "   [0.55294118 0.69411765 0.80784314]\n",
            "   [0.45490196 0.58431373 0.68627451]]\n",
            "\n",
            "  [[0.38431373 0.77254902 0.92941176]\n",
            "   [0.25098039 0.74117647 0.98823529]\n",
            "   [0.27058824 0.75294118 0.96078431]\n",
            "   ...\n",
            "   [0.7372549  0.76470588 0.80784314]\n",
            "   [0.46666667 0.52941176 0.57647059]\n",
            "   [0.23921569 0.30980392 0.35294118]]\n",
            "\n",
            "  ...\n",
            "\n",
            "  [[0.28627451 0.30980392 0.30196078]\n",
            "   [0.20784314 0.24705882 0.26666667]\n",
            "   [0.21176471 0.26666667 0.31372549]\n",
            "   ...\n",
            "   [0.06666667 0.15686275 0.25098039]\n",
            "   [0.08235294 0.14117647 0.2       ]\n",
            "   [0.12941176 0.18823529 0.19215686]]\n",
            "\n",
            "  [[0.23921569 0.26666667 0.29411765]\n",
            "   [0.21568627 0.2745098  0.3372549 ]\n",
            "   [0.22352941 0.30980392 0.40392157]\n",
            "   ...\n",
            "   [0.09411765 0.18823529 0.28235294]\n",
            "   [0.06666667 0.1372549  0.20784314]\n",
            "   [0.02745098 0.09019608 0.1254902 ]]\n",
            "\n",
            "  [[0.17254902 0.21960784 0.28627451]\n",
            "   [0.18039216 0.25882353 0.34509804]\n",
            "   [0.19215686 0.30196078 0.41176471]\n",
            "   ...\n",
            "   [0.10588235 0.20392157 0.30196078]\n",
            "   [0.08235294 0.16862745 0.25882353]\n",
            "   [0.04705882 0.12156863 0.19607843]]]\n",
            "\n",
            "\n",
            " [[[0.74117647 0.82745098 0.94117647]\n",
            "   [0.72941176 0.81568627 0.9254902 ]\n",
            "   [0.7254902  0.81176471 0.92156863]\n",
            "   ...\n",
            "   [0.68627451 0.76470588 0.87843137]\n",
            "   [0.6745098  0.76078431 0.87058824]\n",
            "   [0.6627451  0.76078431 0.8627451 ]]\n",
            "\n",
            "  [[0.76078431 0.82352941 0.9372549 ]\n",
            "   [0.74901961 0.81176471 0.9254902 ]\n",
            "   [0.74509804 0.80784314 0.92156863]\n",
            "   ...\n",
            "   [0.67843137 0.75294118 0.8627451 ]\n",
            "   [0.67058824 0.74901961 0.85490196]\n",
            "   [0.65490196 0.74509804 0.84705882]]\n",
            "\n",
            "  [[0.81568627 0.85882353 0.95686275]\n",
            "   [0.80392157 0.84705882 0.94117647]\n",
            "   [0.8        0.84313725 0.9372549 ]\n",
            "   ...\n",
            "   [0.68627451 0.74901961 0.85098039]\n",
            "   [0.6745098  0.74509804 0.84705882]\n",
            "   [0.6627451  0.74901961 0.84313725]]\n",
            "\n",
            "  ...\n",
            "\n",
            "  [[0.81176471 0.78039216 0.70980392]\n",
            "   [0.79607843 0.76470588 0.68627451]\n",
            "   [0.79607843 0.76862745 0.67843137]\n",
            "   ...\n",
            "   [0.52941176 0.51764706 0.49803922]\n",
            "   [0.63529412 0.61960784 0.58823529]\n",
            "   [0.65882353 0.63921569 0.59215686]]\n",
            "\n",
            "  [[0.77647059 0.74509804 0.66666667]\n",
            "   [0.74117647 0.70980392 0.62352941]\n",
            "   [0.70588235 0.6745098  0.57647059]\n",
            "   ...\n",
            "   [0.69803922 0.67058824 0.62745098]\n",
            "   [0.68627451 0.6627451  0.61176471]\n",
            "   [0.68627451 0.6627451  0.60392157]]\n",
            "\n",
            "  [[0.77647059 0.74117647 0.67843137]\n",
            "   [0.74117647 0.70980392 0.63529412]\n",
            "   [0.69803922 0.66666667 0.58431373]\n",
            "   ...\n",
            "   [0.76470588 0.72156863 0.6627451 ]\n",
            "   [0.76862745 0.74117647 0.67058824]\n",
            "   [0.76470588 0.74509804 0.67058824]]]\n",
            "\n",
            "\n",
            " [[[0.89803922 0.89803922 0.9372549 ]\n",
            "   [0.9254902  0.92941176 0.96862745]\n",
            "   [0.91764706 0.9254902  0.96862745]\n",
            "   ...\n",
            "   [0.85098039 0.85882353 0.91372549]\n",
            "   [0.86666667 0.8745098  0.91764706]\n",
            "   [0.87058824 0.8745098  0.91372549]]\n",
            "\n",
            "  [[0.87058824 0.86666667 0.89803922]\n",
            "   [0.9372549  0.9372549  0.97647059]\n",
            "   [0.91372549 0.91764706 0.96470588]\n",
            "   ...\n",
            "   [0.8745098  0.8745098  0.9254902 ]\n",
            "   [0.89019608 0.89411765 0.93333333]\n",
            "   [0.82352941 0.82745098 0.8627451 ]]\n",
            "\n",
            "  [[0.83529412 0.80784314 0.82745098]\n",
            "   [0.91764706 0.90980392 0.9372549 ]\n",
            "   [0.90588235 0.91372549 0.95686275]\n",
            "   ...\n",
            "   [0.8627451  0.8627451  0.90980392]\n",
            "   [0.8627451  0.85882353 0.90980392]\n",
            "   [0.79215686 0.79607843 0.84313725]]\n",
            "\n",
            "  ...\n",
            "\n",
            "  [[0.58823529 0.56078431 0.52941176]\n",
            "   [0.54901961 0.52941176 0.49803922]\n",
            "   [0.51764706 0.49803922 0.47058824]\n",
            "   ...\n",
            "   [0.87843137 0.87058824 0.85490196]\n",
            "   [0.90196078 0.89411765 0.88235294]\n",
            "   [0.94509804 0.94509804 0.93333333]]\n",
            "\n",
            "  [[0.5372549  0.51764706 0.49411765]\n",
            "   [0.50980392 0.49803922 0.47058824]\n",
            "   [0.49019608 0.4745098  0.45098039]\n",
            "   ...\n",
            "   [0.70980392 0.70588235 0.69803922]\n",
            "   [0.79215686 0.78823529 0.77647059]\n",
            "   [0.83137255 0.82745098 0.81176471]]\n",
            "\n",
            "  [[0.47843137 0.46666667 0.44705882]\n",
            "   [0.4627451  0.45490196 0.43137255]\n",
            "   [0.47058824 0.45490196 0.43529412]\n",
            "   ...\n",
            "   [0.70196078 0.69411765 0.67843137]\n",
            "   [0.64313725 0.64313725 0.63529412]\n",
            "   [0.63921569 0.63921569 0.63137255]]]]\n",
            "X_train_small  [[[[0.04313725 0.04705882 0.03529412]\n",
            "   [0.05490196 0.05490196 0.04313725]\n",
            "   [0.06666667 0.05882353 0.04705882]\n",
            "   ...\n",
            "   [0.32941176 0.31372549 0.3254902 ]\n",
            "   [0.34509804 0.32941176 0.34117647]\n",
            "   [0.43137255 0.40392157 0.4       ]]\n",
            "\n",
            "  [[0.03921569 0.04313725 0.02745098]\n",
            "   [0.05098039 0.05098039 0.03921569]\n",
            "   [0.07058824 0.0627451  0.05098039]\n",
            "   ...\n",
            "   [0.36078431 0.33333333 0.34509804]\n",
            "   [0.39215686 0.35686275 0.36078431]\n",
            "   [0.39215686 0.35294118 0.33333333]]\n",
            "\n",
            "  [[0.03137255 0.03137255 0.02352941]\n",
            "   [0.03137255 0.03137255 0.02352941]\n",
            "   [0.03137255 0.03137255 0.02352941]\n",
            "   ...\n",
            "   [0.47058824 0.44313725 0.45490196]\n",
            "   [0.4        0.38823529 0.38039216]\n",
            "   [0.36862745 0.32156863 0.30980392]]\n",
            "\n",
            "  ...\n",
            "\n",
            "  [[0.73333333 0.74117647 0.78039216]\n",
            "   [0.78823529 0.80392157 0.84313725]\n",
            "   [0.8627451  0.8745098  0.91372549]\n",
            "   ...\n",
            "   [0.55686275 0.49803922 0.47843137]\n",
            "   [0.51372549 0.46666667 0.45882353]\n",
            "   [0.43921569 0.4        0.40784314]]\n",
            "\n",
            "  [[0.65490196 0.6627451  0.70588235]\n",
            "   [0.78823529 0.8        0.84705882]\n",
            "   [0.86666667 0.88235294 0.9254902 ]\n",
            "   ...\n",
            "   [0.39607843 0.35294118 0.36078431]\n",
            "   [0.36078431 0.32156863 0.33333333]\n",
            "   [0.3254902  0.28235294 0.29803922]]\n",
            "\n",
            "  [[0.50980392 0.50980392 0.55686275]\n",
            "   [0.6627451  0.6627451  0.72156863]\n",
            "   [0.77254902 0.78039216 0.84313725]\n",
            "   ...\n",
            "   [0.3254902  0.29803922 0.32156863]\n",
            "   [0.30588235 0.27843137 0.29803922]\n",
            "   [0.28627451 0.25490196 0.26666667]]]\n",
            "\n",
            "\n",
            " [[[0.30196078 0.57647059 0.05098039]\n",
            "   [0.45490196 0.69019608 0.20392157]\n",
            "   [0.2745098  0.4        0.12156863]\n",
            "   ...\n",
            "   [0.56470588 0.77254902 0.36470588]\n",
            "   [0.55294118 0.76862745 0.3254902 ]\n",
            "   [0.52156863 0.77254902 0.29411765]]\n",
            "\n",
            "  [[0.37254902 0.64313725 0.03529412]\n",
            "   [0.43529412 0.69019608 0.10588235]\n",
            "   [0.29411765 0.44705882 0.10588235]\n",
            "   ...\n",
            "   [0.48235294 0.63529412 0.22352941]\n",
            "   [0.52156863 0.71372549 0.3254902 ]\n",
            "   [0.50196078 0.73333333 0.3254902 ]]\n",
            "\n",
            "  [[0.39215686 0.64313725 0.06666667]\n",
            "   [0.41568627 0.68235294 0.05882353]\n",
            "   [0.36862745 0.55686275 0.13333333]\n",
            "   ...\n",
            "   [0.36862745 0.4627451  0.09411765]\n",
            "   [0.45098039 0.58431373 0.23921569]\n",
            "   [0.55294118 0.72156863 0.36470588]]\n",
            "\n",
            "  ...\n",
            "\n",
            "  [[0.12156863 0.25882353 0.00392157]\n",
            "   [0.22745098 0.31372549 0.09411765]\n",
            "   [0.17254902 0.26666667 0.04313725]\n",
            "   ...\n",
            "   [0.39607843 0.57647059 0.30980392]\n",
            "   [0.4        0.5372549  0.26666667]\n",
            "   [0.32941176 0.46666667 0.15686275]]\n",
            "\n",
            "  [[0.24705882 0.39607843 0.07843137]\n",
            "   [0.21568627 0.30588235 0.07843137]\n",
            "   [0.17647059 0.27058824 0.05490196]\n",
            "   ...\n",
            "   [0.51372549 0.67843137 0.44313725]\n",
            "   [0.22745098 0.3372549  0.14509804]\n",
            "   [0.19607843 0.31372549 0.05882353]]\n",
            "\n",
            "  [[0.34117647 0.50588235 0.15686275]\n",
            "   [0.29803922 0.39607843 0.15686275]\n",
            "   [0.2627451  0.35686275 0.14117647]\n",
            "   ...\n",
            "   [0.65882353 0.81176471 0.60392157]\n",
            "   [0.28235294 0.36862745 0.25490196]\n",
            "   [0.06666667 0.16470588 0.00392157]]]\n",
            "\n",
            "\n",
            " [[[0.79607843 0.82745098 0.86666667]\n",
            "   [0.78431373 0.81960784 0.85098039]\n",
            "   [0.76470588 0.78823529 0.81176471]\n",
            "   ...\n",
            "   [0.89019608 0.18039216 0.34117647]\n",
            "   [0.90588235 0.20784314 0.36470588]\n",
            "   [0.84705882 0.21960784 0.35686275]]\n",
            "\n",
            "  [[0.78039216 0.81176471 0.84705882]\n",
            "   [0.77254902 0.80784314 0.83137255]\n",
            "   [0.74901961 0.76862745 0.79215686]\n",
            "   ...\n",
            "   [0.89803922 0.20392157 0.34901961]\n",
            "   [0.8745098  0.19607843 0.34117647]\n",
            "   [0.80392157 0.2        0.33333333]]\n",
            "\n",
            "  [[0.76470588 0.79607843 0.82352941]\n",
            "   [0.76078431 0.79607843 0.81960784]\n",
            "   [0.74901961 0.76862745 0.78823529]\n",
            "   ...\n",
            "   [0.88627451 0.20392157 0.3372549 ]\n",
            "   [0.85490196 0.19215686 0.3254902 ]\n",
            "   [0.76470588 0.17254902 0.30196078]]\n",
            "\n",
            "  ...\n",
            "\n",
            "  [[0.66666667 0.65098039 0.6745098 ]\n",
            "   [0.69019608 0.69411765 0.70980392]\n",
            "   [0.67843137 0.69019608 0.70588235]\n",
            "   ...\n",
            "   [0.79215686 0.79607843 0.81568627]\n",
            "   [0.55686275 0.56078431 0.57647059]\n",
            "   [0.57254902 0.58039216 0.59607843]]\n",
            "\n",
            "  [[0.68627451 0.68235294 0.69803922]\n",
            "   [0.6745098  0.69019608 0.70196078]\n",
            "   [0.68235294 0.70196078 0.71372549]\n",
            "   ...\n",
            "   [0.69019608 0.69411765 0.70980392]\n",
            "   [0.66666667 0.67058824 0.68627451]\n",
            "   [0.70196078 0.71372549 0.7254902 ]]\n",
            "\n",
            "  [[0.68235294 0.69019608 0.70980392]\n",
            "   [0.68235294 0.70196078 0.72156863]\n",
            "   [0.69803922 0.72156863 0.74117647]\n",
            "   ...\n",
            "   [0.72941176 0.74117647 0.75294118]\n",
            "   [0.73333333 0.74117647 0.75686275]\n",
            "   [0.72941176 0.74117647 0.75294118]]]\n",
            "\n",
            "\n",
            " ...\n",
            "\n",
            "\n",
            " [[[0.83921569 0.8627451  1.        ]\n",
            "   [0.82352941 0.85490196 0.98039216]\n",
            "   [0.83137255 0.87058824 0.98039216]\n",
            "   ...\n",
            "   [0.85882353 0.85882353 0.98039216]\n",
            "   [0.85098039 0.85882353 0.98431373]\n",
            "   [0.83137255 0.85490196 0.98823529]]\n",
            "\n",
            "  [[0.83921569 0.87058824 1.        ]\n",
            "   [0.83921569 0.87058824 0.99215686]\n",
            "   [0.84705882 0.87843137 0.98431373]\n",
            "   ...\n",
            "   [0.84705882 0.84705882 0.95686275]\n",
            "   [0.85882353 0.87058824 0.98431373]\n",
            "   [0.85098039 0.8745098  0.99607843]]\n",
            "\n",
            "  [[0.83921569 0.8627451  0.98823529]\n",
            "   [0.83137255 0.84313725 0.96078431]\n",
            "   [0.69019608 0.69019608 0.79607843]\n",
            "   ...\n",
            "   [0.56470588 0.55294118 0.64705882]\n",
            "   [0.64313725 0.63921569 0.74117647]\n",
            "   [0.82352941 0.83137255 0.94117647]]\n",
            "\n",
            "  ...\n",
            "\n",
            "  [[0.78039216 0.74509804 0.69803922]\n",
            "   [0.62352941 0.51764706 0.36862745]\n",
            "   [0.73333333 0.61176471 0.38431373]\n",
            "   ...\n",
            "   [0.32941176 0.17647059 0.25098039]\n",
            "   [0.3254902  0.25098039 0.38431373]\n",
            "   [0.43921569 0.46666667 0.71372549]]\n",
            "\n",
            "  [[0.4745098  0.44313725 0.70196078]\n",
            "   [0.45490196 0.4        0.57647059]\n",
            "   [0.51764706 0.45882353 0.57647059]\n",
            "   ...\n",
            "   [0.29411765 0.14901961 0.27843137]\n",
            "   [0.4        0.33333333 0.48627451]\n",
            "   [0.60784314 0.63137255 0.85882353]]\n",
            "\n",
            "  [[0.35686275 0.34117647 0.6745098 ]\n",
            "   [0.36862745 0.36078431 0.66666667]\n",
            "   [0.41568627 0.41960784 0.69803922]\n",
            "   ...\n",
            "   [0.20392157 0.08627451 0.2627451 ]\n",
            "   [0.36078431 0.29803922 0.47843137]\n",
            "   [0.56078431 0.56078431 0.78823529]]]\n",
            "\n",
            "\n",
            " [[[0.08235294 0.09019608 0.09019608]\n",
            "   [0.04705882 0.05098039 0.0627451 ]\n",
            "   [0.01176471 0.01176471 0.03921569]\n",
            "   ...\n",
            "   [0.45098039 0.43529412 0.39215686]\n",
            "   [0.50980392 0.49411765 0.43921569]\n",
            "   [0.56078431 0.54509804 0.49411765]]\n",
            "\n",
            "  [[0.05490196 0.05882353 0.0745098 ]\n",
            "   [0.02352941 0.02745098 0.04705882]\n",
            "   [0.01176471 0.01176471 0.04313725]\n",
            "   ...\n",
            "   [0.45098039 0.43921569 0.41568627]\n",
            "   [0.40392157 0.39215686 0.35686275]\n",
            "   [0.56470588 0.55294118 0.50980392]]\n",
            "\n",
            "  [[0.02352941 0.02745098 0.05098039]\n",
            "   [0.02352941 0.02745098 0.05490196]\n",
            "   [0.01960784 0.01960784 0.05098039]\n",
            "   ...\n",
            "   [0.10588235 0.10196078 0.10196078]\n",
            "   [0.15686275 0.15686275 0.14117647]\n",
            "   [0.31764706 0.32156863 0.28235294]]\n",
            "\n",
            "  ...\n",
            "\n",
            "  [[0.32941176 0.41568627 0.13333333]\n",
            "   [0.3254902  0.41960784 0.10980392]\n",
            "   [0.34117647 0.44313725 0.1254902 ]\n",
            "   ...\n",
            "   [0.44705882 0.50980392 0.19215686]\n",
            "   [0.37254902 0.48627451 0.15294118]\n",
            "   [0.35686275 0.48627451 0.14901961]]\n",
            "\n",
            "  [[0.26666667 0.34117647 0.14117647]\n",
            "   [0.30588235 0.39215686 0.14509804]\n",
            "   [0.31764706 0.41568627 0.13333333]\n",
            "   ...\n",
            "   [0.38823529 0.49019608 0.15294118]\n",
            "   [0.34901961 0.48627451 0.1372549 ]\n",
            "   [0.34509804 0.47058824 0.12156863]]\n",
            "\n",
            "  [[0.18039216 0.23921569 0.09411765]\n",
            "   [0.2627451  0.32941176 0.14117647]\n",
            "   [0.2627451  0.34117647 0.10196078]\n",
            "   ...\n",
            "   [0.34901961 0.47058824 0.13333333]\n",
            "   [0.33333333 0.4745098  0.13333333]\n",
            "   [0.35294118 0.47843137 0.14509804]]]\n",
            "\n",
            "\n",
            " [[[0.11372549 0.12941176 0.1254902 ]\n",
            "   [0.09803922 0.11372549 0.10980392]\n",
            "   [0.07058824 0.08627451 0.08235294]\n",
            "   ...\n",
            "   [0.11764706 0.16862745 0.16078431]\n",
            "   [0.08235294 0.12941176 0.12156863]\n",
            "   [0.0745098  0.10980392 0.10196078]]\n",
            "\n",
            "  [[0.10196078 0.11764706 0.11372549]\n",
            "   [0.09019608 0.10588235 0.10196078]\n",
            "   [0.06666667 0.08235294 0.07843137]\n",
            "   ...\n",
            "   [0.10196078 0.14509804 0.1254902 ]\n",
            "   [0.08627451 0.12941176 0.10980392]\n",
            "   [0.07058824 0.10196078 0.09019608]]\n",
            "\n",
            "  [[0.0627451  0.07843137 0.0745098 ]\n",
            "   [0.05882353 0.0745098  0.07058824]\n",
            "   [0.05882353 0.0745098  0.07058824]\n",
            "   ...\n",
            "   [0.10196078 0.12941176 0.10588235]\n",
            "   [0.09803922 0.12941176 0.10196078]\n",
            "   [0.10196078 0.12156863 0.10980392]]\n",
            "\n",
            "  ...\n",
            "\n",
            "  [[0.17254902 0.14901961 0.10196078]\n",
            "   [0.1254902  0.10196078 0.05490196]\n",
            "   [0.21176471 0.18431373 0.1372549 ]\n",
            "   ...\n",
            "   [0.07058824 0.09019608 0.0745098 ]\n",
            "   [0.05882353 0.07843137 0.0627451 ]\n",
            "   [0.06666667 0.08627451 0.0627451 ]]\n",
            "\n",
            "  [[0.16862745 0.14509804 0.11372549]\n",
            "   [0.14509804 0.12156863 0.08627451]\n",
            "   [0.13333333 0.10980392 0.0745098 ]\n",
            "   ...\n",
            "   [0.06666667 0.08627451 0.07058824]\n",
            "   [0.05098039 0.07058824 0.05490196]\n",
            "   [0.05882353 0.07843137 0.05882353]]\n",
            "\n",
            "  [[0.10196078 0.09019608 0.07843137]\n",
            "   [0.13333333 0.1254902  0.10196078]\n",
            "   [0.11764706 0.10980392 0.07843137]\n",
            "   ...\n",
            "   [0.07058824 0.09019608 0.0745098 ]\n",
            "   [0.05490196 0.0745098  0.05882353]\n",
            "   [0.05490196 0.07058824 0.05882353]]]]\n",
            "X_test  [[[[0.61960784 0.43921569 0.19215686]\n",
            "   [0.62352941 0.43529412 0.18431373]\n",
            "   [0.64705882 0.45490196 0.2       ]\n",
            "   ...\n",
            "   [0.5372549  0.37254902 0.14117647]\n",
            "   [0.49411765 0.35686275 0.14117647]\n",
            "   [0.45490196 0.33333333 0.12941176]]\n",
            "\n",
            "  [[0.59607843 0.43921569 0.2       ]\n",
            "   [0.59215686 0.43137255 0.15686275]\n",
            "   [0.62352941 0.44705882 0.17647059]\n",
            "   ...\n",
            "   [0.53333333 0.37254902 0.12156863]\n",
            "   [0.49019608 0.35686275 0.1254902 ]\n",
            "   [0.46666667 0.34509804 0.13333333]]\n",
            "\n",
            "  [[0.59215686 0.43137255 0.18431373]\n",
            "   [0.59215686 0.42745098 0.12941176]\n",
            "   [0.61960784 0.43529412 0.14117647]\n",
            "   ...\n",
            "   [0.54509804 0.38431373 0.13333333]\n",
            "   [0.50980392 0.37254902 0.13333333]\n",
            "   [0.47058824 0.34901961 0.12941176]]\n",
            "\n",
            "  ...\n",
            "\n",
            "  [[0.26666667 0.48627451 0.69411765]\n",
            "   [0.16470588 0.39215686 0.58039216]\n",
            "   [0.12156863 0.34509804 0.5372549 ]\n",
            "   ...\n",
            "   [0.14901961 0.38039216 0.57254902]\n",
            "   [0.05098039 0.25098039 0.42352941]\n",
            "   [0.15686275 0.33333333 0.49803922]]\n",
            "\n",
            "  [[0.23921569 0.45490196 0.65882353]\n",
            "   [0.19215686 0.4        0.58039216]\n",
            "   [0.1372549  0.33333333 0.51764706]\n",
            "   ...\n",
            "   [0.10196078 0.32156863 0.50980392]\n",
            "   [0.11372549 0.32156863 0.49411765]\n",
            "   [0.07843137 0.25098039 0.41960784]]\n",
            "\n",
            "  [[0.21176471 0.41960784 0.62745098]\n",
            "   [0.21960784 0.41176471 0.58431373]\n",
            "   [0.17647059 0.34901961 0.51764706]\n",
            "   ...\n",
            "   [0.09411765 0.30196078 0.48627451]\n",
            "   [0.13333333 0.32941176 0.50588235]\n",
            "   [0.08235294 0.2627451  0.43137255]]]\n",
            "\n",
            "\n",
            " [[[0.92156863 0.92156863 0.92156863]\n",
            "   [0.90588235 0.90588235 0.90588235]\n",
            "   [0.90980392 0.90980392 0.90980392]\n",
            "   ...\n",
            "   [0.91372549 0.91372549 0.91372549]\n",
            "   [0.91372549 0.91372549 0.91372549]\n",
            "   [0.90980392 0.90980392 0.90980392]]\n",
            "\n",
            "  [[0.93333333 0.93333333 0.93333333]\n",
            "   [0.92156863 0.92156863 0.92156863]\n",
            "   [0.92156863 0.92156863 0.92156863]\n",
            "   ...\n",
            "   [0.9254902  0.9254902  0.9254902 ]\n",
            "   [0.9254902  0.9254902  0.9254902 ]\n",
            "   [0.92156863 0.92156863 0.92156863]]\n",
            "\n",
            "  [[0.92941176 0.92941176 0.92941176]\n",
            "   [0.91764706 0.91764706 0.91764706]\n",
            "   [0.91764706 0.91764706 0.91764706]\n",
            "   ...\n",
            "   [0.92156863 0.92156863 0.92156863]\n",
            "   [0.92156863 0.92156863 0.92156863]\n",
            "   [0.91764706 0.91764706 0.91764706]]\n",
            "\n",
            "  ...\n",
            "\n",
            "  [[0.34117647 0.38823529 0.34901961]\n",
            "   [0.16862745 0.2        0.14509804]\n",
            "   [0.0745098  0.09019608 0.04313725]\n",
            "   ...\n",
            "   [0.6627451  0.72156863 0.70196078]\n",
            "   [0.71372549 0.77254902 0.75686275]\n",
            "   [0.7372549  0.79215686 0.78823529]]\n",
            "\n",
            "  [[0.32156863 0.37647059 0.32156863]\n",
            "   [0.18039216 0.22352941 0.14117647]\n",
            "   [0.14117647 0.17254902 0.08627451]\n",
            "   ...\n",
            "   [0.68235294 0.74117647 0.71764706]\n",
            "   [0.7254902  0.78431373 0.76862745]\n",
            "   [0.73333333 0.79215686 0.78431373]]\n",
            "\n",
            "  [[0.33333333 0.39607843 0.3254902 ]\n",
            "   [0.24313725 0.29411765 0.18823529]\n",
            "   [0.22745098 0.2627451  0.14901961]\n",
            "   ...\n",
            "   [0.65882353 0.71764706 0.69803922]\n",
            "   [0.70588235 0.76470588 0.74901961]\n",
            "   [0.72941176 0.78431373 0.78039216]]]\n",
            "\n",
            "\n",
            " [[[0.61960784 0.74509804 0.87058824]\n",
            "   [0.61960784 0.73333333 0.85490196]\n",
            "   [0.54509804 0.65098039 0.76078431]\n",
            "   ...\n",
            "   [0.89411765 0.90588235 0.91764706]\n",
            "   [0.92941176 0.9372549  0.95294118]\n",
            "   [0.93333333 0.94509804 0.96470588]]\n",
            "\n",
            "  [[0.66666667 0.78431373 0.89803922]\n",
            "   [0.6745098  0.78039216 0.88627451]\n",
            "   [0.59215686 0.69019608 0.78823529]\n",
            "   ...\n",
            "   [0.90980392 0.90980392 0.9254902 ]\n",
            "   [0.96470588 0.96470588 0.98039216]\n",
            "   [0.96470588 0.96862745 0.98431373]]\n",
            "\n",
            "  [[0.68235294 0.78823529 0.88235294]\n",
            "   [0.69019608 0.78431373 0.87058824]\n",
            "   [0.61568627 0.70196078 0.78039216]\n",
            "   ...\n",
            "   [0.90196078 0.89803922 0.90980392]\n",
            "   [0.98039216 0.97647059 0.98431373]\n",
            "   [0.96078431 0.95686275 0.96862745]]\n",
            "\n",
            "  ...\n",
            "\n",
            "  [[0.12156863 0.15686275 0.17647059]\n",
            "   [0.11764706 0.15294118 0.17254902]\n",
            "   [0.10196078 0.1372549  0.15686275]\n",
            "   ...\n",
            "   [0.14509804 0.15686275 0.18039216]\n",
            "   [0.03529412 0.05098039 0.05490196]\n",
            "   [0.01568627 0.02745098 0.01960784]]\n",
            "\n",
            "  [[0.09019608 0.13333333 0.15294118]\n",
            "   [0.10588235 0.14901961 0.16862745]\n",
            "   [0.09803922 0.14117647 0.16078431]\n",
            "   ...\n",
            "   [0.0745098  0.07843137 0.09411765]\n",
            "   [0.01568627 0.02352941 0.01176471]\n",
            "   [0.01960784 0.02745098 0.01176471]]\n",
            "\n",
            "  [[0.10980392 0.16078431 0.18431373]\n",
            "   [0.11764706 0.16862745 0.19607843]\n",
            "   [0.1254902  0.17647059 0.20392157]\n",
            "   ...\n",
            "   [0.01960784 0.02352941 0.03137255]\n",
            "   [0.01568627 0.01960784 0.01176471]\n",
            "   [0.02745098 0.03137255 0.02745098]]]\n",
            "\n",
            "\n",
            " ...\n",
            "\n",
            "\n",
            " [[[0.07843137 0.05882353 0.04705882]\n",
            "   [0.0745098  0.05490196 0.04313725]\n",
            "   [0.05882353 0.05490196 0.04313725]\n",
            "   ...\n",
            "   [0.03921569 0.03529412 0.02745098]\n",
            "   [0.04705882 0.04313725 0.03529412]\n",
            "   [0.05098039 0.04705882 0.03921569]]\n",
            "\n",
            "  [[0.08235294 0.0627451  0.05098039]\n",
            "   [0.07843137 0.0627451  0.05098039]\n",
            "   [0.07058824 0.06666667 0.04705882]\n",
            "   ...\n",
            "   [0.03921569 0.03529412 0.02745098]\n",
            "   [0.03921569 0.03529412 0.02745098]\n",
            "   [0.04705882 0.04313725 0.03529412]]\n",
            "\n",
            "  [[0.08235294 0.0627451  0.05098039]\n",
            "   [0.08235294 0.06666667 0.04705882]\n",
            "   [0.07843137 0.07058824 0.04313725]\n",
            "   ...\n",
            "   [0.04705882 0.04313725 0.03529412]\n",
            "   [0.04705882 0.04313725 0.03529412]\n",
            "   [0.05098039 0.04705882 0.03921569]]\n",
            "\n",
            "  ...\n",
            "\n",
            "  [[0.12941176 0.09803922 0.05098039]\n",
            "   [0.13333333 0.10196078 0.05882353]\n",
            "   [0.13333333 0.10196078 0.05882353]\n",
            "   ...\n",
            "   [0.10980392 0.09803922 0.20392157]\n",
            "   [0.11372549 0.09803922 0.22745098]\n",
            "   [0.09019608 0.07843137 0.16470588]]\n",
            "\n",
            "  [[0.12941176 0.09803922 0.05490196]\n",
            "   [0.13333333 0.10196078 0.05882353]\n",
            "   [0.13333333 0.10196078 0.05882353]\n",
            "   ...\n",
            "   [0.10588235 0.09411765 0.20392157]\n",
            "   [0.10588235 0.09411765 0.21960784]\n",
            "   [0.09803922 0.08627451 0.18431373]]\n",
            "\n",
            "  [[0.12156863 0.09019608 0.04705882]\n",
            "   [0.1254902  0.09411765 0.05098039]\n",
            "   [0.12941176 0.09803922 0.05490196]\n",
            "   ...\n",
            "   [0.09411765 0.09019608 0.19607843]\n",
            "   [0.10196078 0.09019608 0.20784314]\n",
            "   [0.09803922 0.07843137 0.18431373]]]\n",
            "\n",
            "\n",
            " [[[0.09803922 0.15686275 0.04705882]\n",
            "   [0.05882353 0.14117647 0.01176471]\n",
            "   [0.09019608 0.16078431 0.07058824]\n",
            "   ...\n",
            "   [0.23921569 0.32156863 0.30588235]\n",
            "   [0.36078431 0.44313725 0.43921569]\n",
            "   [0.29411765 0.34901961 0.36078431]]\n",
            "\n",
            "  [[0.04705882 0.09803922 0.02352941]\n",
            "   [0.07843137 0.14509804 0.02745098]\n",
            "   [0.09411765 0.14117647 0.05882353]\n",
            "   ...\n",
            "   [0.45098039 0.5254902  0.54117647]\n",
            "   [0.58431373 0.65882353 0.69411765]\n",
            "   [0.40784314 0.45882353 0.51372549]]\n",
            "\n",
            "  [[0.04705882 0.09803922 0.04313725]\n",
            "   [0.05882353 0.11372549 0.02352941]\n",
            "   [0.13333333 0.15686275 0.09411765]\n",
            "   ...\n",
            "   [0.60392157 0.6745098  0.71372549]\n",
            "   [0.61568627 0.68627451 0.75294118]\n",
            "   [0.45490196 0.50588235 0.59215686]]\n",
            "\n",
            "  ...\n",
            "\n",
            "  [[0.39215686 0.50588235 0.31764706]\n",
            "   [0.40392157 0.51764706 0.32941176]\n",
            "   [0.40784314 0.5254902  0.3372549 ]\n",
            "   ...\n",
            "   [0.38039216 0.50196078 0.32941176]\n",
            "   [0.38431373 0.49411765 0.32941176]\n",
            "   [0.35686275 0.4745098  0.30980392]]\n",
            "\n",
            "  [[0.40392157 0.51764706 0.3254902 ]\n",
            "   [0.40784314 0.51372549 0.3254902 ]\n",
            "   [0.41960784 0.52941176 0.34117647]\n",
            "   ...\n",
            "   [0.39607843 0.51764706 0.34117647]\n",
            "   [0.38823529 0.49803922 0.32941176]\n",
            "   [0.36078431 0.4745098  0.30980392]]\n",
            "\n",
            "  [[0.37254902 0.49411765 0.30588235]\n",
            "   [0.37254902 0.48235294 0.29803922]\n",
            "   [0.39607843 0.50196078 0.31764706]\n",
            "   ...\n",
            "   [0.36470588 0.48627451 0.31372549]\n",
            "   [0.37254902 0.48235294 0.31764706]\n",
            "   [0.36078431 0.47058824 0.31372549]]]\n",
            "\n",
            "\n",
            " [[[0.28627451 0.30588235 0.29411765]\n",
            "   [0.38431373 0.40392157 0.44313725]\n",
            "   [0.38823529 0.41568627 0.44705882]\n",
            "   ...\n",
            "   [0.52941176 0.58823529 0.59607843]\n",
            "   [0.52941176 0.58431373 0.60392157]\n",
            "   [0.79607843 0.84313725 0.8745098 ]]\n",
            "\n",
            "  [[0.27058824 0.28627451 0.2745098 ]\n",
            "   [0.32941176 0.34901961 0.38039216]\n",
            "   [0.26666667 0.29411765 0.31764706]\n",
            "   ...\n",
            "   [0.33333333 0.37254902 0.34901961]\n",
            "   [0.27843137 0.32156863 0.31372549]\n",
            "   [0.47058824 0.52156863 0.52941176]]\n",
            "\n",
            "  [[0.27058824 0.28627451 0.2745098 ]\n",
            "   [0.35294118 0.37254902 0.39215686]\n",
            "   [0.24313725 0.27843137 0.29019608]\n",
            "   ...\n",
            "   [0.29019608 0.31764706 0.2745098 ]\n",
            "   [0.20784314 0.24313725 0.21176471]\n",
            "   [0.24313725 0.29019608 0.27058824]]\n",
            "\n",
            "  ...\n",
            "\n",
            "  [[0.48235294 0.50196078 0.37647059]\n",
            "   [0.51764706 0.51764706 0.4       ]\n",
            "   [0.50588235 0.50196078 0.39215686]\n",
            "   ...\n",
            "   [0.42352941 0.41960784 0.34509804]\n",
            "   [0.24313725 0.23529412 0.21568627]\n",
            "   [0.10588235 0.10588235 0.10980392]]\n",
            "\n",
            "  [[0.45098039 0.4745098  0.35686275]\n",
            "   [0.48235294 0.48627451 0.37254902]\n",
            "   [0.50588235 0.49411765 0.38823529]\n",
            "   ...\n",
            "   [0.45098039 0.45490196 0.36862745]\n",
            "   [0.25882353 0.25490196 0.23137255]\n",
            "   [0.10588235 0.10588235 0.10588235]]\n",
            "\n",
            "  [[0.45490196 0.47058824 0.35294118]\n",
            "   [0.4745098  0.47843137 0.36862745]\n",
            "   [0.50588235 0.50196078 0.39607843]\n",
            "   ...\n",
            "   [0.45490196 0.45098039 0.36862745]\n",
            "   [0.26666667 0.25490196 0.22745098]\n",
            "   [0.10588235 0.10196078 0.10196078]]]]\n",
            "X_test_small  [[[[0.         0.         0.        ]\n",
            "   [0.         0.         0.        ]\n",
            "   [0.         0.         0.        ]\n",
            "   ...\n",
            "   [0.00784314 0.01568627 0.01176471]\n",
            "   [0.01568627 0.02352941 0.01960784]\n",
            "   [0.00784314 0.01568627 0.01176471]]\n",
            "\n",
            "  [[0.00392157 0.00392157 0.00392157]\n",
            "   [0.         0.         0.        ]\n",
            "   [0.         0.         0.        ]\n",
            "   ...\n",
            "   [0.00392157 0.00392157 0.00392157]\n",
            "   [0.00392157 0.00392157 0.00392157]\n",
            "   [0.         0.00392157 0.        ]]\n",
            "\n",
            "  [[0.00392157 0.00392157 0.00392157]\n",
            "   [0.00392157 0.00392157 0.00392157]\n",
            "   [0.         0.         0.        ]\n",
            "   ...\n",
            "   [0.         0.         0.        ]\n",
            "   [0.         0.         0.        ]\n",
            "   [0.         0.         0.        ]]\n",
            "\n",
            "  ...\n",
            "\n",
            "  [[0.19607843 0.14901961 0.14509804]\n",
            "   [0.32156863 0.26666667 0.2627451 ]\n",
            "   [0.2745098  0.22352941 0.21568627]\n",
            "   ...\n",
            "   [0.4        0.51764706 0.16078431]\n",
            "   [0.38039216 0.49019608 0.15294118]\n",
            "   [0.39607843 0.49411765 0.17647059]]\n",
            "\n",
            "  [[0.24313725 0.18431373 0.16862745]\n",
            "   [0.30196078 0.23529412 0.22352941]\n",
            "   [0.24705882 0.18823529 0.17254902]\n",
            "   ...\n",
            "   [0.45490196 0.56862745 0.22352941]\n",
            "   [0.25098039 0.35294118 0.07843137]\n",
            "   [0.16470588 0.24313725 0.04313725]]\n",
            "\n",
            "  [[0.19215686 0.12941176 0.10588235]\n",
            "   [0.2627451  0.18431373 0.15686275]\n",
            "   [0.30980392 0.23137255 0.2       ]\n",
            "   ...\n",
            "   [0.25098039 0.34117647 0.1254902 ]\n",
            "   [0.05098039 0.1254902  0.00392157]\n",
            "   [0.00392157 0.05882353 0.        ]]]\n",
            "\n",
            "\n",
            " [[[0.24705882 0.13333333 0.12156863]\n",
            "   [0.23529412 0.13333333 0.11764706]\n",
            "   [0.23137255 0.1372549  0.11764706]\n",
            "   ...\n",
            "   [0.20784314 0.09411765 0.08235294]\n",
            "   [0.20784314 0.09411765 0.08235294]\n",
            "   [0.20784314 0.09411765 0.08235294]]\n",
            "\n",
            "  [[0.23529412 0.1372549  0.10980392]\n",
            "   [0.23137255 0.13333333 0.10588235]\n",
            "   [0.23529412 0.13333333 0.10588235]\n",
            "   ...\n",
            "   [0.20392157 0.09411765 0.08235294]\n",
            "   [0.20392157 0.09411765 0.08235294]\n",
            "   [0.20392157 0.09411765 0.08235294]]\n",
            "\n",
            "  [[0.27058824 0.15294118 0.12156863]\n",
            "   [0.35294118 0.22352941 0.19607843]\n",
            "   [0.3372549  0.19215686 0.17254902]\n",
            "   ...\n",
            "   [0.20392157 0.09411765 0.08235294]\n",
            "   [0.20392157 0.09411765 0.08235294]\n",
            "   [0.20392157 0.09411765 0.08235294]]\n",
            "\n",
            "  ...\n",
            "\n",
            "  [[0.23921569 0.1254902  0.11372549]\n",
            "   [0.23529412 0.1254902  0.11372549]\n",
            "   [0.23137255 0.12156863 0.10980392]\n",
            "   ...\n",
            "   [0.20392157 0.09411765 0.08235294]\n",
            "   [0.20392157 0.09411765 0.08235294]\n",
            "   [0.20392157 0.09411765 0.08235294]]\n",
            "\n",
            "  [[0.23921569 0.12941176 0.11764706]\n",
            "   [0.23529412 0.1254902  0.11372549]\n",
            "   [0.23137255 0.12156863 0.10980392]\n",
            "   ...\n",
            "   [0.20392157 0.09411765 0.08235294]\n",
            "   [0.20392157 0.09411765 0.08235294]\n",
            "   [0.20392157 0.09411765 0.08235294]]\n",
            "\n",
            "  [[0.24313725 0.12941176 0.11764706]\n",
            "   [0.23529412 0.1254902  0.11372549]\n",
            "   [0.23137255 0.12156863 0.10980392]\n",
            "   ...\n",
            "   [0.20392157 0.09411765 0.08235294]\n",
            "   [0.20392157 0.09411765 0.08235294]\n",
            "   [0.20392157 0.09411765 0.08235294]]]\n",
            "\n",
            "\n",
            " [[[0.90196078 0.89803922 0.91764706]\n",
            "   [0.89411765 0.89019608 0.90588235]\n",
            "   [0.90588235 0.90196078 0.92156863]\n",
            "   ...\n",
            "   [0.94117647 0.9372549  0.92941176]\n",
            "   [0.94117647 0.9372549  0.92941176]\n",
            "   [0.94117647 0.9372549  0.93333333]]\n",
            "\n",
            "  [[0.90588235 0.90196078 0.92156863]\n",
            "   [0.90588235 0.90196078 0.92156863]\n",
            "   [0.90980392 0.90588235 0.9254902 ]\n",
            "   ...\n",
            "   [0.94901961 0.94509804 0.9372549 ]\n",
            "   [0.94901961 0.94509804 0.9372549 ]\n",
            "   [0.94901961 0.94509804 0.9372549 ]]\n",
            "\n",
            "  [[0.91372549 0.90980392 0.92941176]\n",
            "   [0.90980392 0.90588235 0.9254902 ]\n",
            "   [0.91372549 0.91372549 0.9254902 ]\n",
            "   ...\n",
            "   [0.95294118 0.94901961 0.94117647]\n",
            "   [0.95294118 0.94901961 0.94117647]\n",
            "   [0.95294118 0.94901961 0.94117647]]\n",
            "\n",
            "  ...\n",
            "\n",
            "  [[0.10980392 0.08235294 0.03529412]\n",
            "   [0.14509804 0.10196078 0.05098039]\n",
            "   [0.14901961 0.10588235 0.05490196]\n",
            "   ...\n",
            "   [0.81960784 0.74901961 0.56470588]\n",
            "   [0.89411765 0.81176471 0.62352941]\n",
            "   [0.88627451 0.80784314 0.60392157]]\n",
            "\n",
            "  [[0.10980392 0.08627451 0.03921569]\n",
            "   [0.14117647 0.09803922 0.05098039]\n",
            "   [0.11764706 0.08627451 0.03921569]\n",
            "   ...\n",
            "   [0.88627451 0.80392157 0.59215686]\n",
            "   [0.85490196 0.76470588 0.5372549 ]\n",
            "   [0.85882353 0.76862745 0.55294118]]\n",
            "\n",
            "  [[0.10980392 0.09019608 0.04313725]\n",
            "   [0.1254902  0.09411765 0.04313725]\n",
            "   [0.10980392 0.09019608 0.05098039]\n",
            "   ...\n",
            "   [0.81176471 0.7254902  0.50196078]\n",
            "   [0.83137255 0.7372549  0.50588235]\n",
            "   [0.84705882 0.75686275 0.5372549 ]]]\n",
            "\n",
            "\n",
            " ...\n",
            "\n",
            "\n",
            " [[[0.12156863 0.11372549 0.15686275]\n",
            "   [0.11764706 0.07058824 0.0627451 ]\n",
            "   [0.13333333 0.08235294 0.08627451]\n",
            "   ...\n",
            "   [0.14901961 0.10980392 0.11372549]\n",
            "   [0.1254902  0.08627451 0.09019608]\n",
            "   [0.12941176 0.09411765 0.09803922]]\n",
            "\n",
            "  [[0.15686275 0.15686275 0.23529412]\n",
            "   [0.1372549  0.07058824 0.07058824]\n",
            "   [0.14509804 0.09411765 0.09411765]\n",
            "   ...\n",
            "   [0.1254902  0.08627451 0.09019608]\n",
            "   [0.10588235 0.07058824 0.0745098 ]\n",
            "   [0.10980392 0.07843137 0.08235294]]\n",
            "\n",
            "  [[0.16470588 0.15294118 0.21176471]\n",
            "   [0.17254902 0.10588235 0.11372549]\n",
            "   [0.18039216 0.13333333 0.12941176]\n",
            "   ...\n",
            "   [0.10980392 0.0745098  0.07843137]\n",
            "   [0.09411765 0.06666667 0.06666667]\n",
            "   [0.10196078 0.07843137 0.07843137]]\n",
            "\n",
            "  ...\n",
            "\n",
            "  [[0.74509804 0.69411765 0.71764706]\n",
            "   [0.7372549  0.68627451 0.70196078]\n",
            "   [0.72941176 0.68235294 0.69019608]\n",
            "   ...\n",
            "   [0.56470588 0.55686275 0.60784314]\n",
            "   [0.76470588 0.72941176 0.74901961]\n",
            "   [0.81568627 0.77254902 0.78823529]]\n",
            "\n",
            "  [[0.74117647 0.69019608 0.72156863]\n",
            "   [0.73333333 0.68235294 0.70196078]\n",
            "   [0.7372549  0.69019608 0.70588235]\n",
            "   ...\n",
            "   [0.74117647 0.71372549 0.72941176]\n",
            "   [0.77647059 0.73333333 0.74901961]\n",
            "   [0.78431373 0.72941176 0.74901961]]\n",
            "\n",
            "  [[0.74509804 0.69411765 0.7254902 ]\n",
            "   [0.7372549  0.68627451 0.70980392]\n",
            "   [0.74509804 0.69803922 0.70980392]\n",
            "   ...\n",
            "   [0.76470588 0.72156863 0.73333333]\n",
            "   [0.76470588 0.71764706 0.74117647]\n",
            "   [0.77254902 0.72156863 0.74901961]]]\n",
            "\n",
            "\n",
            " [[[0.3254902  0.46666667 0.33333333]\n",
            "   [0.41960784 0.56862745 0.38039216]\n",
            "   [0.32156863 0.46666667 0.28627451]\n",
            "   ...\n",
            "   [0.3372549  0.28627451 0.25098039]\n",
            "   [0.47058824 0.36862745 0.31764706]\n",
            "   [0.54117647 0.48627451 0.35686275]]\n",
            "\n",
            "  [[0.19607843 0.30980392 0.21176471]\n",
            "   [0.29411765 0.42745098 0.31372549]\n",
            "   [0.31372549 0.42352941 0.29803922]\n",
            "   ...\n",
            "   [0.39607843 0.38823529 0.32941176]\n",
            "   [0.38039216 0.36862745 0.29019608]\n",
            "   [0.37254902 0.41568627 0.27843137]]\n",
            "\n",
            "  [[0.19215686 0.31372549 0.21960784]\n",
            "   [0.20392157 0.30196078 0.21568627]\n",
            "   [0.32941176 0.42745098 0.30588235]\n",
            "   ...\n",
            "   [0.43921569 0.50196078 0.38431373]\n",
            "   [0.36078431 0.38039216 0.30196078]\n",
            "   [0.34117647 0.3372549  0.25490196]]\n",
            "\n",
            "  ...\n",
            "\n",
            "  [[0.49019608 0.61568627 0.46666667]\n",
            "   [0.54117647 0.6745098  0.47843137]\n",
            "   [0.58823529 0.6745098  0.49019608]\n",
            "   ...\n",
            "   [0.5372549  0.66666667 0.4745098 ]\n",
            "   [0.63529412 0.74117647 0.6       ]\n",
            "   [0.59607843 0.73333333 0.53333333]]\n",
            "\n",
            "  [[0.56862745 0.63921569 0.55294118]\n",
            "   [0.58431373 0.69019608 0.58431373]\n",
            "   [0.5254902  0.61960784 0.49411765]\n",
            "   ...\n",
            "   [0.61960784 0.78823529 0.47058824]\n",
            "   [0.68627451 0.80784314 0.6       ]\n",
            "   [0.66666667 0.78431373 0.65098039]]\n",
            "\n",
            "  [[0.62352941 0.7254902  0.56862745]\n",
            "   [0.54509804 0.66666667 0.54509804]\n",
            "   [0.45490196 0.62352941 0.46666667]\n",
            "   ...\n",
            "   [0.57647059 0.75294118 0.41176471]\n",
            "   [0.78039216 0.8627451  0.7254902 ]\n",
            "   [0.81568627 0.8627451  0.78823529]]]\n",
            "\n",
            "\n",
            " [[[0.90196078 0.78823529 0.85882353]\n",
            "   [0.90196078 0.80392157 0.86666667]\n",
            "   [0.91372549 0.81960784 0.88627451]\n",
            "   ...\n",
            "   [0.87843137 0.79607843 0.88627451]\n",
            "   [0.85490196 0.77254902 0.8627451 ]\n",
            "   [0.83921569 0.74117647 0.83921569]]\n",
            "\n",
            "  [[0.91764706 0.8        0.87058824]\n",
            "   [0.92156863 0.81568627 0.8745098 ]\n",
            "   [0.9372549  0.83137255 0.88627451]\n",
            "   ...\n",
            "   [0.89803922 0.8        0.88235294]\n",
            "   [0.87843137 0.78039216 0.86666667]\n",
            "   [0.85882353 0.75686275 0.85490196]]\n",
            "\n",
            "  [[0.92156863 0.80784314 0.8627451 ]\n",
            "   [0.9254902  0.81960784 0.87058824]\n",
            "   [0.94117647 0.83529412 0.88235294]\n",
            "   ...\n",
            "   [0.90980392 0.80784314 0.88627451]\n",
            "   [0.90196078 0.78823529 0.8745098 ]\n",
            "   [0.87843137 0.77254902 0.8627451 ]]\n",
            "\n",
            "  ...\n",
            "\n",
            "  [[0.37647059 0.29019608 0.34901961]\n",
            "   [0.36078431 0.29019608 0.35294118]\n",
            "   [0.35686275 0.29803922 0.35686275]\n",
            "   ...\n",
            "   [0.35294118 0.29019608 0.34901961]\n",
            "   [0.34509804 0.28235294 0.34509804]\n",
            "   [0.34117647 0.2745098  0.3372549 ]]\n",
            "\n",
            "  [[0.31764706 0.2745098  0.3254902 ]\n",
            "   [0.30980392 0.27058824 0.32156863]\n",
            "   [0.31764706 0.27843137 0.32941176]\n",
            "   ...\n",
            "   [0.31764706 0.2627451  0.32941176]\n",
            "   [0.31372549 0.25490196 0.32156863]\n",
            "   [0.30196078 0.25098039 0.31372549]]\n",
            "\n",
            "  [[0.28627451 0.25490196 0.30980392]\n",
            "   [0.2745098  0.24313725 0.29803922]\n",
            "   [0.28627451 0.25098039 0.30196078]\n",
            "   ...\n",
            "   [0.28627451 0.24313725 0.31764706]\n",
            "   [0.28235294 0.23529412 0.30980392]\n",
            "   [0.26666667 0.23137255 0.30196078]]]]\n",
            "y_train  [[0. 0. 0. ... 0. 0. 0.]\n",
            " [0. 0. 0. ... 0. 0. 1.]\n",
            " [0. 0. 0. ... 0. 0. 1.]\n",
            " ...\n",
            " [0. 0. 0. ... 0. 0. 1.]\n",
            " [0. 1. 0. ... 0. 0. 0.]\n",
            " [0. 1. 0. ... 0. 0. 0.]]\n",
            "y_train_small  [[0. 1. 0. ... 0. 0. 0.]\n",
            " [0. 0. 0. ... 0. 0. 0.]\n",
            " [0. 0. 0. ... 0. 0. 0.]\n",
            " ...\n",
            " [0. 0. 0. ... 0. 1. 0.]\n",
            " [0. 0. 0. ... 1. 0. 0.]\n",
            " [0. 0. 0. ... 0. 0. 0.]]\n",
            "y_test  [[0. 0. 0. ... 0. 0. 0.]\n",
            " [0. 0. 0. ... 0. 1. 0.]\n",
            " [0. 0. 0. ... 0. 1. 0.]\n",
            " ...\n",
            " [0. 0. 0. ... 0. 0. 0.]\n",
            " [0. 1. 0. ... 0. 0. 0.]\n",
            " [0. 0. 0. ... 1. 0. 0.]]\n",
            "y_test_small  [[0. 0. 1. ... 0. 0. 0.]\n",
            " [0. 0. 0. ... 0. 0. 0.]\n",
            " [0. 0. 0. ... 1. 0. 0.]\n",
            " ...\n",
            " [0. 1. 0. ... 0. 0. 0.]\n",
            " [0. 0. 0. ... 0. 0. 0.]\n",
            " [0. 0. 0. ... 0. 1. 0.]]\n"
          ]
        }
      ]
    },
    {
      "cell_type": "code",
      "metadata": {
        "id": "zezZvjnfpy_I"
      },
      "source": [
        "#Il faut normaliser les photos les chiffre entre [0, 1]: car les données sont sous forma de matrice \n",
        "X_train = X_train/255.0\n",
        "X_test  = X_test/255.0"
      ],
      "execution_count": null,
      "outputs": []
    },
    {
      "cell_type": "code",
      "metadata": {
        "colab": {
          "base_uri": "https://localhost:8080/"
        },
        "id": "nBH-6Fx8PVzZ",
        "outputId": "e437354b-6d03-45a8-b818-62fb2b81261d"
      },
      "source": [
        "#le nbre des images:50000\n",
        "#la taille image: 32, 32\n",
        "#code couleur:3\n",
        "print(X_train.shape)\n",
        "print(X_train.shape[1:])"
      ],
      "execution_count": null,
      "outputs": [
        {
          "output_type": "stream",
          "name": "stdout",
          "text": [
            "(50000, 32, 32, 3)\n",
            "(32, 32, 3)\n"
          ]
        }
      ]
    },
    {
      "cell_type": "markdown",
      "metadata": {
        "id": "ke9YJk7MVj04"
      },
      "source": [
        "## 2. Iterate on your CNN architecture using your small training set\n",
        "\n",
        "\n",
        "❓ **Question** ❓ Your turn to shine!\n",
        "\n",
        "- Define the CNN architecture of your choice in a method `initialize_model()`\n",
        "- Compile your model in a method `compile_model()`:\n",
        "- Fit it on your **small** training set **only**\n",
        "- Store the output of the fit in an `history` variable\n",
        "- Try a first model yourself, before looking at PRO TIPS below\n",
        " \n",
        "<details>\n",
        "    <summary> 🆘 PRO TIPS 🆘  </summary>\n",
        "\n",
        "\n",
        "- Do not forget to add the input shape of your data to the first layer: it has 3 colors\n",
        "- Start simple, complexify after few trials to get better results\n",
        "- The task is complex: Try at least 3 or 4 convolutions\n",
        "- Kernel size do not need to be large for such small picture resolution!\n",
        "- Add some Maxpooling (but not too much else the activation \"image\" will become too small)\n",
        "- Keep padding = 'same' and 'stride' = (1,1) to start with.\n",
        "- Once your model overfits, try adding some dropout layer to regularize the network. A good tip is too increase dropout strengh as you move closer to the output, so as not to overfit on your end-result\n",
        "- Images are so small, that you can use larger batch size (32 or 64) to benefit from even more GPU parallelization\n",
        "</details>\n"
      ]
    },
    {
      "cell_type": "code",
      "metadata": {
        "id": "GNOtE5xhVj04",
        "colab": {
          "base_uri": "https://localhost:8080/"
        },
        "outputId": "64c6e864-6e9b-42f2-b5a8-ffc39d1a5b3b"
      },
      "source": [
        "'''instanciate and return the CNN architecture of your choice with less than 150,000 params'''\n",
        "\n",
        "#Creation du modele: Creer la photo\n",
        "#model = Sequential()\n",
        "def initialize_model():\n",
        "  #Initialiser le model\n",
        "  model = Sequential()\n",
        "  #creer le reseau de neurone convolutionnel\n",
        "  #1couche de convolution: Conv2D(256:nbre de filtre, taille de filtre(3,3))\n",
        "  model.add(Conv2D(256, (3,3), input_shape = X_train.shape[1:]))\n",
        "  #rajouter une fonction d'activation\n",
        "  model.add(Activation('relu'))\n",
        "  #creer la convolution ; spacifier la taille du pool(partie maximale):pool_size=(2,2)\n",
        "  model.add(MaxPooling2D(pool_size=(2,2)))\n",
        "  #partie flatting: mettre sous forme d'une seule ligne(aligne la df) ou colonne\n",
        "  #Laisse vider pour permettre au reseau de premdre forme soit meme\n",
        "  model.add(Flatten())\n",
        "  #Comportement connecte : rejoute un reseau de neuronne normal comme cas de Exercice2 botton housing)\n",
        "  #On a mis une couche de 64 noeuds\n",
        "  model.add(Dense(64))\n",
        "  #couche pour la sortie : savoir combien de noeuds= les types dans la data set\n",
        "  model.add(Dense(10))\n",
        "  #En fin la fonction d'activation\n",
        "  model.add(Activation('sigmoid'))\n",
        " \n",
        "  #Synthese du model\n",
        "  model.summary() \n",
        "  return model\n",
        "models = inicialization()"
      ],
      "execution_count": null,
      "outputs": [
        {
          "output_type": "stream",
          "name": "stdout",
          "text": [
            "Model: \"sequential_1\"\n",
            "_________________________________________________________________\n",
            " Layer (type)                Output Shape              Param #   \n",
            "=================================================================\n",
            " conv2d_1 (Conv2D)           (None, 30, 30, 256)       7168      \n",
            "                                                                 \n",
            " activation_2 (Activation)   (None, 30, 30, 256)       0         \n",
            "                                                                 \n",
            " max_pooling2d_1 (MaxPooling  (None, 15, 15, 256)      0         \n",
            " 2D)                                                             \n",
            "                                                                 \n",
            " flatten_1 (Flatten)         (None, 57600)             0         \n",
            "                                                                 \n",
            " dense_2 (Dense)             (None, 64)                3686464   \n",
            "                                                                 \n",
            " dense_3 (Dense)             (None, 10)                650       \n",
            "                                                                 \n",
            " activation_3 (Activation)   (None, 10)                0         \n",
            "                                                                 \n",
            "=================================================================\n",
            "Total params: 3,694,282\n",
            "Trainable params: 3,694,282\n",
            "Non-trainable params: 0\n",
            "_________________________________________________________________\n"
          ]
        }
      ]
    },
    {
      "cell_type": "code",
      "metadata": {
        "id": "7C9AL4uBT2Iq",
        "colab": {
          "base_uri": "https://localhost:8080/"
        },
        "outputId": "133bd94d-2210-434d-d835-f40f8c52bbbb"
      },
      "source": [
        " '''return a compiled model suited for the cifar tasks'''\n",
        "#fonction de perte ou precision(CAS CNN) : on a plusieurs cathegories('sparse_categarical)\n",
        "#Gerer les poids: optimizer\n",
        "#Gerer la precision\n",
        "def compile_model(models):\n",
        "  models.compile(loss='categorical_crossentropy', optimizer='adam', metrics=['accuracy'])\n",
        "  return models\n",
        "compile_model(models)"
      ],
      "execution_count": 35,
      "outputs": [
        {
          "output_type": "execute_result",
          "data": {
            "text/plain": [
              "<keras.engine.sequential.Sequential at 0x7ff42a8a9110>"
            ]
          },
          "metadata": {},
          "execution_count": 35
        }
      ]
    },
    {
      "cell_type": "code",
      "metadata": {
        "colab": {
          "base_uri": "https://localhost:8080/"
        },
        "id": "DaTP7dUg1SKg",
        "outputId": "92b19a88-ea10-4b26-a226-8d635c3d5d6c"
      },
      "source": [
        "type(models)"
      ],
      "execution_count": null,
      "outputs": [
        {
          "output_type": "execute_result",
          "data": {
            "text/plain": [
              "keras.engine.sequential.Sequential"
            ]
          },
          "metadata": {},
          "execution_count": 31
        }
      ]
    },
    {
      "cell_type": "code",
      "metadata": {
        "colab": {
          "base_uri": "https://localhost:8080/"
        },
        "id": "PnnzpeTUpgKw",
        "outputId": "af13a644-561c-4ae1-c681-47e91e962074"
      },
      "source": [
        "#Entrainement du model ou reseau\n",
        "def entrainement(models):\n",
        "  #Vue que la taille de la df est grande : batch_size\n",
        "  #On peut mettre :epoch = 100 pour ameliorer le model\n",
        "  models.fit(X_train, y_train, batch_size=32, epochs = 10)\n",
        "  return models\n",
        "entrainement(models)"
      ],
      "execution_count": 36,
      "outputs": [
        {
          "output_type": "stream",
          "name": "stdout",
          "text": [
            "Epoch 1/10\n",
            "1563/1563 [==============================] - 190s 121ms/step - loss: 2.1007 - accuracy: 0.2414\n",
            "Epoch 2/10\n",
            "1563/1563 [==============================] - 187s 120ms/step - loss: 1.9829 - accuracy: 0.2982\n",
            "Epoch 3/10\n",
            "1563/1563 [==============================] - 197s 126ms/step - loss: 1.9609 - accuracy: 0.3054\n",
            "Epoch 4/10\n",
            "1563/1563 [==============================] - 196s 125ms/step - loss: 1.9498 - accuracy: 0.3066\n",
            "Epoch 5/10\n",
            "1563/1563 [==============================] - 190s 122ms/step - loss: 1.9427 - accuracy: 0.3120\n",
            "Epoch 6/10\n",
            "1563/1563 [==============================] - 189s 121ms/step - loss: 1.9376 - accuracy: 0.3128\n",
            "Epoch 7/10\n",
            "1563/1563 [==============================] - 189s 121ms/step - loss: 1.9336 - accuracy: 0.3153\n",
            "Epoch 8/10\n",
            "1563/1563 [==============================] - 189s 121ms/step - loss: 1.9302 - accuracy: 0.3159\n",
            "Epoch 9/10\n",
            "1563/1563 [==============================] - 190s 121ms/step - loss: 1.9273 - accuracy: 0.3178\n",
            "Epoch 10/10\n",
            "1563/1563 [==============================] - 191s 122ms/step - loss: 1.9233 - accuracy: 0.3185\n"
          ]
        },
        {
          "output_type": "execute_result",
          "data": {
            "text/plain": [
              "<keras.engine.sequential.Sequential at 0x7ff42a8a9110>"
            ]
          },
          "metadata": {},
          "execution_count": 36
        }
      ]
    },
    {
      "cell_type": "code",
      "metadata": {
        "colab": {
          "base_uri": "https://localhost:8080/"
        },
        "id": "LtjA9CRE8V1z",
        "outputId": "f1a03e56-c01c-4e8a-a136-129e57c1b0da"
      },
      "source": [
        "#Entrainement du model ou reseau\n",
        "def entrainement(models):\n",
        "  #Vue que la taille de la df est grande : batch_size\n",
        "  #On peut mettre :epoch = 100 pour ameliorer le model\n",
        "  models.fit(X_train, y_train, batch_size=32, epochs = 2)\n",
        "  return models\n",
        "history = entrainement(models)"
      ],
      "execution_count": 37,
      "outputs": [
        {
          "output_type": "stream",
          "name": "stdout",
          "text": [
            "Epoch 1/2\n",
            "1563/1563 [==============================] - 191s 122ms/step - loss: 1.9209 - accuracy: 0.3201\n",
            "Epoch 2/2\n",
            "1563/1563 [==============================] - 191s 122ms/step - loss: 1.9186 - accuracy: 0.3200\n"
          ]
        }
      ]
    },
    {
      "cell_type": "code",
      "metadata": {
        "colab": {
          "base_uri": "https://localhost:8080/"
        },
        "id": "bGYTDMyYAvks",
        "outputId": "1a3eea13-0fa3-4dd5-f6a4-ac11d93aebb2"
      },
      "source": [
        "score = models.evaluate(X_test_small, y_test_small, verbose=0)\n",
        "print('Test loss', score[0])\n",
        "print('Test accuracy', score[1])"
      ],
      "execution_count": 41,
      "outputs": [
        {
          "output_type": "stream",
          "name": "stdout",
          "text": [
            "Test loss 35.75394821166992\n",
            "Test accuracy 0.08399999886751175\n"
          ]
        }
      ]
    },
    {
      "cell_type": "code",
      "metadata": {
        "colab": {
          "base_uri": "https://localhost:8080/"
        },
        "id": "eFHmGurvBUqE",
        "outputId": "682994e5-e44a-41bf-f9c1-f221668a9989"
      },
      "source": [
        "history= models.evaluate(X_test, y_test, verbose=0)\n",
        "print('Test loss', score[0])\n",
        "print('Test accuracy', score[1])"
      ],
      "execution_count": 44,
      "outputs": [
        {
          "output_type": "stream",
          "name": "stdout",
          "text": [
            "Test loss 1.9090310335159302\n",
            "Test accuracy 0.33090001344680786\n"
          ]
        }
      ]
    },
    {
      "cell_type": "code",
      "metadata": {
        "colab": {
          "base_uri": "https://localhost:8080/"
        },
        "id": "WVaG1MqzBtUd",
        "outputId": "fe293df9-bc61-4cf2-e38c-1be8dec11844"
      },
      "source": [
        "history = models.predict(X_test, verbose=1)"
      ],
      "execution_count": 48,
      "outputs": [
        {
          "output_type": "stream",
          "name": "stdout",
          "text": [
            "313/313 [==============================] - 9s 28ms/step\n"
          ]
        }
      ]
    },
    {
      "cell_type": "markdown",
      "metadata": {
        "id": "YcPQtVjdVj06"
      },
      "source": [
        "❓ **Question** ❓ Run the following function on the previous history (keep the default arguments, these are intended for future plots in the notebook)."
      ]
    },
    {
      "cell_type": "code",
      "metadata": {
        "id": "lIR_L7UfVj06",
        "colab": {
          "base_uri": "https://localhost:8080/",
          "height": 571
        },
        "outputId": "a06249e4-2f5a-4d06-f53c-bd17ece4914a"
      },
      "source": [
        "def plot_history(history, title='', axs=None, exp_name=\"\"):\n",
        "    if axs is not None:\n",
        "        ax1, ax2 = axs\n",
        "    else:\n",
        "        f, (ax1, ax2) = plt.subplots(1, 2, figsize=(12, 4))\n",
        "    \n",
        "    if len(exp_name) > 0 and exp_name[0] != '_':\n",
        "        exp_name = '_' + exp_name\n",
        "    ax1.plot(history.history['loss'], label='train' + exp_name)\n",
        "    ax1.plot(history.history['val_loss'], label='val' + exp_name)\n",
        "    ax1.set_ylim(0., 2.2)\n",
        "    ax1.set_title('loss')\n",
        "    ax1.legend()\n",
        "\n",
        "    ax2.plot(history.history['accuracy'], label='train accuracy'  + exp_name)\n",
        "    ax2.plot(history.history['val_accuracy'], label='val accuracy'  + exp_name)\n",
        "    ax2.set_ylim(0.25, 1.)\n",
        "    ax2.set_title('Accuracy')\n",
        "    ax2.legend()\n",
        "    return (ax1, ax2)\n",
        "plot_history(history, title='', axs=None, exp_name=\"\")    "
      ],
      "execution_count": 49,
      "outputs": [
        {
          "output_type": "error",
          "ename": "AttributeError",
          "evalue": "ignored",
          "traceback": [
            "\u001b[0;31m---------------------------------------------------------------------------\u001b[0m",
            "\u001b[0;31mAttributeError\u001b[0m                            Traceback (most recent call last)",
            "\u001b[0;32m<ipython-input-49-fafb93170d70>\u001b[0m in \u001b[0;36m<module>\u001b[0;34m()\u001b[0m\n\u001b[1;32m     19\u001b[0m     \u001b[0max2\u001b[0m\u001b[0;34m.\u001b[0m\u001b[0mlegend\u001b[0m\u001b[0;34m(\u001b[0m\u001b[0;34m)\u001b[0m\u001b[0;34m\u001b[0m\u001b[0;34m\u001b[0m\u001b[0m\n\u001b[1;32m     20\u001b[0m     \u001b[0;32mreturn\u001b[0m \u001b[0;34m(\u001b[0m\u001b[0max1\u001b[0m\u001b[0;34m,\u001b[0m \u001b[0max2\u001b[0m\u001b[0;34m)\u001b[0m\u001b[0;34m\u001b[0m\u001b[0;34m\u001b[0m\u001b[0m\n\u001b[0;32m---> 21\u001b[0;31m \u001b[0mplot_history\u001b[0m\u001b[0;34m(\u001b[0m\u001b[0mhistory\u001b[0m\u001b[0;34m,\u001b[0m \u001b[0mtitle\u001b[0m\u001b[0;34m=\u001b[0m\u001b[0;34m''\u001b[0m\u001b[0;34m,\u001b[0m \u001b[0maxs\u001b[0m\u001b[0;34m=\u001b[0m\u001b[0;32mNone\u001b[0m\u001b[0;34m,\u001b[0m \u001b[0mexp_name\u001b[0m\u001b[0;34m=\u001b[0m\u001b[0;34m\"\"\u001b[0m\u001b[0;34m)\u001b[0m\u001b[0;34m\u001b[0m\u001b[0;34m\u001b[0m\u001b[0m\n\u001b[0m",
            "\u001b[0;32m<ipython-input-49-fafb93170d70>\u001b[0m in \u001b[0;36mplot_history\u001b[0;34m(history, title, axs, exp_name)\u001b[0m\n\u001b[1;32m      7\u001b[0m     \u001b[0;32mif\u001b[0m \u001b[0mlen\u001b[0m\u001b[0;34m(\u001b[0m\u001b[0mexp_name\u001b[0m\u001b[0;34m)\u001b[0m \u001b[0;34m>\u001b[0m \u001b[0;36m0\u001b[0m \u001b[0;32mand\u001b[0m \u001b[0mexp_name\u001b[0m\u001b[0;34m[\u001b[0m\u001b[0;36m0\u001b[0m\u001b[0;34m]\u001b[0m \u001b[0;34m!=\u001b[0m \u001b[0;34m'_'\u001b[0m\u001b[0;34m:\u001b[0m\u001b[0;34m\u001b[0m\u001b[0;34m\u001b[0m\u001b[0m\n\u001b[1;32m      8\u001b[0m         \u001b[0mexp_name\u001b[0m \u001b[0;34m=\u001b[0m \u001b[0;34m'_'\u001b[0m \u001b[0;34m+\u001b[0m \u001b[0mexp_name\u001b[0m\u001b[0;34m\u001b[0m\u001b[0;34m\u001b[0m\u001b[0m\n\u001b[0;32m----> 9\u001b[0;31m     \u001b[0max1\u001b[0m\u001b[0;34m.\u001b[0m\u001b[0mplot\u001b[0m\u001b[0;34m(\u001b[0m\u001b[0mhistory\u001b[0m\u001b[0;34m.\u001b[0m\u001b[0mhistory\u001b[0m\u001b[0;34m[\u001b[0m\u001b[0;34m'loss'\u001b[0m\u001b[0;34m]\u001b[0m\u001b[0;34m,\u001b[0m \u001b[0mlabel\u001b[0m\u001b[0;34m=\u001b[0m\u001b[0;34m'train'\u001b[0m \u001b[0;34m+\u001b[0m \u001b[0mexp_name\u001b[0m\u001b[0;34m)\u001b[0m\u001b[0;34m\u001b[0m\u001b[0;34m\u001b[0m\u001b[0m\n\u001b[0m\u001b[1;32m     10\u001b[0m     \u001b[0max1\u001b[0m\u001b[0;34m.\u001b[0m\u001b[0mplot\u001b[0m\u001b[0;34m(\u001b[0m\u001b[0mhistory\u001b[0m\u001b[0;34m.\u001b[0m\u001b[0mhistory\u001b[0m\u001b[0;34m[\u001b[0m\u001b[0;34m'val_loss'\u001b[0m\u001b[0;34m]\u001b[0m\u001b[0;34m,\u001b[0m \u001b[0mlabel\u001b[0m\u001b[0;34m=\u001b[0m\u001b[0;34m'val'\u001b[0m \u001b[0;34m+\u001b[0m \u001b[0mexp_name\u001b[0m\u001b[0;34m)\u001b[0m\u001b[0;34m\u001b[0m\u001b[0;34m\u001b[0m\u001b[0m\n\u001b[1;32m     11\u001b[0m     \u001b[0max1\u001b[0m\u001b[0;34m.\u001b[0m\u001b[0mset_ylim\u001b[0m\u001b[0;34m(\u001b[0m\u001b[0;36m0.\u001b[0m\u001b[0;34m,\u001b[0m \u001b[0;36m2.2\u001b[0m\u001b[0;34m)\u001b[0m\u001b[0;34m\u001b[0m\u001b[0;34m\u001b[0m\u001b[0m\n",
            "\u001b[0;31mAttributeError\u001b[0m: 'numpy.ndarray' object has no attribute 'history'"
          ]
        },
        {
          "output_type": "display_data",
          "data": {
            "image/png": "[encoded data removed]",
            "text/plain": [
              "<Figure size 864x288 with 2 Axes>"
            ]
          },
          "metadata": {}
        }
      ]
    },
    {
      "cell_type": "markdown",
      "metadata": {
        "id": "OR7l9LxMVj07"
      },
      "source": [
        "❓ **Question** ❓ Evaluate your model on the test data and compare it with baseline. Are you satisfied with these performances ? Look at PRO TIPS above and iterate a bit if you want to improve!"
      ]
    },
    {
      "cell_type": "code",
      "metadata": {
        "id": "WwnwvmV5Vj08",
        "tags": [
          "challengify"
        ]
      },
      "source": [
        "# YOUR CODE HERE"
      ],
      "execution_count": null,
      "outputs": []
    },
    {
      "cell_type": "markdown",
      "metadata": {
        "id": "z7P9y-LwVjdx"
      },
      "source": [
        "## 3. Increase data size"
      ]
    },
    {
      "cell_type": "markdown",
      "metadata": {
        "id": "UMHH_qsbVT_0"
      },
      "source": [
        "❓ **Question** ❓ Now that your model fits on a small subsample, try to fit it on the full dataset and notice how performance increases. \n",
        "\n",
        "🚨 **Make sure to use GPU acceleration** by clicking on `\"Runtime --> Change runtime --> GPU\"` if you are on Colab. \n",
        "\n",
        "💡 Training neural network on images (in each batch) can be parallelized, and this parallelization procedure can be done on GPU.\n"
      ]
    },
    {
      "cell_type": "code",
      "metadata": {
        "id": "pWHicYsosW6o"
      },
      "source": [
        "# YOUR CODE HERE"
      ],
      "execution_count": null,
      "outputs": []
    },
    {
      "cell_type": "markdown",
      "metadata": {
        "id": "wk8ZZVunVj08"
      },
      "source": [
        "## 4. Data augmentation\n",
        "\n",
        "☝️ It seems that adding pictures greatly improves model performance! Welcome to the Deep Learning paradigm, where big data does make a difference.\n",
        "\n",
        "To easily improve the accuracy of a model without much work, we can generate new data: the _data augmentation_. This widely used technique consists in applying little transformation to input images without changing its label, as mirroring, cropping, intensity changes, etc. The improved performance simply results from the Neural network training with more different data.\n",
        "\n",
        "The natural way to generate these new images is to apply some transformations and train the model on the original and new images. However, such procedure requires to keep all these images in memory : it can be very intensive, to the point that your computer memory cannot hold any new image (your computer might even crash).\n",
        "\n",
        "For this reason, we will augment the data **on the fly** (batch per batch), meaning that we will create new data, use them to fit the model, then delete them. Here, Keras is our friend as it provides the utils to do all this job for us. Look at the following code : the general writing can seem odd but don't be panicked: just look at the function arguments that defines the augmentation techniques that we will use and that you can check in the  [documentation](https://www.tensorflow.org/api_docs/python/tf/keras/preprocessing/image/ImageDataGenerator)."
      ]
    },
    {
      "cell_type": "code",
      "metadata": {
        "ExecuteTime": {
          "end_time": "2021-04-28T17:30:44.981000Z",
          "start_time": "2021-04-28T17:30:43.704837Z"
        },
        "id": "DlOpbos5Vj09",
        "scrolled": false,
        "colab": {
          "base_uri": "https://localhost:8080/"
        },
        "outputId": "1b43c3f8-7b39-4f65-ac04-a8a73f32e66d"
      },
      "source": [
        "from tensorflow.keras.preprocessing.image import ImageDataGenerator\n",
        "\n",
        "datagen = ImageDataGenerator(\n",
        "    featurewise_center=False,\n",
        "    featurewise_std_normalization=False,\n",
        "    rotation_range=10,\n",
        "    width_shift_range=0.1,\n",
        "    height_shift_range=0.1,\n",
        "    horizontal_flip=True,\n",
        "    zoom_range=(0.8, 1.2),\n",
        "    ) \n",
        "\n",
        "datagen.fit(X_train)\n",
        "datagen"
      ],
      "execution_count": 50,
      "outputs": [
        {
          "output_type": "execute_result",
          "data": {
            "text/plain": [
              "<keras.preprocessing.image.ImageDataGenerator at 0x7ff42c074890>"
            ]
          },
          "metadata": {},
          "execution_count": 50
        }
      ]
    },
    {
      "cell_type": "code",
      "metadata": {
        "ExecuteTime": {
          "end_time": "2021-04-28T17:30:45.856304Z",
          "start_time": "2021-04-28T17:30:45.471890Z"
        },
        "id": "Zcl17dW1aA0G",
        "colab": {
          "base_uri": "https://localhost:8080/"
        },
        "outputId": "73d8fcad-5f57-4a07-aba9-555952c879fc"
      },
      "source": [
        "X_augmented_iterator = datagen.flow(X_train, shuffle=False, batch_size=1)\n",
        "X_augmented_iterator"
      ],
      "execution_count": 51,
      "outputs": [
        {
          "output_type": "execute_result",
          "data": {
            "text/plain": [
              "<keras.preprocessing.image.NumpyArrayIterator at 0x7ff42c06c050>"
            ]
          },
          "metadata": {},
          "execution_count": 51
        }
      ]
    },
    {
      "cell_type": "markdown",
      "metadata": {
        "id": "RdMqg8grVj09"
      },
      "source": [
        "💡 Always visualize your data augmentation in order to double check that you can still recognize the label yourself!"
      ]
    },
    {
      "cell_type": "code",
      "metadata": {
        "id": "IsqMF0adVj09",
        "scrolled": true,
        "colab": {
          "base_uri": "https://localhost:8080/",
          "height": 1000
        },
        "outputId": "dce5be80-fbe7-4978-f168-db0659196018"
      },
      "source": [
        "import numpy as np\n",
        "\n",
        "for i, (raw_image, augmented_image) in enumerate(zip(X_train, X_augmented_iterator)):\n",
        "    _, (ax1, ax2) = plt.subplots(1, 2, figsize=(6, 2))\n",
        "    ax1.imshow(raw_image)\n",
        "    ax2.imshow(augmented_image[0])\n",
        "    plt.show()\n",
        "    \n",
        "    if i > 10:\n",
        "        break"
      ],
      "execution_count": 52,
      "outputs": [
        {
          "output_type": "display_data",
          "data": {
            "image/png": "[encoded data removed]",
            "text/plain": [
              "<Figure size 432x144 with 2 Axes>"
            ]
          },
          "metadata": {}
        },
        {
          "output_type": "display_data",
          "data": {
            "image/png": "[encoded data removed]",
            "text/plain": [
              "<Figure size 432x144 with 2 Axes>"
            ]
          },
          "metadata": {}
        },
        {
          "output_type": "display_data",
          "data": {
            "image/png": "[encoded data removed]",
            "text/plain": [
              "<Figure size 432x144 with 2 Axes>"
            ]
          },
          "metadata": {}
        },
        {
          "output_type": "display_data",
          "data": {
            "image/png": "[encoded data removed]",
            "text/plain": [
              "<Figure size 432x144 with 2 Axes>"
            ]
          },
          "metadata": {}
        },
        {
          "output_type": "display_data",
          "data": {
            "image/png": "[encoded data removed]",
            "text/plain": [
              "<Figure size 432x144 with 2 Axes>"
            ]
          },
          "metadata": {}
        },
        {
          "output_type": "display_data",
          "data": {
            "image/png": "[encoded data removed]",
            "text/plain": [
              "<Figure size 432x144 with 2 Axes>"
            ]
          },
          "metadata": {}
        },
        {
          "output_type": "display_data",
          "data": {
            "image/png": "[encoded data removed]",
            "text/plain": [
              "<Figure size 432x144 with 2 Axes>"
            ]
          },
          "metadata": {}
        },
        {
          "output_type": "display_data",
          "data": {
            "image/png": "[encoded data removed]",
            "text/plain": [
              "<Figure size 432x144 with 2 Axes>"
            ]
          },
          "metadata": {}
        },
        {
          "output_type": "display_data",
          "data": {
            "image/png": "[encoded data removed]",
            "text/plain": [
              "<Figure size 432x144 with 2 Axes>"
            ]
          },
          "metadata": {}
        },
        {
          "output_type": "display_data",
          "data": {
            "image/png": "[encoded data removed]",
            "text/plain": [
              "<Figure size 432x144 with 2 Axes>"
            ]
          },
          "metadata": {}
        },
        {
          "output_type": "display_data",
          "data": {
            "image/png": "[encoded data removed]",
            "text/plain": [
              "<Figure size 432x144 with 2 Axes>"
            ]
          },
          "metadata": {}
        },
        {
          "output_type": "display_data",
          "data": {
            "image/png": "[encoded data removed]",
            "text/plain": [
              "<Figure size 432x144 with 2 Axes>"
            ]
          },
          "metadata": {}
        }
      ]
    },
    {
      "cell_type": "markdown",
      "metadata": {
        "id": "LyLlJQrKVj09"
      },
      "source": [
        "❗ **Remark** ❗ In this example, there is one augmented image per initial image. In fact, when your model will use `datagen.flow` in the `fit`, it will create one augmentation per epochs! Indeed, the images in the original dataset will not be provided to the optimizer, only augmented ones instead. (But because the augmentations are performed randomly, this allows both modified images and some very close of the originals).\n",
        "\n",
        "❓ **Question** ❓ Take time to understand the cell below: Previously, we used the `validation_split` argument to let the model separate a training set from the validation one. It is not possible here as **using an image in the training set and its transformation in the validation set is considered as a data leakage**. Therefore, we have to manually define the `validation_data` with the following commands:\n"
      ]
    },
    {
      "cell_type": "code",
      "metadata": {
        "id": "lYOkY7LOVj09",
        "colab": {
          "base_uri": "https://localhost:8080/"
        },
        "outputId": "3342bdc7-cd7a-4900-a257-db8658afbc10"
      },
      "source": [
        "from tensorflow.keras.callbacks import EarlyStopping\n",
        "\n",
        "# The model\n",
        "model_aug = initialize_model()\n",
        "model_aug = compile_model(model_aug)\n",
        "\n",
        "# The data generator\n",
        "X_tr = X_train[:40000]\n",
        "y_tr = y_train[:40000]\n",
        "X_val = X_train[40000:]\n",
        "y_val = y_train[40000:]\n",
        "train_flow = datagen.flow(X_tr, y_tr, batch_size=64)\n",
        "\n",
        "# The early stopping criterion\n",
        "es = EarlyStopping(patience=3)\n",
        "\n",
        "# The fit\n",
        "history_aug = model_aug.fit(train_flow, \n",
        "                        epochs=50, \n",
        "                        callbacks=[es], \n",
        "                        validation_data=(X_val, y_val))\n"
      ],
      "execution_count": null,
      "outputs": [
        {
          "output_type": "stream",
          "name": "stdout",
          "text": [
            "Model: \"sequential_2\"\n",
            "_________________________________________________________________\n",
            " Layer (type)                Output Shape              Param #   \n",
            "=================================================================\n",
            " conv2d_2 (Conv2D)           (None, 30, 30, 256)       7168      \n",
            "                                                                 \n",
            " activation_4 (Activation)   (None, 30, 30, 256)       0         \n",
            "                                                                 \n",
            " max_pooling2d_2 (MaxPooling  (None, 15, 15, 256)      0         \n",
            " 2D)                                                             \n",
            "                                                                 \n",
            " flatten_2 (Flatten)         (None, 57600)             0         \n",
            "                                                                 \n",
            " dense_4 (Dense)             (None, 64)                3686464   \n",
            "                                                                 \n",
            " dense_5 (Dense)             (None, 10)                650       \n",
            "                                                                 \n",
            " activation_5 (Activation)   (None, 10)                0         \n",
            "                                                                 \n",
            "=================================================================\n",
            "Total params: 3,694,282\n",
            "Trainable params: 3,694,282\n",
            "Non-trainable params: 0\n",
            "_________________________________________________________________\n",
            "Epoch 1/50\n",
            "625/625 [==============================] - 163s 260ms/step - loss: 2.1450 - accuracy: 0.2148 - val_loss: 2.0191 - val_accuracy: 0.2856\n",
            "Epoch 2/50\n",
            "625/625 [==============================] - 157s 251ms/step - loss: 1.9942 - accuracy: 0.2926 - val_loss: 1.9307 - val_accuracy: 0.3167\n",
            "Epoch 3/50\n",
            "625/625 [==============================] - 157s 251ms/step - loss: 1.8974 - accuracy: 0.3303 - val_loss: 1.8168 - val_accuracy: 0.3568\n",
            "Epoch 4/50\n",
            "625/625 [==============================] - 160s 256ms/step - loss: 1.8477 - accuracy: 0.3482 - val_loss: 1.7881 - val_accuracy: 0.3770\n",
            "Epoch 5/50\n",
            "625/625 [==============================] - 151s 241ms/step - loss: 1.8156 - accuracy: 0.3602 - val_loss: 1.7324 - val_accuracy: 0.3974\n",
            "Epoch 6/50\n",
            "625/625 [==============================] - 150s 240ms/step - loss: 1.7834 - accuracy: 0.3739 - val_loss: 1.7261 - val_accuracy: 0.3960\n",
            "Epoch 7/50\n",
            "625/625 [==============================] - 150s 241ms/step - loss: 1.7604 - accuracy: 0.3835 - val_loss: 1.6904 - val_accuracy: 0.4119\n",
            "Epoch 8/50\n",
            "625/625 [==============================] - 150s 240ms/step - loss: 1.7406 - accuracy: 0.3870 - val_loss: 1.7240 - val_accuracy: 0.3951\n",
            "Epoch 9/50\n",
            "625/625 [==============================] - 150s 240ms/step - loss: 1.7272 - accuracy: 0.3925 - val_loss: 1.6492 - val_accuracy: 0.4210\n",
            "Epoch 10/50\n",
            "625/625 [==============================] - 150s 240ms/step - loss: 1.7141 - accuracy: 0.3971 - val_loss: 1.6488 - val_accuracy: 0.4265\n",
            "Epoch 11/50\n",
            "625/625 [==============================] - 150s 239ms/step - loss: 1.7028 - accuracy: 0.4004 - val_loss: 1.6243 - val_accuracy: 0.4307\n",
            "Epoch 12/50\n",
            "625/625 [==============================] - 149s 239ms/step - loss: 1.7015 - accuracy: 0.4031 - val_loss: 1.6223 - val_accuracy: 0.4320\n",
            "Epoch 13/50\n",
            "606/625 [============================>.] - ETA: 4s - loss: 1.6931 - accuracy: 0.4028"
          ]
        }
      ]
    },
    {
      "cell_type": "markdown",
      "metadata": {
        "id": "NmQ9t_cMVj0-"
      },
      "source": [
        "❗️❗️ Remark ❗️❗️: The training can be quite long here. Don't hesitate to go to the next exercise and gome back once in a while to finish the last questions\n",
        "\n",
        "❓ **Question** ❓ Now, let's plot the previous and current run histories. What do you think of the data augmentation?\n"
      ]
    },
    {
      "cell_type": "code",
      "metadata": {
        "id": "o9r4Fau2Vj0-",
        "tags": [
          "challengify"
        ]
      },
      "source": [
        "# YOUR CODE HERE"
      ],
      "execution_count": null,
      "outputs": []
    },
    {
      "cell_type": "markdown",
      "metadata": {
        "id": "Jm055RyNVj0-"
      },
      "source": [
        "💡 Data augmentation may not improve your performance easily. It strongly depends on the model architecture you used, the learning rate, the type of augmentation chosen, etc...Image classification is an art that takes lots of practice to master!\n",
        "\n",
        "🚨 **Don't spend too much time now trying to finetune your model - you have other interesting challenge ahead**. \n",
        "\n",
        "📚 [here is a good example of solution for future reference](https://machinelearningmastery.com/how-to-develop-a-cnn-from-scratch-for-cifar-10-photo-classification/). They manage to get about 80% accuracy"
      ]
    },
    {
      "cell_type": "markdown",
      "metadata": {
        "id": "Oy4DCYLGVj0-"
      },
      "source": [
        "### 🏁 Congratulation 🏁 \n"
      ]
    },
    {
      "cell_type": "code",
      "metadata": {
        "id": "fkYuyP0_vdl2"
      },
      "source": [
        ""
      ],
      "execution_count": null,
      "outputs": []
    }
  ]
}